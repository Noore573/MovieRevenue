{
 "cells": [
  {
   "cell_type": "code",
   "execution_count": null,
   "id": "c1819e9b",
   "metadata": {},
   "outputs": [],
   "source": [
    "\n",
    "import numpy as np\n",
    "import pandas as pd\n",
    "import matplotlib.pyplot as plt\n",
    "import seaborn as sns\n",
    "import plotly.express as px\n",
    "from collections import defaultdict\n",
    "from collections import Counter\n",
    "from itertools import combinations\n",
    "from nltk.sentiment.vader import SentimentIntensityAnalyzer\n",
    "\n",
    "df = pd.read_csv(r\"C:\\Users\\ASUS\\Downloads\\archive (1)\\movies.csv\")\n",
    "\n"
   ]
  },
  {
   "cell_type": "markdown",
   "id": "86ca144b",
   "metadata": {},
   "source": [
    "<table>\n",
    "    <thead>\n",
    "        <tr>\n",
    "            <th>اسم العمود</th>\n",
    "            <th>الشرح</th>\n",
    "        </tr>\n",
    "    </thead>\n",
    "    <tbody>\n",
    "        <tr>\n",
    "            <td>id</td>\n",
    "            <td>رقم تعريفي فريد لكل فيلم</td>\n",
    "        </tr>\n",
    "        <tr>\n",
    "            <td>title</td>\n",
    "            <td>اسم الفيلم</td>\n",
    "        </tr>\n",
    "        <tr>\n",
    "            <td>genres</td>\n",
    "            <td>تصنيفات الفيلم مفصولة بـ (-) مثل: Action - Science Fiction - Horror</td>\n",
    "        </tr>\n",
    "        <tr>\n",
    "            <td>original_language</td>\n",
    "            <td>اللغة الأصلية للفيلم </td>\n",
    "        </tr>\n",
    "        <tr>\n",
    "            <td>overview</td>\n",
    "            <td>ملخص أو وصف مختصر للفيلم</td>\n",
    "        </tr>\n",
    "        <tr>\n",
    "            <td>popularity</td>\n",
    "            <td>مقياس شهرة الفيلم (قيمة عددية مشتقة من نشاط البحث أو المشاهدة)</td>\n",
    "        </tr>\n",
    "        <tr>\n",
    "            <td>production_companies</td>\n",
    "            <td>أسماء شركات الإنتاج المشاركة، مفصولة بـ (-)</td>\n",
    "        </tr>\n",
    "        <tr>\n",
    "            <td>release_date</td>\n",
    "            <td>تاريخ إصدار الفيلم</td>\n",
    "        </tr>\n",
    "        <tr>\n",
    "            <td>budget</td>\n",
    "            <td>ميزانية الفيلم بالدولار الأمريكي</td>\n",
    "        </tr>\n",
    "        <tr>\n",
    "            <td>revenue</td>\n",
    "            <td>إجمالي الإيرادات التي حققها الفيلم بالدولار الأمريكي</td>\n",
    "        </tr>\n",
    "        <tr>\n",
    "            <td>runtime</td>\n",
    "            <td>مدة عرض الفيلم بالدقائق</td>\n",
    "        </tr>\n",
    "        <tr>\n",
    "            <td>status</td>\n",
    "            <td>حالة الفيلم مثل: Released - Post Production - ..</td>\n",
    "        </tr>\n",
    "        <tr>\n",
    "            <td>tagline</td>\n",
    "            <td>شعار تسويقي للفيلم </td>\n",
    "        </tr>\n",
    "        <tr>\n",
    "            <td>vote_average</td>\n",
    "            <td>متوسط تقييم الفيلم من قبل المستخدمين</td>\n",
    "        </tr>\n",
    "        <tr>\n",
    "            <td>vote_count</td>\n",
    "            <td>عدد الأشخاص الذين قاموا بتقييم الفيلم</td>\n",
    "        </tr>\n",
    "        <tr>\n",
    "            <td>credits</td>\n",
    "            <td>قائمة الممثلين والطاقم، مفصولة بـ (-)</td>\n",
    "        </tr>\n",
    "        <tr>\n",
    "            <td>keywords</td>\n",
    "            <td>كلمات مفتاحية مرتبطة بمحتوى الفيلم، مفصولة بـ (-)</td>\n",
    "        </tr>\n",
    "        <tr>\n",
    "            <td>poster_path</td>\n",
    "            <td>مسار صورة ملصق الفيلم</td>\n",
    "        </tr>\n",
    "        <tr>\n",
    "            <td>backdrop_path</td>\n",
    "            <td>مسار صورة خلفية الفيلمي</td>\n",
    "        </tr>\n",
    "        <tr>\n",
    "            <td>recommendations</td>\n",
    "            <td>قائمة بمعرّفات أفلام أخرى مقترحة، مفصولة بـ (-)</td>\n",
    "        </tr>\n",
    "    </tbody>\n",
    "</table>\n"
   ]
  },
  {
   "cell_type": "markdown",
   "id": "f2eac121",
   "metadata": {},
   "source": [
    "\n",
    "### preprocessing:"
   ]
  },
  {
   "cell_type": "markdown",
   "id": "9dec7829",
   "metadata": {},
   "source": [
    "يوجد في البيانات أفلام بلغات عديدة، منها التركية، اليابانية، الهندية، والإنجليزية، حيث تحتوي قاعدة البيانات على أفلام بـ **167 لغة مختلفة**.\n",
    "\n",
    "لكن، في دراستنا سنقتصر على الأفلام باللغة الإنجليزية فقط، وذلك لضمان دقة وتحليل أكثر عمقًا وموضوعية.\n",
    "\n"
   ]
  },
  {
   "cell_type": "code",
   "execution_count": 2,
   "id": "8128afa7",
   "metadata": {},
   "outputs": [
    {
     "name": "stdout",
     "output_type": "stream",
     "text": [
      "عدد اللغات الأصلية المختلفة هو: 167\n",
      "['en' 'la' 'ko' 'es' 'no' 'cn' 'ja' 'hi' 'fi' 'ru' 'uk' 'nl' 'it' 'zh'\n",
      " 'bn' 'th' 'id' 'is' 'da' 'fr' 'pl' 'te' 'pt' 'de' 'ro' 'tl' 'ta' 'ar'\n",
      " 'el' 'sr' 'sv' 'gl' 'tr' 'vi' 'ml' 'lv' 'cs' 'bs' 'fa' 'ga' 'mk' 'pa'\n",
      " 'eu' 'kn' 'ca' 'xx' 'sh' 'et' 'km' 'gu' 'he' 'hu' 'hr' 'dz' 'ne' 'ka'\n",
      " 'ms' 'mn' 'kk' 'si' 'af' 'sl' 'bo' 'sk' 'wo' 'hy' 'se' 'sq' 'kl' 'su'\n",
      " 'ku' 'eo' 'ur' 'sw' 'mi' 'cy' 'as' 'lt' 'ps' 'mr' 'qu' 'bm' 'rw' 'ay'\n",
      " 'uz' 'bg' 'am' 'lo' 'iu' 'zu' 'os' 'xh' 'ak' 'yi' 'mt' 'yo' 'my' 'ff'\n",
      " 'nb' 'st' 'jv' 'ha' 'gn' 'lb' 'az' 'ky' 'gd' 'or' 'mo' 'ln' 'fo' 'tg'\n",
      " 'tw' 'be' 'sa' 'ug' 'sm' 'an' 'ie' 'rm' 'co' 'nn' 'ti' 'ab' 'fy' 'tk'\n",
      " 'so' 'lg' 'ht' 'ba' 'mg' 'ks' 'ss' 'dv' 'tt' 'ia' 'cr' 'ny' 'ig' 'ce'\n",
      " 'bi' 'ii' 'sn' 'nv' 'mh' 'sg' 'ki' 'za' 'oj' 'to' 'ts' 'om' 'kg' 'rn'\n",
      " 'sd' 'oc' 'kw' 'pi' 'gv' 'av' 'tn' 'cv' 'fj' 'sc' 'ty' 'ch' 'li']\n"
     ]
    }
   ],
   "source": [
    "\n",
    "num_languages = df['original_language'].nunique()\n",
    "print(f\"عدد اللغات الأصلية المختلفة هو: {num_languages}\")\n",
    "languages = df['original_language'].unique()\n",
    "print(languages)\n"
   ]
  },
  {
   "cell_type": "code",
   "execution_count": 3,
   "id": "532aa918",
   "metadata": {},
   "outputs": [],
   "source": [
    "english_movies = df[df['original_language'] == 'en']"
   ]
  },
  {
   "cell_type": "markdown",
   "id": "991d9d1f",
   "metadata": {},
   "source": [
    "حذف الاعمدة التي لن نتطرق لها اثناء تحليل ودراسة : \n"
   ]
  },
  {
   "cell_type": "code",
   "execution_count": 4,
   "id": "f6d7f4a0",
   "metadata": {},
   "outputs": [],
   "source": [
    "\n",
    "english_movies = english_movies.drop(columns=['keywords', 'poster_path', 'backdrop_path','recommendations' ])"
   ]
  },
  {
   "cell_type": "markdown",
   "id": "16e2ad26",
   "metadata": {},
   "source": [
    "نلاحظ وجود عدد كبير من القيم الفارغة في العديد من الأعمدة، حيث أن نسبة القيم المفقودة في بعض الأعمدة تتجاوز **80%**، مما يجعل أي محاولة للتعويض باستخدام تقنيات مثل التقدير أو التنبؤ غير دقيقة، وقد تؤدي إلى نتائج خاطئة    \n",
    "بالإضافة إلى ذلك، هناك نقص كبير في أعمدة مهمة وأساسية مثل:\n",
    "\n",
    "- أسماء الممثلين\n",
    "- تاريخ العرض\n",
    "- مدة العرض\n",
    "- نوع الفيلم\n",
    "\n",
    "لذلك، أي تحليل يعتمد على هذه الأعمدة سيكون غير دقيق"
   ]
  },
  {
   "cell_type": "code",
   "execution_count": 5,
   "id": "227542bd",
   "metadata": {},
   "outputs": [
    {
     "data": {
      "text/plain": [
       "id                           0\n",
       "title                        6\n",
       "genres                  129102\n",
       "original_language            0\n",
       "overview                  7973\n",
       "popularity                   0\n",
       "production_companies    216986\n",
       "release_date             35214\n",
       "budget                       0\n",
       "revenue                      0\n",
       "runtime                  14064\n",
       "status                       0\n",
       "tagline                 292882\n",
       "vote_average                 0\n",
       "vote_count                   0\n",
       "credits                 134654\n",
       "dtype: int64"
      ]
     },
     "execution_count": 5,
     "metadata": {},
     "output_type": "execute_result"
    }
   ],
   "source": [
    "english_movies.isna().sum()"
   ]
  },
  {
   "cell_type": "markdown",
   "id": "c830109f",
   "metadata": {},
   "source": [
    "\n",
    "1. **حذف جميع الصفوف التي تحتوي على قيم فارغة**  \n",
    "   بسبب النسبة العالية جدا للقيم المفقودة في أعمدة حساسة، قمنا بحذف هذه الصفوف بالكامل لضمان الاعتماد فقط على بيانات مكتملة.\n",
    "\n",
    "2. **حذف الصفوف المكررة بشكل كامل مع الاحتفاظ بأول تكرار**  \n",
    "   هذه الخطوة تضمن عدم وجود نسخ مكررة تماماً من نفس الفيلم.\n",
    "\n",
    "3. **حذف التكرار بناءً على عنوان الفيلم وتاريخ عرضه فقط**   \n",
    "   بعض الأفلام قد تُسجل أكثر من مرة بنفس العنوان وتاريخ الإصدار، لذا تم حذف التكرار بناءً على هذين العمودين فقط.\n",
    "### النتيجة:\n",
    "عدد الأفلام المتبقية بعد حذف:  \n",
    "48654\n"
   ]
  },
  {
   "cell_type": "code",
   "execution_count": 6,
   "id": "3d842222",
   "metadata": {},
   "outputs": [
    {
     "data": {
      "text/plain": [
       "48654"
      ]
     },
     "execution_count": 6,
     "metadata": {},
     "output_type": "execute_result"
    }
   ],
   "source": [
    "english_movies = english_movies.dropna()\n",
    "english_movies = english_movies.drop_duplicates(keep='first')\n",
    "english_movies= english_movies.drop_duplicates(subset=['title', 'release_date'])\n",
    "len(english_movies)"
   ]
  },
  {
   "cell_type": "markdown",
   "id": "ee434c41",
   "metadata": {},
   "source": [
    "### شرح حالات حالة الأفلام (status)\n",
    "- **Released (تم الإصدار):**  \n",
    "  الأفلام التي تم الانتهاء منها وتم إصدارها رسميًا للجمهور.  \n",
    "  عددها: 48,620 فيلم  \n",
    "  تمثل أغلب الأفلام في البيانات.\n",
    "\n",
    "- **In Production (قيد الإنتاج):**  \n",
    "  الأفلام التي ما زالت في مرحلة التصوير والإنتاج الفعلي.  \n",
    "  عددها: 19 فيلم  \n",
    "  لم تُكمل بعد مراحل الإنتاج.\n",
    "\n",
    "- **Post Production (ما بعد الإنتاج):**  \n",
    "  الأفلام التي انتهى تصويرها وجاري العمل على المونتاج، المؤثرات، والمراحل النهائية قبل الإصدار.  \n",
    "  عددها: 12 فيلم\n",
    "\n",
    "- **Planned (مخطط لها):**  \n",
    "  الأفلام التي في مرحلة التخطيط فقط، ولم يبدأ تصويرها أو إنتاجها بعد.  \n",
    "  عددها: 3 أفلام\n",
    "واخيرا :\n",
    " البيانات غير متوازنة , يعني الموديل ما رح يتعلم شي فعلي عن الفئات النادرة لأنها:\n",
    "قليلة لدرجة ما تمثل نمط واضح.\n",
    "لذلك سيتم الاحتفاظ فقط بحالة صدرو الفيلم"
   ]
  },
  {
   "cell_type": "code",
   "execution_count": 7,
   "id": "e687fe62",
   "metadata": {},
   "outputs": [
    {
     "name": "stdout",
     "output_type": "stream",
     "text": [
      "4\n",
      "status\n",
      "Released           48620\n",
      "In Production         19\n",
      "Post Production       12\n",
      "Planned                3\n",
      "Name: count, dtype: int64\n"
     ]
    }
   ],
   "source": [
    "unique_status_count = english_movies['status'].nunique()\n",
    "print(unique_status_count)\n",
    "print(english_movies['status'].value_counts())"
   ]
  },
  {
   "cell_type": "code",
   "execution_count": 8,
   "id": "97e9d90c",
   "metadata": {},
   "outputs": [],
   "source": [
    "\n",
    "english_movies = english_movies[english_movies['status'] == 'Released']\n"
   ]
  },
  {
   "cell_type": "markdown",
   "id": "3dbb2216",
   "metadata": {},
   "source": [
    "\n",
    "### حذف افلام يلي مدتها صفر: وهي تم اطلاقها ف هون في غلط بالبيانات كادخال ف يفضل الحذف"
   ]
  },
  {
   "cell_type": "code",
   "execution_count": 9,
   "id": "08e617c4",
   "metadata": {},
   "outputs": [
    {
     "name": "stdout",
     "output_type": "stream",
     "text": [
      "status\n",
      "Released    793\n",
      "Name: count, dtype: int64\n"
     ]
    }
   ],
   "source": [
    "english_movies_zero_runtime = english_movies[english_movies['runtime'] == 0]\n",
    "print(english_movies_zero_runtime['status'].value_counts())\n",
    "english_movies = english_movies[english_movies['runtime'] > 0]\n"
   ]
  },
  {
   "cell_type": "markdown",
   "id": "7e98c6a5",
   "metadata": {},
   "source": [
    "\n",
    "- في **Outliers**  :\n",
    "  - أقصر فيلم: **1 دقيقة فقط**\n",
    "  - أطول فيلم: **960 دقيقة** (يعني 16 ساعة تقريبًا!)\n",
    "- المتوسط العام: **86 دقيقة**\n",
    "- أغلب الأفلام تقع بين:\n",
    "  - **الربع الأول (25%)** = 75 دقيقة\n",
    "  - **الربع الثالث (75%)** = 100 دقيقة\n",
    "\n",
    ": لازم نحذف القيم المتطرفة\n",
    "- نحصر البيانات  بين:\n",
    "  - 15 دقيقة كحد أدنى (منطقي لفيلم قصير)\n",
    "  - 400 دقيقة كحد أقصى (3 ساعات كحد مقبول للأفلام الطويلة)"
   ]
  },
  {
   "cell_type": "code",
   "execution_count": 10,
   "id": "47f0a815",
   "metadata": {},
   "outputs": [
    {
     "data": {
      "text/plain": [
       "count    47827.000000\n",
       "mean        86.207289\n",
       "std         34.644593\n",
       "min          1.000000\n",
       "25%         75.000000\n",
       "50%         90.000000\n",
       "75%        100.000000\n",
       "max        960.000000\n",
       "Name: runtime, dtype: float64"
      ]
     },
     "execution_count": 10,
     "metadata": {},
     "output_type": "execute_result"
    }
   ],
   "source": [
    "english_movies['runtime'].describe()\n"
   ]
  },
  {
   "cell_type": "code",
   "execution_count": 11,
   "id": "9331742f",
   "metadata": {},
   "outputs": [
    {
     "name": "stdout",
     "output_type": "stream",
     "text": [
      "عدد الأفلام مدتها 15 دقيقة: 2356\n",
      "عدد الأفلام مدتها أكثر من 400 دقيقة: 29\n"
     ]
    }
   ],
   "source": [
    "\n",
    "one_minute = english_movies[english_movies['runtime'] < 15]\n",
    "print(f\"عدد الأفلام مدتها 15 دقيقة: {len(one_minute)}\")\n",
    "\n",
    "over_400 = english_movies[english_movies['runtime'] > 400]\n",
    "print(f\"عدد الأفلام مدتها أكثر من 400 دقيقة: {len(over_400)}\")"
   ]
  },
  {
   "cell_type": "markdown",
   "id": "2d0cb7b9",
   "metadata": {},
   "source": [
    "### قبل الحذف بدي شوف ازا بينتمو لنوع محدد بس لا لذلك تم حذف "
   ]
  },
  {
   "cell_type": "code",
   "execution_count": 12,
   "id": "141f8811",
   "metadata": {},
   "outputs": [
    {
     "name": "stdout",
     "output_type": "stream",
     "text": [
      "عدد الأنواع الفريدة لأفلام مدتها دقيقة واحدة: 498\n",
      "['Action-Science Fiction' 'Family-Animation-Comedy'\n",
      " 'Animation-Family-Comedy-Fantasy' 'Animation-Comedy-Fantasy'\n",
      " 'Animation-Comedy-Family-Fantasy'\n",
      " 'Animation-Adventure-Comedy-Family-Science Fiction' 'Comedy'\n",
      " 'Science Fiction-Fantasy' 'Action-Comedy-Fantasy-Thriller'\n",
      " 'Drama-Western-Adventure' 'Family-Fantasy-Animation-Comedy'\n",
      " 'Horror-Mystery' 'Animation-Family-Comedy' 'Animation-Family'\n",
      " 'Animation-Horror' 'Science Fiction-Thriller' 'Horror'\n",
      " 'Science Fiction-Action-Fantasy' 'Documentary-War'\n",
      " 'Science Fiction-Comedy-Fantasy' 'Animation-Fantasy-Comedy' 'Documentary'\n",
      " 'Horror-Comedy' 'Horror-Science Fiction-Thriller' 'Mystery-Horror'\n",
      " 'Drama' 'Drama-Fantasy' 'Drama-Crime-Action' 'Mystery-Thriller'\n",
      " 'Thriller-Horror' 'Adventure-Action-Fantasy' 'Family-Comedy-Animation'\n",
      " 'Action-Adventure-Science Fiction' 'Fantasy-Comedy'\n",
      " 'Animation-Family-Romance' 'Science Fiction-Drama'\n",
      " 'Music-Animation-Comedy-Family' 'Animation-Comedy-Drama-Family'\n",
      " 'Crime-Action-Western' 'Animation' 'Animation-Comedy' 'Animation-Action'\n",
      " 'Drama-Science Fiction-Thriller' 'Animation-Action-Comedy-Family'\n",
      " 'Horror-Music' 'Animation-Adventure-Action-Comedy' 'Animation-Drama'\n",
      " 'Animation-Comedy-Family-Music' 'Action-Animation'\n",
      " 'Action-Animation-TV Movie' 'Documentary-Science Fiction'\n",
      " 'Family-Animation-Romance-Comedy' 'Comedy-Drama' 'Fantasy-Drama'\n",
      " 'Animation-Crime-Horror' 'Comedy-Horror' 'Action' 'Fantasy-Horror'\n",
      " 'Comedy-Horror-Crime-TV Movie' 'Thriller-Action'\n",
      " 'Animation-Drama-Western' 'Science Fiction-Horror'\n",
      " 'TV Movie-Animation-Adventure' 'Comedy-Animation'\n",
      " 'Comedy-Science Fiction-Adventure' 'Comedy-Western'\n",
      " 'TV Movie-Science Fiction-Thriller-Action' 'Comedy-Action'\n",
      " 'Drama-Comedy-Romance' 'Animation-Comedy-Family-Horror-Thriller'\n",
      " 'Comedy-Crime' 'Science Fiction' 'Mystery-Comedy-Romance'\n",
      " 'Animation-Horror-Comedy' 'Adventure-Science Fiction-TV Movie' 'Fantasy'\n",
      " 'Action-Animation-Science Fiction-TV Movie' 'Animation-Comedy-Family'\n",
      " 'Drama-Comedy-Action' 'Horror-Science Fiction'\n",
      " 'Family-Animation-Comedy-Romance'\n",
      " 'Family-Animation-Comedy-Music-TV Movie' 'Animation-Drama-Family'\n",
      " 'Drama-Science Fiction-Action-Adventure-Mystery-Fantasy-Thriller'\n",
      " 'Animation-Fantasy' 'Drama-Romance' 'Romance-Drama-Science Fiction'\n",
      " 'Crime-Drama' 'History-Drama-War' 'Comedy-Action-Romance'\n",
      " 'Music-Documentary' 'Horror-Drama-Romance' 'Music-Drama-Comedy'\n",
      " 'Animation-Crime-Music' 'Action-Thriller' 'Horror-Comedy-Music'\n",
      " 'Drama-Horror' 'Science Fiction-War' 'Comedy-Animation-Family-Music'\n",
      " 'Animation-Thriller-Horror' 'Comedy-Horror-Fantasy'\n",
      " 'Comedy-Science Fiction' 'Horror-Thriller' 'Comedy-Drama-Animation'\n",
      " 'Music' 'Drama-Family' 'Thriller-Drama-Mystery' 'Horror-Thriller-Crime'\n",
      " 'Animation-Music-Horror' 'Drama-Comedy'\n",
      " 'Adventure-Family-Fantasy-Science Fiction'\n",
      " 'Animation-Comedy-Science Fiction-Family-Fantasy' 'Drama-Comedy-Horror'\n",
      " 'Animation-TV Movie-Action-Crime' 'Drama-Comedy-Crime'\n",
      " 'Comedy-Adventure-Science Fiction' 'Comedy-Documentary' 'Drama-War'\n",
      " 'Comedy-Romance' 'Comedy-Drama-Science Fiction'\n",
      " 'Animation-Comedy-Horror-Science Fiction'\n",
      " 'Comedy-Animation-Science Fiction' 'Drama-History' 'Drama-Thriller'\n",
      " 'Drama-Music' 'Comedy-Science Fiction-Action' 'Family'\n",
      " 'Drama-Fantasy-Horror' 'Mystery-Romance-Drama'\n",
      " 'Horror-Science Fiction-Comedy' 'Crime-Thriller' 'Documentary-Comedy'\n",
      " 'Drama-Crime' 'Comedy-Fantasy' 'Thriller' 'Documentary-Animation'\n",
      " 'Romance-Comedy' 'Drama-Science Fiction' 'Horror-Thriller-Drama'\n",
      " 'Romance-Fantasy' 'Crime-Comedy' 'Comedy-Thriller' 'Action-Crime'\n",
      " 'Action-Romance-Comedy' 'Fantasy-Animation'\n",
      " 'Science Fiction-Adventure-TV Movie' 'Drama-Animation'\n",
      " 'Fantasy-Animation-Comedy' 'Comedy-History-Western-Family'\n",
      " 'Music-Animation-Science Fiction' 'Horror-Documentary'\n",
      " 'Documentary-Music' 'Mystery-Drama' 'Documentary-Fantasy'\n",
      " 'Animation-Romance-Fantasy' 'Science Fiction-Comedy' 'Documentary-Family'\n",
      " 'Animation-Music' 'Romance-Science Fiction' 'Adventure-Horror' 'Crime'\n",
      " 'Family-Animation' 'Mystery' 'Horror-Western' 'Thriller-Science Fiction'\n",
      " 'Science Fiction-Comedy-Drama' 'Animation-Documentary'\n",
      " 'Horror-Action-Comedy' 'Drama-Crime-Mystery-Thriller' 'Thriller-Drama'\n",
      " 'Science Fiction-Drama-Family' 'Comedy-Drama-Music'\n",
      " 'Comedy-Drama-Romance' 'Comedy-Romance-Drama' 'Comedy-Mystery-Adventure'\n",
      " 'Horror-Drama' 'Drama-Thriller-Horror' 'Drama-Horror-Thriller'\n",
      " 'Animation-Comedy-Thriller-Horror' 'Horror-Romance'\n",
      " 'Drama-Crime-Thriller' 'Horror-Mystery-Thriller'\n",
      " 'Thriller-Mystery-Horror' 'Western-Comedy' 'Action-Comedy' 'Romance'\n",
      " 'Science Fiction-Romance' 'Science Fiction-Animation' 'Action-Mystery'\n",
      " 'Action-Drama' 'Action-Fantasy-Horror' 'Comedy-Adventure' 'Western-Drama'\n",
      " 'Family-Drama-Music-Documentary'\n",
      " 'Action-Thriller-Crime-Science Fiction-Mystery-Horror'\n",
      " 'Drama-Documentary-Fantasy' 'Crime-Drama-Thriller'\n",
      " 'Documentary-History-Family' 'Thriller-Animation-Fantasy-Science Fiction'\n",
      " 'Drama-Romance-Comedy' 'Comedy-Horror-Thriller' 'Thriller-Drama-Horror'\n",
      " 'Mystery-Fantasy' 'Horror-Drama-Thriller' 'Documentary-Drama'\n",
      " 'Drama-Western' 'Comedy-Crime-Romance' 'Horror-Comedy-Mystery'\n",
      " 'Family-Science Fiction' 'War-Documentary' 'Family-Music' 'Romance-Drama'\n",
      " 'Horror-Comedy-Drama' 'Comedy-Science Fiction-Mystery'\n",
      " 'Action-Drama-Science Fiction' 'Crime-Drama-History-Thriller' 'Western'\n",
      " 'Comedy-Music-Drama' 'Comedy-Drama-Music-Western' 'Horror-Drama-Mystery'\n",
      " 'Comedy-Mystery-Thriller' 'Comedy-Adventure-Drama-Fantasy-Family'\n",
      " 'Documentary-History' 'Family-Drama' 'Horror-Comedy-Family'\n",
      " 'Comedy-Action-Drama' 'Thriller-Mystery' 'Fantasy-Science Fiction'\n",
      " 'Crime-Horror' 'Science Fiction-Action-Comedy' 'Comedy-Mystery'\n",
      " 'Documentary-History-Comedy-Drama-Family'\n",
      " 'Horror-Mystery-Science Fiction' 'Comedy-Music'\n",
      " 'Thriller-Animation-Comedy' 'Western-Drama-Crime-Action'\n",
      " 'Animation-Music-Drama-Mystery-Horror' 'Animation-Action-Adventure-Music'\n",
      " 'Horror-Romance-Music' 'Drama-Animation-Family' 'Thriller-Action-Comedy'\n",
      " 'Horror-Fantasy' 'Science Fiction-Adventure' 'Comedy-Music-Western'\n",
      " 'Drama-Romance-Family' 'Thriller-Comedy' 'Drama-Western-Comedy'\n",
      " 'Fantasy-Horror-Science Fiction' 'Family-Comedy'\n",
      " 'Comedy-Action-Crime-Drama' 'Comedy-Crime-Mystery-Action'\n",
      " 'Science Fiction-Mystery' 'Comedy-Horror-Mystery' 'Fantasy-Mystery'\n",
      " 'Action-Adventure-Horror' 'Horror-Comedy-Romance'\n",
      " 'Horror-Thriller-Mystery-Crime' 'Animation-Family-Horror-Drama-Music'\n",
      " 'Crime-Horror-Science Fiction' 'Thriller-Horror-Science Fiction-Drama'\n",
      " 'Horror-Fantasy-Mystery' 'Animation-Documentary-Horror'\n",
      " 'Comedy-Fantasy-Thriller' 'Adventure-Fantasy-Comedy'\n",
      " 'Thriller-Family-Crime' 'Action-Comedy-Crime' 'Horror-Family'\n",
      " 'Crime-Drama-Action' 'Action-Documentary' 'Horror-Crime-Thriller-Fantasy'\n",
      " 'Thriller-Horror-Drama' 'Horror-Thriller-Mystery'\n",
      " 'Crime-Thriller-Drama-Horror' 'Drama-Horror-Mystery'\n",
      " 'Comedy-Action-Adventure-Crime-Drama-Family-History-Horror-Romance-Thriller'\n",
      " 'Drama-Action' 'Horror-Comedy-Animation' 'Thriller-Drama-Horror-Mystery'\n",
      " 'Animation-Music-Comedy-Fantasy' 'Mystery-Romance'\n",
      " 'Animation-Drama-Science Fiction-Horror' 'Comedy-Action-Thriller'\n",
      " 'Music-Drama-Horror' 'Comedy-Science Fiction-Animation'\n",
      " 'Comedy-Action-Adventure-Crime' 'Comedy-Crime-Family'\n",
      " 'Romance-Comedy-Drama-Animation' 'Comedy-Animation-TV Movie'\n",
      " 'Animation-Adventure' 'Crime-Fantasy-Thriller'\n",
      " 'Horror-Comedy-Action-Adventure' 'Horror-Drama-Crime-Mystery'\n",
      " 'Science Fiction-Fantasy-Family-Comedy-Drama' 'Action-Adventure-Comedy'\n",
      " 'Action-Comedy-Crime-Documentary-Drama-Mystery' 'Music-Drama'\n",
      " 'Action-Adventure' 'Drama-Documentary' 'Fantasy-Family-Drama'\n",
      " 'Action-Horror' 'Drama-Mystery' 'Action-Comedy-Horror-Crime'\n",
      " 'Horror-Comedy-Fantasy' 'Thriller-Fantasy-Crime'\n",
      " 'Action-Drama-Comedy-Documentary' 'Animation-Comedy-Fantasy-Family'\n",
      " 'Romance-Mystery' 'Drama-Action-Comedy' 'Drama-Action-Science Fiction'\n",
      " 'Documentary-War-Comedy' 'Animation-Documentary-Family'\n",
      " 'Animation-Drama-Documentary' 'Horror-War' 'Fantasy-Animation-Adventure'\n",
      " 'Action-Drama-Thriller' 'Science Fiction-Horror-Comedy'\n",
      " 'Thriller-Comedy-Horror' 'Thriller-Crime-Drama' 'Action-Western-Horror'\n",
      " 'Documentary-Comedy-Romance' 'Mystery-Thriller-Action' 'Drama-Adventure'\n",
      " 'Thriller-Horror-Fantasy' 'Adventure-Horror-Action' 'Adventure'\n",
      " 'Animation-Comedy-Science Fiction' 'Mystery-Thriller-Comedy' 'War-Drama'\n",
      " 'Horror-Music-Thriller' 'Crime-Action-Comedy' 'Thriller-Crime-Mystery'\n",
      " 'Drama-Mystery-Thriller' 'Horror-Mystery-Romance'\n",
      " 'Animation-Adventure-Action' 'Action-War' 'Adventure-Animation'\n",
      " 'Comedy-Horror-Science Fiction' 'Mystery-Science Fiction'\n",
      " 'Action-Thriller-Crime-Drama' 'Horror-Thriller-Comedy'\n",
      " 'Horror-Music-Drama' 'War-Drama-Romance' 'Thriller-Mystery-Drama'\n",
      " 'Mystery-Drama-Thriller' 'Comedy-Drama-War' 'Comedy-Crime-Mystery'\n",
      " 'Comedy-Horror-Thriller-Romance' 'Comedy-Drama-Crime'\n",
      " 'Action-Mystery-Comedy' 'Music-Science Fiction'\n",
      " 'Thriller-Drama-Music-Mystery' 'Horror-Fantasy-Thriller'\n",
      " 'Romance-Drama-Comedy' 'Comedy-Crime-Drama'\n",
      " 'Adventure-Comedy-Fantasy-Thriller' 'Science Fiction-Action-Mystery'\n",
      " 'Fantasy-Romance' 'Fantasy-Mystery-Thriller' 'Mystery-Horror-Comedy'\n",
      " 'Crime-Drama-Mystery-Horror' 'Science Fiction-Drama-Comedy'\n",
      " 'Animation-Action-Adventure' 'Comedy-Documentary-Drama' 'History'\n",
      " 'Fantasy-Drama-Mystery' 'Comedy-Mystery-Drama' 'Western-Adventure-Music'\n",
      " 'Horror-Thriller-Fantasy' 'Action-Music' 'Animation-Adventure-Family'\n",
      " 'Adventure-Comedy-Drama-Romance' 'Science Fiction-Music'\n",
      " 'Adventure-Comedy' 'Horror-Thriller-Fantasy-Mystery'\n",
      " 'Mystery-Fantasy-Drama' 'Drama-Fantasy-Mystery'\n",
      " 'Comedy-Western-Action-Adventure' 'Horror-Romance-Drama'\n",
      " 'Horror-Music-Fantasy-Mystery-War' 'Comedy-Mystery-Fantasy'\n",
      " 'Action-Adventure-Animation' 'Crime-Drama-Mystery-Thriller'\n",
      " 'Fantasy-Documentary' 'Thriller-Crime' 'Horror-Thriller-Mystery-Drama'\n",
      " 'Drama-Science Fiction-Romance' 'Horror-Mystery-Fantasy-Thriller'\n",
      " 'Crime-Thriller-Drama' 'Thriller-Drama-Science Fiction' 'Music-Action'\n",
      " 'Comedy-Thriller-Adventure-Fantasy' 'Crime-Thriller-Comedy'\n",
      " 'Drama-Family-Thriller-Music' 'Horror-Thriller-Science Fiction-Mystery'\n",
      " 'Action-Drama-Comedy' 'Mystery-Fantasy-Horror'\n",
      " 'Animation-Documentary-Romance'\n",
      " 'Comedy-Science Fiction-Adventure-Fantasy-Horror' 'Action-Horror-War'\n",
      " 'Drama-Crime-History-Action' 'Adventure-Drama-Mystery'\n",
      " 'Action-Comedy-Thriller' 'Comedy-Action-Animation' 'Comedy-Drama-Action'\n",
      " 'Science Fiction-Crime' 'Action-Romance' 'Mystery-Adventure'\n",
      " 'Mystery-Thriller-Science Fiction' 'Music-Fantasy-Comedy' 'War'\n",
      " 'Drama-Fantasy-Documentary' 'Comedy-Adventure-Romance' 'History-Drama'\n",
      " 'Drama-Action-Adventure-Romance' 'Drama-Thriller-Crime'\n",
      " 'Action-Adventure-Drama' 'Documentary-Drama-Horror'\n",
      " 'Horror-Comedy-Family-Animation' 'War-Comedy-History' 'Mystery-Comedy'\n",
      " 'Action-Western' 'Mystery-Music' 'Fantasy-Drama-Music'\n",
      " 'Horror-Comedy-Thriller' 'Horror-Comedy-Thriller-Science Fiction'\n",
      " 'Thriller-Horror-Comedy' 'Drama-War-Romance-Animation-Music'\n",
      " 'Action-Fantasy-Music' 'Crime-Mystery' 'Mystery-Science Fiction-Drama'\n",
      " 'Comedy-History' 'Thriller-Drama-Crime' 'Science Fiction-Mystery-Horror'\n",
      " 'Documentary-Comedy-Music' 'Animation-Music-Drama'\n",
      " 'Animation-Comedy-Music' 'Drama-Mystery-Thriller-Music'\n",
      " 'Comedy-Thriller-Action' 'Action-Family-War' 'Adventure-Mystery'\n",
      " 'Fantasy-Music-Horror-Comedy' 'Animation-Science Fiction'\n",
      " 'Comedy-Action-Fantasy' 'Animation-History'\n",
      " 'Action-Horror-Science Fiction-Thriller' 'War-Comedy' 'Adventure-Fantasy'\n",
      " 'Music-Horror' 'Music-Comedy-Horror' 'Mystery-Horror-Thriller'\n",
      " 'Action-Thriller-Adventure'\n",
      " 'Animation-Action-Adventure-Science Fiction-Family-Comedy-TV Movie'\n",
      " 'Animation-Thriller' 'Adventure-Drama' 'Documentary-Animation-Comedy'\n",
      " 'Action-Crime-Drama' 'Family-Comedy-Fantasy' 'Fantasy-Adventure-Action'\n",
      " 'Fantasy-Action' 'Comedy-Action-Western'\n",
      " 'Animation-Adventure-Fantasy-Science Fiction'\n",
      " 'Animation-Drama-Mystery-Thriller' 'Horror-Romance-Thriller'\n",
      " 'Action-Comedy-Crime-Drama' 'Drama-Action-Adventure' 'Music-Animation'\n",
      " 'Drama-Comedy-Family' 'Comedy-Music-Horror' 'Fantasy-Adventure-Drama'\n",
      " 'Adventure-Animation-Family-Fantasy' 'Comedy-Family-Adventure'\n",
      " 'Music-Mystery-Romance' 'Thriller-Crime-Action'\n",
      " 'Mystery-Thriller-Science Fiction-Drama' 'Animation-Horror-Fantasy'\n",
      " 'Horror-Comedy-Action' 'Action-Crime-Drama-Romance-Thriller'\n",
      " 'Horror-Action' 'Crime-Romance-War' 'Action-Science Fiction-Thriller'\n",
      " 'Adventure-Comedy-Fantasy-Horror' 'Animation-Crime-Drama'\n",
      " 'Comedy-Drama-Music-Mystery-Romance-Thriller'\n",
      " 'Comedy-Action-Adventure-Horror-Science Fiction'\n",
      " 'Western-Action-Comedy-Romance' 'Drama-Mystery-Science Fiction'\n",
      " 'Horror-Thriller-Romance' 'Mystery-Science Fiction-Thriller-Drama'\n",
      " 'Science Fiction-Horror-Mystery-Comedy' 'Science Fiction-Mystery-Crime'\n",
      " 'Comedy-Action-Music' 'Action-Drama-Comedy-Crime'\n",
      " 'Fantasy-Adventure-Mystery' 'Adventure-Family-Drama'\n",
      " 'Science Fiction-Drama-Romance' 'Comedy-Crime-Action' 'Adventure-Crime'\n",
      " 'Documentary-Family-Science Fiction']\n",
      "عدد الأنواع الفريدة لأفلام مدتها أكثر من 400 دقيقة: 17\n",
      "['Action-Drama' 'Music-Documentary' 'Documentary' 'Documentary-Comedy'\n",
      " 'Music' 'Action-Drama-Thriller' 'Action-Documentary'\n",
      " 'Documentary-History' 'Drama-Action' 'Comedy' 'Action'\n",
      " 'Crime-Drama-Thriller' 'Horror-Animation' 'Crime-Documentary'\n",
      " 'Animation-Comedy-Music' 'Drama-Family' 'Adventure']\n"
     ]
    }
   ],
   "source": [
    "\n",
    "one_minute_genres = english_movies[english_movies['runtime'] <15]['genres'].unique()\n",
    "print(f\"عدد الأنواع الفريدة لأفلام مدتها دقيقة واحدة: {len(one_minute_genres)}\")\n",
    "print(one_minute_genres)\n",
    "\n",
    "over_400_genres = english_movies[english_movies['runtime'] > 400]['genres'].unique()\n",
    "print(f\"عدد الأنواع الفريدة لأفلام مدتها أكثر من 400 دقيقة: {len(over_400_genres)}\")\n",
    "print(over_400_genres)\n"
   ]
  },
  {
   "cell_type": "code",
   "execution_count": 13,
   "id": "fa2fd2a5",
   "metadata": {},
   "outputs": [
    {
     "name": "stdout",
     "output_type": "stream",
     "text": [
      "count    45212.000000\n",
      "mean        90.341303\n",
      "std         27.374215\n",
      "min         16.000000\n",
      "25%         79.000000\n",
      "50%         90.000000\n",
      "75%        101.000000\n",
      "max        390.000000\n",
      "Name: runtime, dtype: float64\n"
     ]
    }
   ],
   "source": [
    "\n",
    "english_movies = english_movies[(english_movies['runtime'] > 15) & (english_movies['runtime'] < 400)]\n",
    "\n",
    "print(english_movies['runtime'].describe())"
   ]
  },
  {
   "cell_type": "markdown",
   "id": "b84b9f29",
   "metadata": {},
   "source": [
    "\n",
    " معظم الأفلام شعبيتها منخفضة:\n",
    "- 25% من الأفلام أقل من **1.33**\n",
    "- 50% من الأفلام أقل من **2.80** (الوسيط)\n",
    "- 75% من الأفلام أقل من **7.88**\n",
    "\n",
    " توجد قيم شاذة جدًا (Outliers):\n",
    "- القيمة القصوى **8763.99** بعيدة جدًا عن المتوسط.\n",
    "- الانحراف المعياري المرتفع **89.67** يدل على وجود تشتت كبير في القيم.\n",
    "\n",
    "### الاستنتاج:\n",
    "لا يمكن الاعتماد على هذا العامود كمؤشر دقيق لقياس شهرة الفيلم، للأسباب التالية:\n",
    "- وجود تفاوت كبير بين القيم.\n",
    "- القيم المتطرفة تؤثر على التحليل الإحصائي.\n",
    "**يُفضل استخدام مؤشرات بديلة أكثر دقة لقياس شهرة الأفلام.**\n"
   ]
  },
  {
   "cell_type": "code",
   "execution_count": 14,
   "id": "514d6136",
   "metadata": {},
   "outputs": [
    {
     "name": "stdout",
     "output_type": "stream",
     "text": [
      "count    45212.000000\n",
      "mean        10.236429\n",
      "std         89.685811\n",
      "min          0.001000\n",
      "25%          1.333000\n",
      "50%          2.807000\n",
      "75%          7.885000\n",
      "max       8763.998000\n",
      "Name: popularity, dtype: float64\n"
     ]
    }
   ],
   "source": [
    "\n",
    "print(english_movies['popularity'].describe())\n"
   ]
  },
  {
   "cell_type": "markdown",
   "id": "dc9b269d",
   "metadata": {},
   "source": [
    "### نتيجة:\n",
    "\n",
    "- عدد التقييمات غير متوزع بشكل جيد، حيث معظم الأفلام حصلت على عدد قليل جدًا من التقييمات، وهذا يجعل الاعتماد على المتوسط غير موثوق.\n",
    "\n",
    "- متوسط التقييم قد يعطي مؤشرًا أوليًا لجودة الفيلم، لكنه لا يعكس الحقيقة بشكل كامل خاصةً إذا كان عدد التقييمات قليل جدًا.\n",
    "\n",
    "- بالتالي، لا يمكن الاعتماد على عدد التقييمات أو متوسط التقييم لوحدهما كمعيار دقيق لتحليل جودة أو شهرة الأفلام.\n",
    "\n"
   ]
  },
  {
   "cell_type": "code",
   "execution_count": 15,
   "id": "f22f84c8",
   "metadata": {},
   "outputs": [
    {
     "name": "stdout",
     "output_type": "stream",
     "text": [
      "count    45212.000000\n",
      "mean       352.231509\n",
      "std       1507.039860\n",
      "min          0.000000\n",
      "25%          1.000000\n",
      "50%         10.000000\n",
      "75%         77.000000\n",
      "max      34857.000000\n",
      "Name: vote_count, dtype: float64\n",
      "count    45212.000000\n",
      "mean         4.843025\n",
      "std          2.602260\n",
      "min          0.000000\n",
      "25%          4.000000\n",
      "50%          5.700000\n",
      "75%          6.548250\n",
      "max         10.000000\n",
      "Name: vote_average, dtype: float64\n"
     ]
    }
   ],
   "source": [
    "print(english_movies['vote_count'].describe())\n",
    "print(english_movies['vote_average'].describe())\n",
    "\n"
   ]
  },
  {
   "cell_type": "markdown",
   "id": "e8ed13a7",
   "metadata": {},
   "source": [
    "\n",
    "## استخدام تحليل المشاعر لجملة الترويج كميزة جديدة \n",
    "## tagline_sentiment\n",
    "\n",
    "في هالخطوة، عملنا تحليل مشاعر لجمل الترويج  لكل فيلم, انشئنا عامود جديد  بيحدد إذا كانت جملة الترويج إيجابية، سلبية أو محايدة.\n",
    "\n",
    "الهدف من هالميزة هو تزويد نموذج تعلم الآلة بمعلومة إضافية تساعده يفهم مشاعر الجملة الترويجية للفيلم، لأنه ممكن تكون مؤشر مهم  على إيرادات الفيلم.\n",
    "\n",
    "مثلاً:\n",
    "\n",
    "جملة ترويجية إيجابية ممكن تعزز اهتمام المشاهدين وبالتالي تزيد الإيرادات.\n",
    "\n",
    "جملة ترويجية سلبية أو محايدة قد تعكس حالة مختلفة.\n",
    "\n",
    "باستخدام هالميزة، نموذج التنبؤ ممكن يصير أكثر دقة في توقع إيرادات الأفلام."
   ]
  },
  {
   "cell_type": "code",
   "execution_count": 52,
   "id": "f64cdc94",
   "metadata": {},
   "outputs": [
    {
     "name": "stdout",
     "output_type": "stream",
     "text": [
      "                                             tagline  tagline_sentiment\n",
      "0                                  Back for seconds.                  0\n",
      "1  Inspired by the actual files of Father Gabriel...                  1\n",
      "2                                     Come together.                  0\n",
      "3                                     Unite or fall.                  0\n",
      "4                            Long live the fighters.                 -1\n",
      "tagline_sentiment\n",
      " 0    16571\n",
      " 1    16060\n",
      "-1    12581\n",
      "Name: count, dtype: int64\n"
     ]
    }
   ],
   "source": [
    "\n",
    "\n",
    "sid = SentimentIntensityAnalyzer()\n",
    "\n",
    "def analyze_sentiment(text):\n",
    "    if not isinstance(text, str):  \n",
    "        return 'neutral'\n",
    "    scores = sid.polarity_scores(text)\n",
    "    compound = scores['compound']\n",
    "    if compound >= 0.05:\n",
    "        return 1\n",
    "    elif compound <= -0.05:\n",
    "        return -1\n",
    "    else:\n",
    "        return 0\n",
    "\n",
    "english_movies['tagline_sentiment'] = english_movies['tagline'].apply(analyze_sentiment)\n",
    "\n",
    "\n",
    "print(english_movies[['tagline', 'tagline_sentiment']].head())\n",
    "\n",
    "\n",
    "sentiment_counts = english_movies['tagline_sentiment'].value_counts()\n",
    "print(sentiment_counts)\n"
   ]
  },
  {
   "cell_type": "markdown",
   "id": "46dd0e0a",
   "metadata": {},
   "source": [
    "### إنشاء ميزة جديدة: الأرباح (profit)\n",
    "\n",
    "تم إنشاء ميزة جديدة تُسمى **الأرباح**، والتي تمثل الفرق بين إيرادات الفيلم  والتكلفة أو الميزانية التي صرفت عليه .\n",
    "\n",
    "بالتالي، تُعطينا هذه الميزة فكرة واضحة عن نجاح الفيلم من الناحية المالية، حيث نعرف هل الفيلم حقق أرباحًا أو خسر مبلغًا معينًا.\n",
    "\n",
    "هذه الميزة مهمة لأنها   توفر لنا مؤشرًا أدق على الأداء المالي للفيلم.\n"
   ]
  },
  {
   "cell_type": "code",
   "execution_count": 16,
   "id": "e1f872aa",
   "metadata": {},
   "outputs": [],
   "source": [
    "english_movies['profit'] = english_movies['revenue'] - english_movies['budget']"
   ]
  },
  {
   "cell_type": "code",
   "execution_count": 17,
   "id": "04597de3",
   "metadata": {},
   "outputs": [],
   "source": [
    "\n",
    "english_movies['release_date'] = pd.to_datetime(english_movies['release_date'], errors='coerce')\n",
    "english_movies['release_year'] = english_movies['release_date'].dt.year\n",
    "english_movies['release_month'] = english_movies['release_date'].dt.month\n",
    "english_movies['release_day'] =english_movies['release_date'].dt.day\n"
   ]
  },
  {
   "cell_type": "code",
   "execution_count": 18,
   "id": "fbeec8a5",
   "metadata": {},
   "outputs": [
    {
     "name": "stdout",
     "output_type": "stream",
     "text": [
      "عدد السنوات الفريدة: 118\n",
      "أصغر سنة في البيانات: 1906\n",
      "أكبر سنة في البيانات: 2025\n",
      "السنوات الفريدة مرتبة:\n",
      "[np.int32(1906), np.int32(1907), np.int32(1910), np.int32(1911), np.int32(1912), np.int32(1913), np.int32(1914), np.int32(1915), np.int32(1916), np.int32(1917), np.int32(1918), np.int32(1919), np.int32(1920), np.int32(1921), np.int32(1922), np.int32(1923), np.int32(1924), np.int32(1925), np.int32(1926), np.int32(1927), np.int32(1928), np.int32(1929), np.int32(1930), np.int32(1931), np.int32(1932), np.int32(1933), np.int32(1934), np.int32(1935), np.int32(1936), np.int32(1937), np.int32(1938), np.int32(1939), np.int32(1940), np.int32(1941), np.int32(1942), np.int32(1943), np.int32(1944), np.int32(1945), np.int32(1946), np.int32(1947), np.int32(1948), np.int32(1949), np.int32(1950), np.int32(1951), np.int32(1952), np.int32(1953), np.int32(1954), np.int32(1955), np.int32(1956), np.int32(1957), np.int32(1958), np.int32(1959), np.int32(1960), np.int32(1961), np.int32(1962), np.int32(1963), np.int32(1964), np.int32(1965), np.int32(1966), np.int32(1967), np.int32(1968), np.int32(1969), np.int32(1970), np.int32(1971), np.int32(1972), np.int32(1973), np.int32(1974), np.int32(1975), np.int32(1976), np.int32(1977), np.int32(1978), np.int32(1979), np.int32(1980), np.int32(1981), np.int32(1982), np.int32(1983), np.int32(1984), np.int32(1985), np.int32(1986), np.int32(1987), np.int32(1988), np.int32(1989), np.int32(1990), np.int32(1991), np.int32(1992), np.int32(1993), np.int32(1994), np.int32(1995), np.int32(1996), np.int32(1997), np.int32(1998), np.int32(1999), np.int32(2000), np.int32(2001), np.int32(2002), np.int32(2003), np.int32(2004), np.int32(2005), np.int32(2006), np.int32(2007), np.int32(2008), np.int32(2009), np.int32(2010), np.int32(2011), np.int32(2012), np.int32(2013), np.int32(2014), np.int32(2015), np.int32(2016), np.int32(2017), np.int32(2018), np.int32(2019), np.int32(2020), np.int32(2021), np.int32(2022), np.int32(2023), np.int32(2024), np.int32(2025)]\n"
     ]
    }
   ],
   "source": [
    "\n",
    "english_movies['release_year'] = english_movies['release_date'].dt.year\n",
    "valid_years = english_movies['release_year'].dropna()\n",
    "unique_years = valid_years.unique()\n",
    "print(f\"عدد السنوات الفريدة: {len(unique_years)}\")\n",
    "min_year = valid_years.min()\n",
    "max_year = valid_years.max()\n",
    "print(f\"أصغر سنة في البيانات: {min_year}\")\n",
    "print(f\"أكبر سنة في البيانات: {max_year}\")\n",
    "print(\"السنوات الفريدة مرتبة:\")\n",
    "print(sorted(unique_years))\n"
   ]
  },
  {
   "cell_type": "markdown",
   "id": "5c413981",
   "metadata": {},
   "source": [
    "## انشاء ميزة عدد ممثلين"
   ]
  },
  {
   "cell_type": "code",
   "execution_count": 19,
   "id": "32a3602d",
   "metadata": {},
   "outputs": [],
   "source": [
    "\n",
    "english_movies['unique_actors_count'] = english_movies['credits'].apply(lambda x: len(set(str(x).split('-'))))\n"
   ]
  },
  {
   "cell_type": "markdown",
   "id": "34a6f9d4",
   "metadata": {},
   "source": [
    "# تحليل الاتجاه العام لإنتاج الأفلام عبر السنوات\n",
    "\n",
    "## الاتجاه العام:\n",
    "يوجد **اتجاه تصاعدي واضح** على المدى الطويل، خاصة بعد التسعينات.\n",
    "\n",
    "بداية من عام 2000، نلاحظ قفزات سريعة في عدد الأفلام المنتجة، وهذا مرتبط غالبا بـ:\n",
    "- تطور التكنولوجيا .\n",
    "- انتشار محطات ..\n",
    "- من عام **1900 إلى 1950** كان النمو تدريجي وبطيء، وهو أمر منطقي بسبب بدايات صناعة السينما.\n",
    "-    بين **1940 - 1980**،  نلاحظ انخفاضاً مرتبطاً بالحرب العالمية.\n",
    "- مع نهاية التسعينات وبداية الألفية الجديدة، حدثت **طفرة في الإنتاج** السينمائي.\n",
    "- بعد عام **2020**، نلاحظ انخفاضاً حاداً في عدد الأفلام المنتجة، وغالباً يعود ذلك إلى:\n",
    "  - تأثير جائحة كورونا على الإنتاج السينمائي.\n",
    "  - تأجيل أو إلغاء مواعيد إطلاق العديد من الأفلام.\n",
    "  - بيانات السنوات الأخيرة قد تكون غير مكتملة أو لم تُسجل بعد بشكل دقيق.\n"
   ]
  },
  {
   "cell_type": "code",
   "execution_count": 20,
   "id": "89a8204e",
   "metadata": {},
   "outputs": [
    {
     "data": {
      "application/vnd.plotly.v1+json": {
       "config": {
        "plotlyServerURL": "https://plot.ly"
       },
       "data": [
        {
         "hovertemplate": "سنة الإصدار=%{x}<br>عدد الأفلام=%{y}<extra></extra>",
         "legendgroup": "",
         "marker": {
          "color": "#636efa",
          "symbol": "circle"
         },
         "mode": "markers",
         "name": "",
         "orientation": "v",
         "showlegend": false,
         "type": "scatter",
         "x": {
          "bdata": "cgcAAHMHAAB2BwAAdwcAAHgHAAB5BwAAegcAAHsHAAB8BwAAfQcAAH4HAAB/BwAAgAcAAIEHAACCBwAAgwcAAIQHAACFBwAAhgcAAIcHAACIBwAAiQcAAIoHAACLBwAAjAcAAI0HAACOBwAAjwcAAJAHAACRBwAAkgcAAJMHAACUBwAAlQcAAJYHAACXBwAAmAcAAJkHAACaBwAAmwcAAJwHAACdBwAAngcAAJ8HAACgBwAAoQcAAKIHAACjBwAApAcAAKUHAACmBwAApwcAAKgHAACpBwAAqgcAAKsHAACsBwAArQcAAK4HAACvBwAAsAcAALEHAACyBwAAswcAALQHAAC1BwAAtgcAALcHAAC4BwAAuQcAALoHAAC7BwAAvAcAAL0HAAC+BwAAvwcAAMAHAADBBwAAwgcAAMMHAADEBwAAxQcAAMYHAADHBwAAyAcAAMkHAADKBwAAywcAAMwHAADNBwAAzgcAAM8HAADQBwAA0QcAANIHAADTBwAA1AcAANUHAADWBwAA1wcAANgHAADZBwAA2gcAANsHAADcBwAA3QcAAN4HAADfBwAA4AcAAOEHAADiBwAA4wcAAOQHAADlBwAA5gcAAOcHAADoBwAA6QcAAA==",
          "dtype": "i4"
         },
         "xaxis": "x",
         "y": {
          "bdata": "AQABAAIAAgAGAAEADQAQACAAHgAvAD4ASABLADUARQBAAGYAWAB6AJUAqgDYAMEA6ADsAAYBJwFLAVUBLQFaAVoBUgE2ATkBNAETAQEBDwEbARoBLAEpAQoBJwHtAP0ACwEiAfQA0QC1ALQAqACzALkAxAC2AMMA0ADLAPIA9wD1ABQB7gDDAN8A8gDpAPgABwHqAP0A9AAdATQBQgGGAbIBmQGnAYoBdwHMAeoBFwI6AhQCLAIbAiUCQgJVAi0CgwK5AhQDFgMmAzgDLgOoA9YDnwQOBWMFXwVxBRsGdQUwBR4GlwMgAXAAAQA=",
          "dtype": "i2"
         },
         "yaxis": "y"
        },
        {
         "hovertemplate": "<b>OLS trendline</b><br>count = 7.77305 * release_year + -14902.3<br>R<sup>2</sup>=0.545792<br><br>سنة الإصدار=%{x}<br>عدد الأفلام=%{y} <b>(trend)</b><extra></extra>",
         "legendgroup": "",
         "marker": {
          "color": "#636efa",
          "symbol": "circle"
         },
         "mode": "lines",
         "name": "",
         "showlegend": false,
         "type": "scatter",
         "x": {
          "bdata": "cgcAAHMHAAB2BwAAdwcAAHgHAAB5BwAAegcAAHsHAAB8BwAAfQcAAH4HAAB/BwAAgAcAAIEHAACCBwAAgwcAAIQHAACFBwAAhgcAAIcHAACIBwAAiQcAAIoHAACLBwAAjAcAAI0HAACOBwAAjwcAAJAHAACRBwAAkgcAAJMHAACUBwAAlQcAAJYHAACXBwAAmAcAAJkHAACaBwAAmwcAAJwHAACdBwAAngcAAJ8HAACgBwAAoQcAAKIHAACjBwAApAcAAKUHAACmBwAApwcAAKgHAACpBwAAqgcAAKsHAACsBwAArQcAAK4HAACvBwAAsAcAALEHAACyBwAAswcAALQHAAC1BwAAtgcAALcHAAC4BwAAuQcAALoHAAC7BwAAvAcAAL0HAAC+BwAAvwcAAMAHAADBBwAAwgcAAMMHAADEBwAAxQcAAMYHAADHBwAAyAcAAMkHAADKBwAAywcAAMwHAADNBwAAzgcAAM8HAADQBwAA0QcAANIHAADTBwAA1AcAANUHAADWBwAA1wcAANgHAADZBwAA2gcAANsHAADcBwAA3QcAAN4HAADfBwAA4AcAAOEHAADiBwAA4wcAAOQHAADlBwAA5gcAAOcHAADoBwAA6QcAAA==",
          "dtype": "i4"
         },
         "xaxis": "x",
         "y": {
          "bdata": "gO43Npu2VcCA//ahIcVTwABlaMpp4UvAAIbmoXb+R8AAqGR5gxtEwADK4lCQOEDAANjBUDqrOMAAHL7/U+UwwADAdF3bPiLAAEBq23WY9b8AYDTNe7EZQACsoYiKZCxAAJJUlSv4NUAATljmEb49QAAFrhv8wUJAAOMvRO+kRkAAwbFs4odKQACfM5XVak5AgL7aXuQmUUAArhvzXRhTQACdXIfXCVVAAIydG1H7VkAAe96vyuxYQABqH0RE3lpAAFlg2L3PXEAASKFsN8FeQIAbcYBYWWBAQJORShVSYUDACrIU0kpiQECC0t6OQ2NAwPnyqEs8ZEBAcRNzCDVlQMDoMz3FLWZAQGBUB4ImZ0DA13TRPh9oQIBPlZv7F2lAAMe1ZbgQakCAPtYvdQlrQAC29vkxAmxAgC0XxO76bEAApTeOq/NtQIAcWFho7G5AQJR4IiXlb0DghUz28G5wQKDBXFtP63BAYP1swK1ncUAgOX0lDORxQOB0jYpqYHJAoLCd78jcckBg7K1UJ1lzQEAovrmF1XNAAGTOHuRRdEDAn96DQs50QIDb7uigSnVAQBf/Tf/GdUAAUw+zXUN2QMCOHxi8v3ZAgMovfRo8d0BgBkDieLh3QCBCUEfXNHhA4H1grDWxeECguXARlC15QGD1gHbyqXlAIDGR21AmekDgbKFAr6J6QKCosaUNH3tAgOTBCmybe0BAINJvyhd8QABc4tQolHxAwJfyOYcQfUCA0wKf5Yx9QEAPEwRECX5AAEsjaaKFfkDAhjPOAAJ/QKDCQzNffn9AYP5TmL36f0AQHbL+jTuAQPA6OjG9eYBA0FjCY+y3gECwdkqWG/aAQJCU0shKNIFAcLJa+3lygUBg0OItqbCBQEDuamDY7oFAIAzzkgctgkAAKnvFNmuCQOBHA/hlqYJAwGWLKpXngkCggxNdxCWDQJChm4/zY4NAcL8jwiKig0BQ3av0UeCDQDD7MyeBHoRAEBm8WbBchEDwNkSM35qEQNBUzL4O2YRAsHJU8T0XhUCgkNwjbVWFQICuZFack4VAYMzsiMvRhUBA6nS7+g+GQCAI/e0pToZAACaFIFmMhkDgQw1TiMqGQMBhlYW3CIdAsH8duOZGh0CQnaXqFYWHQHC7LR1Fw4dAUNm1T3QBiEAw9z2Coz+IQBAVxrTSfYhA8DJO5wG8iEDQUNYZMfqIQMBuXkxgOIlAoIzmfo92iUCAqm6xvrSJQGDI9uPt8olAQOZ+Fh0xikA=",
          "dtype": "f8"
         },
         "yaxis": "y"
        }
       ],
       "layout": {
        "height": 500,
        "legend": {
         "tracegroupgap": 0
        },
        "template": {
         "data": {
          "bar": [
           {
            "error_x": {
             "color": "#2a3f5f"
            },
            "error_y": {
             "color": "#2a3f5f"
            },
            "marker": {
             "line": {
              "color": "#E5ECF6",
              "width": 0.5
             },
             "pattern": {
              "fillmode": "overlay",
              "size": 10,
              "solidity": 0.2
             }
            },
            "type": "bar"
           }
          ],
          "barpolar": [
           {
            "marker": {
             "line": {
              "color": "#E5ECF6",
              "width": 0.5
             },
             "pattern": {
              "fillmode": "overlay",
              "size": 10,
              "solidity": 0.2
             }
            },
            "type": "barpolar"
           }
          ],
          "carpet": [
           {
            "aaxis": {
             "endlinecolor": "#2a3f5f",
             "gridcolor": "white",
             "linecolor": "white",
             "minorgridcolor": "white",
             "startlinecolor": "#2a3f5f"
            },
            "baxis": {
             "endlinecolor": "#2a3f5f",
             "gridcolor": "white",
             "linecolor": "white",
             "minorgridcolor": "white",
             "startlinecolor": "#2a3f5f"
            },
            "type": "carpet"
           }
          ],
          "choropleth": [
           {
            "colorbar": {
             "outlinewidth": 0,
             "ticks": ""
            },
            "type": "choropleth"
           }
          ],
          "contour": [
           {
            "colorbar": {
             "outlinewidth": 0,
             "ticks": ""
            },
            "colorscale": [
             [
              0,
              "#0d0887"
             ],
             [
              0.1111111111111111,
              "#46039f"
             ],
             [
              0.2222222222222222,
              "#7201a8"
             ],
             [
              0.3333333333333333,
              "#9c179e"
             ],
             [
              0.4444444444444444,
              "#bd3786"
             ],
             [
              0.5555555555555556,
              "#d8576b"
             ],
             [
              0.6666666666666666,
              "#ed7953"
             ],
             [
              0.7777777777777778,
              "#fb9f3a"
             ],
             [
              0.8888888888888888,
              "#fdca26"
             ],
             [
              1,
              "#f0f921"
             ]
            ],
            "type": "contour"
           }
          ],
          "contourcarpet": [
           {
            "colorbar": {
             "outlinewidth": 0,
             "ticks": ""
            },
            "type": "contourcarpet"
           }
          ],
          "heatmap": [
           {
            "colorbar": {
             "outlinewidth": 0,
             "ticks": ""
            },
            "colorscale": [
             [
              0,
              "#0d0887"
             ],
             [
              0.1111111111111111,
              "#46039f"
             ],
             [
              0.2222222222222222,
              "#7201a8"
             ],
             [
              0.3333333333333333,
              "#9c179e"
             ],
             [
              0.4444444444444444,
              "#bd3786"
             ],
             [
              0.5555555555555556,
              "#d8576b"
             ],
             [
              0.6666666666666666,
              "#ed7953"
             ],
             [
              0.7777777777777778,
              "#fb9f3a"
             ],
             [
              0.8888888888888888,
              "#fdca26"
             ],
             [
              1,
              "#f0f921"
             ]
            ],
            "type": "heatmap"
           }
          ],
          "histogram": [
           {
            "marker": {
             "pattern": {
              "fillmode": "overlay",
              "size": 10,
              "solidity": 0.2
             }
            },
            "type": "histogram"
           }
          ],
          "histogram2d": [
           {
            "colorbar": {
             "outlinewidth": 0,
             "ticks": ""
            },
            "colorscale": [
             [
              0,
              "#0d0887"
             ],
             [
              0.1111111111111111,
              "#46039f"
             ],
             [
              0.2222222222222222,
              "#7201a8"
             ],
             [
              0.3333333333333333,
              "#9c179e"
             ],
             [
              0.4444444444444444,
              "#bd3786"
             ],
             [
              0.5555555555555556,
              "#d8576b"
             ],
             [
              0.6666666666666666,
              "#ed7953"
             ],
             [
              0.7777777777777778,
              "#fb9f3a"
             ],
             [
              0.8888888888888888,
              "#fdca26"
             ],
             [
              1,
              "#f0f921"
             ]
            ],
            "type": "histogram2d"
           }
          ],
          "histogram2dcontour": [
           {
            "colorbar": {
             "outlinewidth": 0,
             "ticks": ""
            },
            "colorscale": [
             [
              0,
              "#0d0887"
             ],
             [
              0.1111111111111111,
              "#46039f"
             ],
             [
              0.2222222222222222,
              "#7201a8"
             ],
             [
              0.3333333333333333,
              "#9c179e"
             ],
             [
              0.4444444444444444,
              "#bd3786"
             ],
             [
              0.5555555555555556,
              "#d8576b"
             ],
             [
              0.6666666666666666,
              "#ed7953"
             ],
             [
              0.7777777777777778,
              "#fb9f3a"
             ],
             [
              0.8888888888888888,
              "#fdca26"
             ],
             [
              1,
              "#f0f921"
             ]
            ],
            "type": "histogram2dcontour"
           }
          ],
          "mesh3d": [
           {
            "colorbar": {
             "outlinewidth": 0,
             "ticks": ""
            },
            "type": "mesh3d"
           }
          ],
          "parcoords": [
           {
            "line": {
             "colorbar": {
              "outlinewidth": 0,
              "ticks": ""
             }
            },
            "type": "parcoords"
           }
          ],
          "pie": [
           {
            "automargin": true,
            "type": "pie"
           }
          ],
          "scatter": [
           {
            "fillpattern": {
             "fillmode": "overlay",
             "size": 10,
             "solidity": 0.2
            },
            "type": "scatter"
           }
          ],
          "scatter3d": [
           {
            "line": {
             "colorbar": {
              "outlinewidth": 0,
              "ticks": ""
             }
            },
            "marker": {
             "colorbar": {
              "outlinewidth": 0,
              "ticks": ""
             }
            },
            "type": "scatter3d"
           }
          ],
          "scattercarpet": [
           {
            "marker": {
             "colorbar": {
              "outlinewidth": 0,
              "ticks": ""
             }
            },
            "type": "scattercarpet"
           }
          ],
          "scattergeo": [
           {
            "marker": {
             "colorbar": {
              "outlinewidth": 0,
              "ticks": ""
             }
            },
            "type": "scattergeo"
           }
          ],
          "scattergl": [
           {
            "marker": {
             "colorbar": {
              "outlinewidth": 0,
              "ticks": ""
             }
            },
            "type": "scattergl"
           }
          ],
          "scattermap": [
           {
            "marker": {
             "colorbar": {
              "outlinewidth": 0,
              "ticks": ""
             }
            },
            "type": "scattermap"
           }
          ],
          "scattermapbox": [
           {
            "marker": {
             "colorbar": {
              "outlinewidth": 0,
              "ticks": ""
             }
            },
            "type": "scattermapbox"
           }
          ],
          "scatterpolar": [
           {
            "marker": {
             "colorbar": {
              "outlinewidth": 0,
              "ticks": ""
             }
            },
            "type": "scatterpolar"
           }
          ],
          "scatterpolargl": [
           {
            "marker": {
             "colorbar": {
              "outlinewidth": 0,
              "ticks": ""
             }
            },
            "type": "scatterpolargl"
           }
          ],
          "scatterternary": [
           {
            "marker": {
             "colorbar": {
              "outlinewidth": 0,
              "ticks": ""
             }
            },
            "type": "scatterternary"
           }
          ],
          "surface": [
           {
            "colorbar": {
             "outlinewidth": 0,
             "ticks": ""
            },
            "colorscale": [
             [
              0,
              "#0d0887"
             ],
             [
              0.1111111111111111,
              "#46039f"
             ],
             [
              0.2222222222222222,
              "#7201a8"
             ],
             [
              0.3333333333333333,
              "#9c179e"
             ],
             [
              0.4444444444444444,
              "#bd3786"
             ],
             [
              0.5555555555555556,
              "#d8576b"
             ],
             [
              0.6666666666666666,
              "#ed7953"
             ],
             [
              0.7777777777777778,
              "#fb9f3a"
             ],
             [
              0.8888888888888888,
              "#fdca26"
             ],
             [
              1,
              "#f0f921"
             ]
            ],
            "type": "surface"
           }
          ],
          "table": [
           {
            "cells": {
             "fill": {
              "color": "#EBF0F8"
             },
             "line": {
              "color": "white"
             }
            },
            "header": {
             "fill": {
              "color": "#C8D4E3"
             },
             "line": {
              "color": "white"
             }
            },
            "type": "table"
           }
          ]
         },
         "layout": {
          "annotationdefaults": {
           "arrowcolor": "#2a3f5f",
           "arrowhead": 0,
           "arrowwidth": 1
          },
          "autotypenumbers": "strict",
          "coloraxis": {
           "colorbar": {
            "outlinewidth": 0,
            "ticks": ""
           }
          },
          "colorscale": {
           "diverging": [
            [
             0,
             "#8e0152"
            ],
            [
             0.1,
             "#c51b7d"
            ],
            [
             0.2,
             "#de77ae"
            ],
            [
             0.3,
             "#f1b6da"
            ],
            [
             0.4,
             "#fde0ef"
            ],
            [
             0.5,
             "#f7f7f7"
            ],
            [
             0.6,
             "#e6f5d0"
            ],
            [
             0.7,
             "#b8e186"
            ],
            [
             0.8,
             "#7fbc41"
            ],
            [
             0.9,
             "#4d9221"
            ],
            [
             1,
             "#276419"
            ]
           ],
           "sequential": [
            [
             0,
             "#0d0887"
            ],
            [
             0.1111111111111111,
             "#46039f"
            ],
            [
             0.2222222222222222,
             "#7201a8"
            ],
            [
             0.3333333333333333,
             "#9c179e"
            ],
            [
             0.4444444444444444,
             "#bd3786"
            ],
            [
             0.5555555555555556,
             "#d8576b"
            ],
            [
             0.6666666666666666,
             "#ed7953"
            ],
            [
             0.7777777777777778,
             "#fb9f3a"
            ],
            [
             0.8888888888888888,
             "#fdca26"
            ],
            [
             1,
             "#f0f921"
            ]
           ],
           "sequentialminus": [
            [
             0,
             "#0d0887"
            ],
            [
             0.1111111111111111,
             "#46039f"
            ],
            [
             0.2222222222222222,
             "#7201a8"
            ],
            [
             0.3333333333333333,
             "#9c179e"
            ],
            [
             0.4444444444444444,
             "#bd3786"
            ],
            [
             0.5555555555555556,
             "#d8576b"
            ],
            [
             0.6666666666666666,
             "#ed7953"
            ],
            [
             0.7777777777777778,
             "#fb9f3a"
            ],
            [
             0.8888888888888888,
             "#fdca26"
            ],
            [
             1,
             "#f0f921"
            ]
           ]
          },
          "colorway": [
           "#636efa",
           "#EF553B",
           "#00cc96",
           "#ab63fa",
           "#FFA15A",
           "#19d3f3",
           "#FF6692",
           "#B6E880",
           "#FF97FF",
           "#FECB52"
          ],
          "font": {
           "color": "#2a3f5f"
          },
          "geo": {
           "bgcolor": "white",
           "lakecolor": "white",
           "landcolor": "#E5ECF6",
           "showlakes": true,
           "showland": true,
           "subunitcolor": "white"
          },
          "hoverlabel": {
           "align": "left"
          },
          "hovermode": "closest",
          "mapbox": {
           "style": "light"
          },
          "paper_bgcolor": "white",
          "plot_bgcolor": "#E5ECF6",
          "polar": {
           "angularaxis": {
            "gridcolor": "white",
            "linecolor": "white",
            "ticks": ""
           },
           "bgcolor": "#E5ECF6",
           "radialaxis": {
            "gridcolor": "white",
            "linecolor": "white",
            "ticks": ""
           }
          },
          "scene": {
           "xaxis": {
            "backgroundcolor": "#E5ECF6",
            "gridcolor": "white",
            "gridwidth": 2,
            "linecolor": "white",
            "showbackground": true,
            "ticks": "",
            "zerolinecolor": "white"
           },
           "yaxis": {
            "backgroundcolor": "#E5ECF6",
            "gridcolor": "white",
            "gridwidth": 2,
            "linecolor": "white",
            "showbackground": true,
            "ticks": "",
            "zerolinecolor": "white"
           },
           "zaxis": {
            "backgroundcolor": "#E5ECF6",
            "gridcolor": "white",
            "gridwidth": 2,
            "linecolor": "white",
            "showbackground": true,
            "ticks": "",
            "zerolinecolor": "white"
           }
          },
          "shapedefaults": {
           "line": {
            "color": "#2a3f5f"
           }
          },
          "ternary": {
           "aaxis": {
            "gridcolor": "white",
            "linecolor": "white",
            "ticks": ""
           },
           "baxis": {
            "gridcolor": "white",
            "linecolor": "white",
            "ticks": ""
           },
           "bgcolor": "#E5ECF6",
           "caxis": {
            "gridcolor": "white",
            "linecolor": "white",
            "ticks": ""
           }
          },
          "title": {
           "x": 0.05
          },
          "xaxis": {
           "automargin": true,
           "gridcolor": "white",
           "linecolor": "white",
           "ticks": "",
           "title": {
            "standoff": 15
           },
           "zerolinecolor": "white",
           "zerolinewidth": 2
          },
          "yaxis": {
           "automargin": true,
           "gridcolor": "white",
           "linecolor": "white",
           "ticks": "",
           "title": {
            "standoff": 15
           },
           "zerolinecolor": "white",
           "zerolinewidth": 2
          }
         }
        },
        "title": {
         "text": "الاتجاه العام لإنتاج الأفلام عبر السنوات"
        },
        "xaxis": {
         "anchor": "y",
         "domain": [
          0,
          1
         ],
         "title": {
          "text": "سنة الإصدار"
         }
        },
        "yaxis": {
         "anchor": "x",
         "domain": [
          0,
          1
         ],
         "title": {
          "text": "عدد الأفلام"
         }
        }
       }
      }
     },
     "metadata": {},
     "output_type": "display_data"
    }
   ],
   "source": [
    "\n",
    "year_counts = english_movies['release_year'].value_counts().reset_index()\n",
    "year_counts.columns = ['release_year', 'count']\n",
    "year_counts = year_counts.sort_values('release_year')\n",
    "fig = px.scatter(year_counts, x='release_year', y='count', trendline='ols',\n",
    "                 labels={'release_year': 'سنة الإصدار', 'count': 'عدد الأفلام'},\n",
    "                 title='الاتجاه العام لإنتاج الأفلام عبر السنوات',\n",
    "                 height=500)\n",
    "fig.show()\n"
   ]
  },
  {
   "cell_type": "markdown",
   "id": "119479bf",
   "metadata": {},
   "source": [
    "### شرح  لعدد الأفلام حسب الأشهر\n",
    "\n",
    "- **شهر 1 (يناير)** هو الشهر اللي فيه  عدد أفلام (4611)، وهذا غالبًا بسبب **احتفالات رأس السنة** وزيادة الإنتاج والعروض الجديدة في بداية السنة.\n",
    "\n",
    "- **شهر 2 (فبراير)** شهد انخفاض كبير  مقارنة بشهر يناير.\n",
    "\n",
    "- من **شهر 3 إلى شهر 9**، الأعداد تتراوح بين 3000 و 4200 مع تقلبات متوسطة في الإنتاج.\n",
    "\n",
    "- في **شهر 10 (أكتوبر)**\n",
    " عدد الأفلام وصل لذروته الثانية (4825)، وهذا  يفسر بزيادة الأفلام المرتبطة بـ**احتفالات الهالوين** \n",
    "- في الأشهر الأخيرة (11 و12)  معدل متوسط الى عالي لاقتراب الميلاد وراس سنة .\n",
    "\n",
    "نتيجة شهر 1 و10 ذروة الافلام .\n"
   ]
  },
  {
   "cell_type": "code",
   "execution_count": 21,
   "id": "65082ecd",
   "metadata": {},
   "outputs": [
    {
     "data": {
      "application/vnd.plotly.v1+json": {
       "config": {
        "plotlyServerURL": "https://plot.ly"
       },
       "data": [
        {
         "hovertemplate": "الشهر=%{x}<br>عدد الأفلام=%{y}<extra></extra>",
         "legendgroup": "",
         "marker": {
          "color": "#636efa",
          "pattern": {
           "shape": ""
          }
         },
         "name": "",
         "orientation": "v",
         "showlegend": false,
         "textposition": "auto",
         "type": "bar",
         "x": {
          "bdata": "AQAAAAIAAAADAAAABAAAAAUAAAAGAAAABwAAAAgAAAAJAAAACgAAAAsAAAAMAAAA",
          "dtype": "i4"
         },
         "xaxis": "x",
         "y": {
          "bdata": "AxKICzcOBA6VDRwO2wv+DXoQ2RI1D8QO",
          "dtype": "i2"
         },
         "yaxis": "y"
        }
       ],
       "layout": {
        "barmode": "relative",
        "height": 500,
        "legend": {
         "tracegroupgap": 0
        },
        "template": {
         "data": {
          "bar": [
           {
            "error_x": {
             "color": "#2a3f5f"
            },
            "error_y": {
             "color": "#2a3f5f"
            },
            "marker": {
             "line": {
              "color": "#E5ECF6",
              "width": 0.5
             },
             "pattern": {
              "fillmode": "overlay",
              "size": 10,
              "solidity": 0.2
             }
            },
            "type": "bar"
           }
          ],
          "barpolar": [
           {
            "marker": {
             "line": {
              "color": "#E5ECF6",
              "width": 0.5
             },
             "pattern": {
              "fillmode": "overlay",
              "size": 10,
              "solidity": 0.2
             }
            },
            "type": "barpolar"
           }
          ],
          "carpet": [
           {
            "aaxis": {
             "endlinecolor": "#2a3f5f",
             "gridcolor": "white",
             "linecolor": "white",
             "minorgridcolor": "white",
             "startlinecolor": "#2a3f5f"
            },
            "baxis": {
             "endlinecolor": "#2a3f5f",
             "gridcolor": "white",
             "linecolor": "white",
             "minorgridcolor": "white",
             "startlinecolor": "#2a3f5f"
            },
            "type": "carpet"
           }
          ],
          "choropleth": [
           {
            "colorbar": {
             "outlinewidth": 0,
             "ticks": ""
            },
            "type": "choropleth"
           }
          ],
          "contour": [
           {
            "colorbar": {
             "outlinewidth": 0,
             "ticks": ""
            },
            "colorscale": [
             [
              0,
              "#0d0887"
             ],
             [
              0.1111111111111111,
              "#46039f"
             ],
             [
              0.2222222222222222,
              "#7201a8"
             ],
             [
              0.3333333333333333,
              "#9c179e"
             ],
             [
              0.4444444444444444,
              "#bd3786"
             ],
             [
              0.5555555555555556,
              "#d8576b"
             ],
             [
              0.6666666666666666,
              "#ed7953"
             ],
             [
              0.7777777777777778,
              "#fb9f3a"
             ],
             [
              0.8888888888888888,
              "#fdca26"
             ],
             [
              1,
              "#f0f921"
             ]
            ],
            "type": "contour"
           }
          ],
          "contourcarpet": [
           {
            "colorbar": {
             "outlinewidth": 0,
             "ticks": ""
            },
            "type": "contourcarpet"
           }
          ],
          "heatmap": [
           {
            "colorbar": {
             "outlinewidth": 0,
             "ticks": ""
            },
            "colorscale": [
             [
              0,
              "#0d0887"
             ],
             [
              0.1111111111111111,
              "#46039f"
             ],
             [
              0.2222222222222222,
              "#7201a8"
             ],
             [
              0.3333333333333333,
              "#9c179e"
             ],
             [
              0.4444444444444444,
              "#bd3786"
             ],
             [
              0.5555555555555556,
              "#d8576b"
             ],
             [
              0.6666666666666666,
              "#ed7953"
             ],
             [
              0.7777777777777778,
              "#fb9f3a"
             ],
             [
              0.8888888888888888,
              "#fdca26"
             ],
             [
              1,
              "#f0f921"
             ]
            ],
            "type": "heatmap"
           }
          ],
          "histogram": [
           {
            "marker": {
             "pattern": {
              "fillmode": "overlay",
              "size": 10,
              "solidity": 0.2
             }
            },
            "type": "histogram"
           }
          ],
          "histogram2d": [
           {
            "colorbar": {
             "outlinewidth": 0,
             "ticks": ""
            },
            "colorscale": [
             [
              0,
              "#0d0887"
             ],
             [
              0.1111111111111111,
              "#46039f"
             ],
             [
              0.2222222222222222,
              "#7201a8"
             ],
             [
              0.3333333333333333,
              "#9c179e"
             ],
             [
              0.4444444444444444,
              "#bd3786"
             ],
             [
              0.5555555555555556,
              "#d8576b"
             ],
             [
              0.6666666666666666,
              "#ed7953"
             ],
             [
              0.7777777777777778,
              "#fb9f3a"
             ],
             [
              0.8888888888888888,
              "#fdca26"
             ],
             [
              1,
              "#f0f921"
             ]
            ],
            "type": "histogram2d"
           }
          ],
          "histogram2dcontour": [
           {
            "colorbar": {
             "outlinewidth": 0,
             "ticks": ""
            },
            "colorscale": [
             [
              0,
              "#0d0887"
             ],
             [
              0.1111111111111111,
              "#46039f"
             ],
             [
              0.2222222222222222,
              "#7201a8"
             ],
             [
              0.3333333333333333,
              "#9c179e"
             ],
             [
              0.4444444444444444,
              "#bd3786"
             ],
             [
              0.5555555555555556,
              "#d8576b"
             ],
             [
              0.6666666666666666,
              "#ed7953"
             ],
             [
              0.7777777777777778,
              "#fb9f3a"
             ],
             [
              0.8888888888888888,
              "#fdca26"
             ],
             [
              1,
              "#f0f921"
             ]
            ],
            "type": "histogram2dcontour"
           }
          ],
          "mesh3d": [
           {
            "colorbar": {
             "outlinewidth": 0,
             "ticks": ""
            },
            "type": "mesh3d"
           }
          ],
          "parcoords": [
           {
            "line": {
             "colorbar": {
              "outlinewidth": 0,
              "ticks": ""
             }
            },
            "type": "parcoords"
           }
          ],
          "pie": [
           {
            "automargin": true,
            "type": "pie"
           }
          ],
          "scatter": [
           {
            "fillpattern": {
             "fillmode": "overlay",
             "size": 10,
             "solidity": 0.2
            },
            "type": "scatter"
           }
          ],
          "scatter3d": [
           {
            "line": {
             "colorbar": {
              "outlinewidth": 0,
              "ticks": ""
             }
            },
            "marker": {
             "colorbar": {
              "outlinewidth": 0,
              "ticks": ""
             }
            },
            "type": "scatter3d"
           }
          ],
          "scattercarpet": [
           {
            "marker": {
             "colorbar": {
              "outlinewidth": 0,
              "ticks": ""
             }
            },
            "type": "scattercarpet"
           }
          ],
          "scattergeo": [
           {
            "marker": {
             "colorbar": {
              "outlinewidth": 0,
              "ticks": ""
             }
            },
            "type": "scattergeo"
           }
          ],
          "scattergl": [
           {
            "marker": {
             "colorbar": {
              "outlinewidth": 0,
              "ticks": ""
             }
            },
            "type": "scattergl"
           }
          ],
          "scattermap": [
           {
            "marker": {
             "colorbar": {
              "outlinewidth": 0,
              "ticks": ""
             }
            },
            "type": "scattermap"
           }
          ],
          "scattermapbox": [
           {
            "marker": {
             "colorbar": {
              "outlinewidth": 0,
              "ticks": ""
             }
            },
            "type": "scattermapbox"
           }
          ],
          "scatterpolar": [
           {
            "marker": {
             "colorbar": {
              "outlinewidth": 0,
              "ticks": ""
             }
            },
            "type": "scatterpolar"
           }
          ],
          "scatterpolargl": [
           {
            "marker": {
             "colorbar": {
              "outlinewidth": 0,
              "ticks": ""
             }
            },
            "type": "scatterpolargl"
           }
          ],
          "scatterternary": [
           {
            "marker": {
             "colorbar": {
              "outlinewidth": 0,
              "ticks": ""
             }
            },
            "type": "scatterternary"
           }
          ],
          "surface": [
           {
            "colorbar": {
             "outlinewidth": 0,
             "ticks": ""
            },
            "colorscale": [
             [
              0,
              "#0d0887"
             ],
             [
              0.1111111111111111,
              "#46039f"
             ],
             [
              0.2222222222222222,
              "#7201a8"
             ],
             [
              0.3333333333333333,
              "#9c179e"
             ],
             [
              0.4444444444444444,
              "#bd3786"
             ],
             [
              0.5555555555555556,
              "#d8576b"
             ],
             [
              0.6666666666666666,
              "#ed7953"
             ],
             [
              0.7777777777777778,
              "#fb9f3a"
             ],
             [
              0.8888888888888888,
              "#fdca26"
             ],
             [
              1,
              "#f0f921"
             ]
            ],
            "type": "surface"
           }
          ],
          "table": [
           {
            "cells": {
             "fill": {
              "color": "#EBF0F8"
             },
             "line": {
              "color": "white"
             }
            },
            "header": {
             "fill": {
              "color": "#C8D4E3"
             },
             "line": {
              "color": "white"
             }
            },
            "type": "table"
           }
          ]
         },
         "layout": {
          "annotationdefaults": {
           "arrowcolor": "#2a3f5f",
           "arrowhead": 0,
           "arrowwidth": 1
          },
          "autotypenumbers": "strict",
          "coloraxis": {
           "colorbar": {
            "outlinewidth": 0,
            "ticks": ""
           }
          },
          "colorscale": {
           "diverging": [
            [
             0,
             "#8e0152"
            ],
            [
             0.1,
             "#c51b7d"
            ],
            [
             0.2,
             "#de77ae"
            ],
            [
             0.3,
             "#f1b6da"
            ],
            [
             0.4,
             "#fde0ef"
            ],
            [
             0.5,
             "#f7f7f7"
            ],
            [
             0.6,
             "#e6f5d0"
            ],
            [
             0.7,
             "#b8e186"
            ],
            [
             0.8,
             "#7fbc41"
            ],
            [
             0.9,
             "#4d9221"
            ],
            [
             1,
             "#276419"
            ]
           ],
           "sequential": [
            [
             0,
             "#0d0887"
            ],
            [
             0.1111111111111111,
             "#46039f"
            ],
            [
             0.2222222222222222,
             "#7201a8"
            ],
            [
             0.3333333333333333,
             "#9c179e"
            ],
            [
             0.4444444444444444,
             "#bd3786"
            ],
            [
             0.5555555555555556,
             "#d8576b"
            ],
            [
             0.6666666666666666,
             "#ed7953"
            ],
            [
             0.7777777777777778,
             "#fb9f3a"
            ],
            [
             0.8888888888888888,
             "#fdca26"
            ],
            [
             1,
             "#f0f921"
            ]
           ],
           "sequentialminus": [
            [
             0,
             "#0d0887"
            ],
            [
             0.1111111111111111,
             "#46039f"
            ],
            [
             0.2222222222222222,
             "#7201a8"
            ],
            [
             0.3333333333333333,
             "#9c179e"
            ],
            [
             0.4444444444444444,
             "#bd3786"
            ],
            [
             0.5555555555555556,
             "#d8576b"
            ],
            [
             0.6666666666666666,
             "#ed7953"
            ],
            [
             0.7777777777777778,
             "#fb9f3a"
            ],
            [
             0.8888888888888888,
             "#fdca26"
            ],
            [
             1,
             "#f0f921"
            ]
           ]
          },
          "colorway": [
           "#636efa",
           "#EF553B",
           "#00cc96",
           "#ab63fa",
           "#FFA15A",
           "#19d3f3",
           "#FF6692",
           "#B6E880",
           "#FF97FF",
           "#FECB52"
          ],
          "font": {
           "color": "#2a3f5f"
          },
          "geo": {
           "bgcolor": "white",
           "lakecolor": "white",
           "landcolor": "#E5ECF6",
           "showlakes": true,
           "showland": true,
           "subunitcolor": "white"
          },
          "hoverlabel": {
           "align": "left"
          },
          "hovermode": "closest",
          "mapbox": {
           "style": "light"
          },
          "paper_bgcolor": "white",
          "plot_bgcolor": "#E5ECF6",
          "polar": {
           "angularaxis": {
            "gridcolor": "white",
            "linecolor": "white",
            "ticks": ""
           },
           "bgcolor": "#E5ECF6",
           "radialaxis": {
            "gridcolor": "white",
            "linecolor": "white",
            "ticks": ""
           }
          },
          "scene": {
           "xaxis": {
            "backgroundcolor": "#E5ECF6",
            "gridcolor": "white",
            "gridwidth": 2,
            "linecolor": "white",
            "showbackground": true,
            "ticks": "",
            "zerolinecolor": "white"
           },
           "yaxis": {
            "backgroundcolor": "#E5ECF6",
            "gridcolor": "white",
            "gridwidth": 2,
            "linecolor": "white",
            "showbackground": true,
            "ticks": "",
            "zerolinecolor": "white"
           },
           "zaxis": {
            "backgroundcolor": "#E5ECF6",
            "gridcolor": "white",
            "gridwidth": 2,
            "linecolor": "white",
            "showbackground": true,
            "ticks": "",
            "zerolinecolor": "white"
           }
          },
          "shapedefaults": {
           "line": {
            "color": "#2a3f5f"
           }
          },
          "ternary": {
           "aaxis": {
            "gridcolor": "white",
            "linecolor": "white",
            "ticks": ""
           },
           "baxis": {
            "gridcolor": "white",
            "linecolor": "white",
            "ticks": ""
           },
           "bgcolor": "#E5ECF6",
           "caxis": {
            "gridcolor": "white",
            "linecolor": "white",
            "ticks": ""
           }
          },
          "title": {
           "x": 0.05
          },
          "xaxis": {
           "automargin": true,
           "gridcolor": "white",
           "linecolor": "white",
           "ticks": "",
           "title": {
            "standoff": 15
           },
           "zerolinecolor": "white",
           "zerolinewidth": 2
          },
          "yaxis": {
           "automargin": true,
           "gridcolor": "white",
           "linecolor": "white",
           "ticks": "",
           "title": {
            "standoff": 15
           },
           "zerolinecolor": "white",
           "zerolinewidth": 2
          }
         }
        },
        "title": {
         "text": "عدد الأفلام حسب الشهر عبر جميع السنوات"
        },
        "xaxis": {
         "anchor": "y",
         "domain": [
          0,
          1
         ],
         "title": {
          "text": "الشهر"
         }
        },
        "yaxis": {
         "anchor": "x",
         "domain": [
          0,
          1
         ],
         "title": {
          "text": "عدد الأفلام"
         }
        }
       }
      }
     },
     "metadata": {},
     "output_type": "display_data"
    }
   ],
   "source": [
    "\n",
    "monthly_counts = english_movies.groupby('release_month').size().reset_index(name='movie_count')\n",
    "monthly_counts = monthly_counts.sort_values('release_month').reset_index(drop=True)\n",
    "\n",
    "fig = px.bar(monthly_counts, x='release_month', y='movie_count',\n",
    "             labels={'release_month': 'الشهر', 'movie_count': 'عدد الأفلام'},\n",
    "             title='عدد الأفلام حسب الشهر عبر جميع السنوات',\n",
    "             height=500)\n",
    "\n",
    "fig.show()\n"
   ]
  },
  {
   "cell_type": "markdown",
   "id": "e1986e3d",
   "metadata": {},
   "source": [
    "\n",
    "\n",
    "##  توزيع الإنتاج غير متوازن:\n",
    "- تركيز كبير على:\n",
    "  - **الدراما** \n",
    "  - **الكوميديا**\n",
    "  - **الأفلام الوثائقية**\n",
    "\n",
    "- باقي الأنواع إنتاجها محدود، \n",
    "  "
   ]
  },
  {
   "cell_type": "code",
   "execution_count": 22,
   "id": "a975c109",
   "metadata": {},
   "outputs": [
    {
     "name": "stdout",
     "output_type": "stream",
     "text": [
      "4478\n"
     ]
    },
    {
     "data": {
      "application/vnd.plotly.v1+json": {
       "config": {
        "plotlyServerURL": "https://plot.ly"
       },
       "data": [
        {
         "hovertemplate": "Genre=%{x}<br>Number of Movies=%{y}<extra></extra>",
         "legendgroup": "",
         "marker": {
          "color": "#636efa",
          "pattern": {
           "shape": ""
          }
         },
         "name": "",
         "orientation": "v",
         "showlegend": false,
         "textposition": "auto",
         "type": "bar",
         "x": [
          "Drama",
          "Documentary",
          "Comedy",
          "Horror",
          "Western",
          "Drama-Romance",
          "Comedy-Romance",
          "Comedy-Drama",
          "Horror-Thriller",
          "Music",
          "Thriller",
          "Action",
          "Crime-Drama",
          "Comedy-Drama-Romance",
          "Drama-Thriller",
          "Drama-Comedy",
          "Action-Thriller",
          "Documentary-Music",
          "Crime-Drama-Thriller",
          "Comedy-Horror",
          "Drama-Crime",
          "Horror-Science Fiction",
          "Action-Drama",
          "Romance-Drama",
          "Thriller-Horror",
          "Romance-Comedy",
          "Horror-Comedy",
          "Drama-TV Movie",
          "Science Fiction",
          "Comedy-Music",
          "Drama-History",
          "Comedy-Crime",
          "Adventure",
          "Thriller-Drama",
          "Crime",
          "Horror-Mystery-Thriller",
          "Drama-War",
          "Music-Documentary",
          "Drama-Family",
          "Crime-Thriller",
          "Comedy-Family",
          "Drama-Music",
          "Documentary-History",
          "Action-Adventure",
          "Action-Comedy",
          "Comedy-Music-Romance",
          "Horror-Mystery",
          "Action-Crime-Thriller",
          "Music-Comedy",
          "Action-Science Fiction"
         ],
         "xaxis": "x",
         "y": {
          "bdata": "8Q1FCy8L5QYMBu0DvQN4A/kCdQJKAhQC9wHZAdIBWgE2ASQBHwEdARkBFQESAQ0BCwH/APwA6gDpANsA2QDTALoAswCtAKoApQCkAKAAlQCRAI4AjQCLAIoAiACBAH0AdwBwAA==",
          "dtype": "i2"
         },
         "yaxis": "y"
        }
       ],
       "layout": {
        "barmode": "relative",
        "height": 500,
        "legend": {
         "tracegroupgap": 0
        },
        "template": {
         "data": {
          "bar": [
           {
            "error_x": {
             "color": "#2a3f5f"
            },
            "error_y": {
             "color": "#2a3f5f"
            },
            "marker": {
             "line": {
              "color": "#E5ECF6",
              "width": 0.5
             },
             "pattern": {
              "fillmode": "overlay",
              "size": 10,
              "solidity": 0.2
             }
            },
            "type": "bar"
           }
          ],
          "barpolar": [
           {
            "marker": {
             "line": {
              "color": "#E5ECF6",
              "width": 0.5
             },
             "pattern": {
              "fillmode": "overlay",
              "size": 10,
              "solidity": 0.2
             }
            },
            "type": "barpolar"
           }
          ],
          "carpet": [
           {
            "aaxis": {
             "endlinecolor": "#2a3f5f",
             "gridcolor": "white",
             "linecolor": "white",
             "minorgridcolor": "white",
             "startlinecolor": "#2a3f5f"
            },
            "baxis": {
             "endlinecolor": "#2a3f5f",
             "gridcolor": "white",
             "linecolor": "white",
             "minorgridcolor": "white",
             "startlinecolor": "#2a3f5f"
            },
            "type": "carpet"
           }
          ],
          "choropleth": [
           {
            "colorbar": {
             "outlinewidth": 0,
             "ticks": ""
            },
            "type": "choropleth"
           }
          ],
          "contour": [
           {
            "colorbar": {
             "outlinewidth": 0,
             "ticks": ""
            },
            "colorscale": [
             [
              0,
              "#0d0887"
             ],
             [
              0.1111111111111111,
              "#46039f"
             ],
             [
              0.2222222222222222,
              "#7201a8"
             ],
             [
              0.3333333333333333,
              "#9c179e"
             ],
             [
              0.4444444444444444,
              "#bd3786"
             ],
             [
              0.5555555555555556,
              "#d8576b"
             ],
             [
              0.6666666666666666,
              "#ed7953"
             ],
             [
              0.7777777777777778,
              "#fb9f3a"
             ],
             [
              0.8888888888888888,
              "#fdca26"
             ],
             [
              1,
              "#f0f921"
             ]
            ],
            "type": "contour"
           }
          ],
          "contourcarpet": [
           {
            "colorbar": {
             "outlinewidth": 0,
             "ticks": ""
            },
            "type": "contourcarpet"
           }
          ],
          "heatmap": [
           {
            "colorbar": {
             "outlinewidth": 0,
             "ticks": ""
            },
            "colorscale": [
             [
              0,
              "#0d0887"
             ],
             [
              0.1111111111111111,
              "#46039f"
             ],
             [
              0.2222222222222222,
              "#7201a8"
             ],
             [
              0.3333333333333333,
              "#9c179e"
             ],
             [
              0.4444444444444444,
              "#bd3786"
             ],
             [
              0.5555555555555556,
              "#d8576b"
             ],
             [
              0.6666666666666666,
              "#ed7953"
             ],
             [
              0.7777777777777778,
              "#fb9f3a"
             ],
             [
              0.8888888888888888,
              "#fdca26"
             ],
             [
              1,
              "#f0f921"
             ]
            ],
            "type": "heatmap"
           }
          ],
          "histogram": [
           {
            "marker": {
             "pattern": {
              "fillmode": "overlay",
              "size": 10,
              "solidity": 0.2
             }
            },
            "type": "histogram"
           }
          ],
          "histogram2d": [
           {
            "colorbar": {
             "outlinewidth": 0,
             "ticks": ""
            },
            "colorscale": [
             [
              0,
              "#0d0887"
             ],
             [
              0.1111111111111111,
              "#46039f"
             ],
             [
              0.2222222222222222,
              "#7201a8"
             ],
             [
              0.3333333333333333,
              "#9c179e"
             ],
             [
              0.4444444444444444,
              "#bd3786"
             ],
             [
              0.5555555555555556,
              "#d8576b"
             ],
             [
              0.6666666666666666,
              "#ed7953"
             ],
             [
              0.7777777777777778,
              "#fb9f3a"
             ],
             [
              0.8888888888888888,
              "#fdca26"
             ],
             [
              1,
              "#f0f921"
             ]
            ],
            "type": "histogram2d"
           }
          ],
          "histogram2dcontour": [
           {
            "colorbar": {
             "outlinewidth": 0,
             "ticks": ""
            },
            "colorscale": [
             [
              0,
              "#0d0887"
             ],
             [
              0.1111111111111111,
              "#46039f"
             ],
             [
              0.2222222222222222,
              "#7201a8"
             ],
             [
              0.3333333333333333,
              "#9c179e"
             ],
             [
              0.4444444444444444,
              "#bd3786"
             ],
             [
              0.5555555555555556,
              "#d8576b"
             ],
             [
              0.6666666666666666,
              "#ed7953"
             ],
             [
              0.7777777777777778,
              "#fb9f3a"
             ],
             [
              0.8888888888888888,
              "#fdca26"
             ],
             [
              1,
              "#f0f921"
             ]
            ],
            "type": "histogram2dcontour"
           }
          ],
          "mesh3d": [
           {
            "colorbar": {
             "outlinewidth": 0,
             "ticks": ""
            },
            "type": "mesh3d"
           }
          ],
          "parcoords": [
           {
            "line": {
             "colorbar": {
              "outlinewidth": 0,
              "ticks": ""
             }
            },
            "type": "parcoords"
           }
          ],
          "pie": [
           {
            "automargin": true,
            "type": "pie"
           }
          ],
          "scatter": [
           {
            "fillpattern": {
             "fillmode": "overlay",
             "size": 10,
             "solidity": 0.2
            },
            "type": "scatter"
           }
          ],
          "scatter3d": [
           {
            "line": {
             "colorbar": {
              "outlinewidth": 0,
              "ticks": ""
             }
            },
            "marker": {
             "colorbar": {
              "outlinewidth": 0,
              "ticks": ""
             }
            },
            "type": "scatter3d"
           }
          ],
          "scattercarpet": [
           {
            "marker": {
             "colorbar": {
              "outlinewidth": 0,
              "ticks": ""
             }
            },
            "type": "scattercarpet"
           }
          ],
          "scattergeo": [
           {
            "marker": {
             "colorbar": {
              "outlinewidth": 0,
              "ticks": ""
             }
            },
            "type": "scattergeo"
           }
          ],
          "scattergl": [
           {
            "marker": {
             "colorbar": {
              "outlinewidth": 0,
              "ticks": ""
             }
            },
            "type": "scattergl"
           }
          ],
          "scattermap": [
           {
            "marker": {
             "colorbar": {
              "outlinewidth": 0,
              "ticks": ""
             }
            },
            "type": "scattermap"
           }
          ],
          "scattermapbox": [
           {
            "marker": {
             "colorbar": {
              "outlinewidth": 0,
              "ticks": ""
             }
            },
            "type": "scattermapbox"
           }
          ],
          "scatterpolar": [
           {
            "marker": {
             "colorbar": {
              "outlinewidth": 0,
              "ticks": ""
             }
            },
            "type": "scatterpolar"
           }
          ],
          "scatterpolargl": [
           {
            "marker": {
             "colorbar": {
              "outlinewidth": 0,
              "ticks": ""
             }
            },
            "type": "scatterpolargl"
           }
          ],
          "scatterternary": [
           {
            "marker": {
             "colorbar": {
              "outlinewidth": 0,
              "ticks": ""
             }
            },
            "type": "scatterternary"
           }
          ],
          "surface": [
           {
            "colorbar": {
             "outlinewidth": 0,
             "ticks": ""
            },
            "colorscale": [
             [
              0,
              "#0d0887"
             ],
             [
              0.1111111111111111,
              "#46039f"
             ],
             [
              0.2222222222222222,
              "#7201a8"
             ],
             [
              0.3333333333333333,
              "#9c179e"
             ],
             [
              0.4444444444444444,
              "#bd3786"
             ],
             [
              0.5555555555555556,
              "#d8576b"
             ],
             [
              0.6666666666666666,
              "#ed7953"
             ],
             [
              0.7777777777777778,
              "#fb9f3a"
             ],
             [
              0.8888888888888888,
              "#fdca26"
             ],
             [
              1,
              "#f0f921"
             ]
            ],
            "type": "surface"
           }
          ],
          "table": [
           {
            "cells": {
             "fill": {
              "color": "#EBF0F8"
             },
             "line": {
              "color": "white"
             }
            },
            "header": {
             "fill": {
              "color": "#C8D4E3"
             },
             "line": {
              "color": "white"
             }
            },
            "type": "table"
           }
          ]
         },
         "layout": {
          "annotationdefaults": {
           "arrowcolor": "#2a3f5f",
           "arrowhead": 0,
           "arrowwidth": 1
          },
          "autotypenumbers": "strict",
          "coloraxis": {
           "colorbar": {
            "outlinewidth": 0,
            "ticks": ""
           }
          },
          "colorscale": {
           "diverging": [
            [
             0,
             "#8e0152"
            ],
            [
             0.1,
             "#c51b7d"
            ],
            [
             0.2,
             "#de77ae"
            ],
            [
             0.3,
             "#f1b6da"
            ],
            [
             0.4,
             "#fde0ef"
            ],
            [
             0.5,
             "#f7f7f7"
            ],
            [
             0.6,
             "#e6f5d0"
            ],
            [
             0.7,
             "#b8e186"
            ],
            [
             0.8,
             "#7fbc41"
            ],
            [
             0.9,
             "#4d9221"
            ],
            [
             1,
             "#276419"
            ]
           ],
           "sequential": [
            [
             0,
             "#0d0887"
            ],
            [
             0.1111111111111111,
             "#46039f"
            ],
            [
             0.2222222222222222,
             "#7201a8"
            ],
            [
             0.3333333333333333,
             "#9c179e"
            ],
            [
             0.4444444444444444,
             "#bd3786"
            ],
            [
             0.5555555555555556,
             "#d8576b"
            ],
            [
             0.6666666666666666,
             "#ed7953"
            ],
            [
             0.7777777777777778,
             "#fb9f3a"
            ],
            [
             0.8888888888888888,
             "#fdca26"
            ],
            [
             1,
             "#f0f921"
            ]
           ],
           "sequentialminus": [
            [
             0,
             "#0d0887"
            ],
            [
             0.1111111111111111,
             "#46039f"
            ],
            [
             0.2222222222222222,
             "#7201a8"
            ],
            [
             0.3333333333333333,
             "#9c179e"
            ],
            [
             0.4444444444444444,
             "#bd3786"
            ],
            [
             0.5555555555555556,
             "#d8576b"
            ],
            [
             0.6666666666666666,
             "#ed7953"
            ],
            [
             0.7777777777777778,
             "#fb9f3a"
            ],
            [
             0.8888888888888888,
             "#fdca26"
            ],
            [
             1,
             "#f0f921"
            ]
           ]
          },
          "colorway": [
           "#636efa",
           "#EF553B",
           "#00cc96",
           "#ab63fa",
           "#FFA15A",
           "#19d3f3",
           "#FF6692",
           "#B6E880",
           "#FF97FF",
           "#FECB52"
          ],
          "font": {
           "color": "#2a3f5f"
          },
          "geo": {
           "bgcolor": "white",
           "lakecolor": "white",
           "landcolor": "#E5ECF6",
           "showlakes": true,
           "showland": true,
           "subunitcolor": "white"
          },
          "hoverlabel": {
           "align": "left"
          },
          "hovermode": "closest",
          "mapbox": {
           "style": "light"
          },
          "paper_bgcolor": "white",
          "plot_bgcolor": "#E5ECF6",
          "polar": {
           "angularaxis": {
            "gridcolor": "white",
            "linecolor": "white",
            "ticks": ""
           },
           "bgcolor": "#E5ECF6",
           "radialaxis": {
            "gridcolor": "white",
            "linecolor": "white",
            "ticks": ""
           }
          },
          "scene": {
           "xaxis": {
            "backgroundcolor": "#E5ECF6",
            "gridcolor": "white",
            "gridwidth": 2,
            "linecolor": "white",
            "showbackground": true,
            "ticks": "",
            "zerolinecolor": "white"
           },
           "yaxis": {
            "backgroundcolor": "#E5ECF6",
            "gridcolor": "white",
            "gridwidth": 2,
            "linecolor": "white",
            "showbackground": true,
            "ticks": "",
            "zerolinecolor": "white"
           },
           "zaxis": {
            "backgroundcolor": "#E5ECF6",
            "gridcolor": "white",
            "gridwidth": 2,
            "linecolor": "white",
            "showbackground": true,
            "ticks": "",
            "zerolinecolor": "white"
           }
          },
          "shapedefaults": {
           "line": {
            "color": "#2a3f5f"
           }
          },
          "ternary": {
           "aaxis": {
            "gridcolor": "white",
            "linecolor": "white",
            "ticks": ""
           },
           "baxis": {
            "gridcolor": "white",
            "linecolor": "white",
            "ticks": ""
           },
           "bgcolor": "#E5ECF6",
           "caxis": {
            "gridcolor": "white",
            "linecolor": "white",
            "ticks": ""
           }
          },
          "title": {
           "x": 0.05
          },
          "xaxis": {
           "automargin": true,
           "gridcolor": "white",
           "linecolor": "white",
           "ticks": "",
           "title": {
            "standoff": 15
           },
           "zerolinecolor": "white",
           "zerolinewidth": 2
          },
          "yaxis": {
           "automargin": true,
           "gridcolor": "white",
           "linecolor": "white",
           "ticks": "",
           "title": {
            "standoff": 15
           },
           "zerolinecolor": "white",
           "zerolinewidth": 2
          }
         }
        },
        "title": {
         "text": "Top 50 Most Common Movie Genres"
        },
        "xaxis": {
         "anchor": "y",
         "domain": [
          0,
          1
         ],
         "tickangle": -45,
         "title": {
          "text": "Genre"
         }
        },
        "yaxis": {
         "anchor": "x",
         "domain": [
          0,
          1
         ],
         "title": {
          "text": "Number of Movies"
         }
        }
       }
      }
     },
     "metadata": {},
     "output_type": "display_data"
    }
   ],
   "source": [
    "print(english_movies['genres'].value_counts().count())\n",
    "\n",
    "genre_counts = english_movies['genres'].value_counts()\n",
    "top_genres = genre_counts.head(50)\n",
    "df_top_genres = top_genres.reset_index()\n",
    "df_top_genres.columns = ['Genre', 'Count']\n",
    "fig = px.bar(df_top_genres, x='Genre', y='Count',\n",
    "             title='Top 50 Most Common Movie Genres',\n",
    "             labels={'Genre': 'Genre', 'Count': 'Number of Movies'},\n",
    "             height=500)\n",
    "\n",
    "fig.update_layout(xaxis_tickangle=-45)\n",
    "\n",
    "fig.show()\n"
   ]
  },
  {
   "cell_type": "markdown",
   "id": "76cb0fac",
   "metadata": {},
   "source": [
    "###  التعامل مع الأنواع الفريدة في بيانات الأفلام\n",
    "\n",
    "في بياناتي، يوجد حوالي **3884 فيلم** بأنواع **فريدة** تظهر مرة واحدة فقط من أصل **45,000 فيلم**. هذه الأنواع قد تؤثر على أداء نموذج .\n",
    "\n",
    "لذلك، سأقوم بتجربة طريقتين:\n",
    "\n",
    "1. **حذف الأنواع الفريدة**  \n",
    "   - لتقليل التشويش والضوضاء في البيانات.  \n",
    "   - تبسيط تصنيفات الأنواع مما قد يحسن من أداء النموذج.\n",
    "\n",
    "2. **الاحتفاظ بالأنواع**  \n",
    "   - للحفاظ على التنوع الكامل في البيانات.  \n",
    "   - لمساعدة النموذج على التعامل مع الأنواع النادرة أو غير الشائعة.\n",
    "\n",
    "سأقوم بمقارنة أداء النموذج في الحالتين لاختيار الأفضل.\n"
   ]
  },
  {
   "cell_type": "code",
   "execution_count": 23,
   "id": "4d85613e",
   "metadata": {},
   "outputs": [
    {
     "data": {
      "text/plain": [
       "41399"
      ]
     },
     "execution_count": 23,
     "metadata": {},
     "output_type": "execute_result"
    }
   ],
   "source": [
    "genre_counts = english_movies['genres'].value_counts()\n",
    "rare_genres = genre_counts[genre_counts < 3].index\n",
    "# رح احتفظ بافلام يلي نوعها فريد لدراستها لاحقا  \n",
    "english_moviesn = english_movies[english_movies['genres'].isin(rare_genres)]\n",
    "\n",
    "# english_movies2 : الداتا بدون تشويش بالانواع\n",
    "# مشان جرب تدريب علها\n",
    "english_movies2 = english_movies[~english_movies['genres'].isin(rare_genres)]\n",
    "\n",
    "len(english_movies2)"
   ]
  },
  {
   "cell_type": "markdown",
   "id": "86f7b5d4",
   "metadata": {},
   "source": [
    "### دراسة الانواع التي تحتوي على اكثر من 300 فيلم :\n",
    "### 1. أعلى الأنواع ربحًا صافيًا:\n",
    "| النوع                | الميزانية  | الربح الصافي  | ملاحظات                                                      |\n",
    "| -------------------- | ------------ | --------------- | ------------------------------------------------------------------- |\n",
    "| Action-Thriller      | 9.57 مليون   | 11.52 مليون     | رغم التكلفة العالية، النوع يحقق أرباح ضخمة، مناسب للاستثمار الكبير. |\n",
    "| Comedy-Romance       | 5.37 مليون   | 11.70 مليون     | ربح ممتاز مقارنة بالتكلفة، النوع مربح للغاية   .       |\n",
    "| Comedy-Drama-Romance | 5.29 مليون   | 11.59 مليون     | يثبت قوة الدمج بين الكوميديا والدراما والرومانسية في جذب الجماهير.  |\n",
    "| Action-Drama         | 2.50 مليون   | 7.14 مليون      | استثمار متوسط بأرباح عالية، النوع يجمع الحماس مع الدراما بفعالية.   |\n",
    "| Romance-Comedy       | 2.70 مليون   | 8.16 مليون      | نوع جماهيري مربح، دمج الرومانسية والكوميديا يجذب شريحة واسعة.       |\n",
    "\n",
    "### 2. أنواع تحقق أرباح معتدلة وجيدة:\n",
    "| النوع                  | الميزانية  | الربح الصافي  | ملاحظات                                                 |\n",
    "| ---------------------- | ------------ | --------------- | -------------------------------------------------------------- |\n",
    "| Drama-Romance          | 3.39 مليون   | 7.02 مليون      | أرباح مستقرة مع تكلفة متوسطة، النوع رومانسي درامي ناجح ماليًا. |\n",
    "| Crime-Drama-Thriller   | 5.07 مليون   | 6.68 مليون      | مزيج الجريمة والإثارة يثبت فعاليته بتحقيق أرباح قوية.          |\n",
    "| Comedy                 | 2.33 مليون   | 4.13 مليون      | الكوميديا تظل خيارًا مربحًا بأرباح متوسطة.                     |\n",
    "| Drama-Crime            | 2.31 مليون   | 4.79 مليون      | دمج الدراما والجريمة يحقق نتائج مالية جيدة.                    |\n",
    "| Horror-Thriller        | 1.89 مليون   | 5.17 مليون      | الرعب مع الإثارة يحقق أرباح عالية بتكاليف معقولة.              |\n",
    "| Drama-Comedy           | 2.47 مليون   | 3.40 مليون      | أرباح جيدة، خليط بين الجدية والطرافة.                          |\n",
    "| Horror-Science Fiction | 1.02 مليون   | 1.42 مليون      | أرباح معقولة، يجذب جمهور الخيال والرعب.                        |\n",
    "| Thriller-Horror        | 902 ألف      | 2.18 مليون      | دمج الرعب مع التشويق ناجح ماليًا، مناسب للميزانيات الصغيرة.    |\n",
    "| Drama-Thriller         | 2.93 مليون   | 1.93 مليون      | أرباح معقولة، لكنه أقل جذبًا من أنواع الإثارة الأخرى.          |\n",
    "| Horror                 | 558 ألف      | 1.26 مليون      | نوع مربح جدًا مقارنة بالتكلفة المنخفضة.                        |\n",
    "| Documentary-Music      | 153 ألف      | 339 ألف         | أرباح محدودة لكن إيجابية مقابل تكلفة منخفضة.                   |\n",
    "| Documentary            | 71 ألف       | 260 ألف         | أرباح جيدة جدًا بميزانية شبه معدومة، النوع منخفض المخاطر.      |\n",
    "| Thriller               | 1.04 مليون   | 597 ألف         | أرباح متوسطة، مناسب للمشاريع ذات المخاطرة المحدودة.            |\n",
    "| Crime-Drama            | 1.46 مليون   | 816 ألف         | أرباح معقولة ضمن إطار الجريمة والدراما التقليدي.               |\n",
    "| Comedy-Horror          | 795 ألف      | 1.04 مليون      | نوع منخفض التكلفة، يحقق أرباح بسيطة لكنها إيجابية.             |\n",
    "| Western                | 202 ألف      | 150 ألف         | أرباح محدودة جدًا، سوق هذا النوع صغير وضعيف حاليًا.            |\n",
    "\n",
    "### 3. أنواع كانت خاسرة أو ذات أداء ضعيف:\n",
    "| النوع           | الميزانية  | الربح الصافي  | ملاحظات تحليلية                                                 |\n",
    "| --------------- | ------------ | --------------- | --------------------------------------------------------------- |\n",
    "| Action          | 1.62 مليون   | -145 ألف        | خسارة، رغم قوة نوع الأكشن، مشاريع هذا القسم لم تكن ناجحة.       |\n",
    "| Music           | 67 ألف       | -19 ألف         | سوق الموسيقى ضعيف ماليًا، حتى مع ميزانية ضئيلة كانت هناك خسارة. |\n",
    "| Science Fiction | 1.39 مليون   | -31 ألف         | خسارة طفيفة، ضعف نوع الخيال العلمي رغم شهرته   .     |\n",
    "\n",
    "\n",
    "### استنتاج شامل:\n",
    " أفضل الأنواع ربحًا هي تلك التي تجمع بين الأكشن والإثارة، الكوميديا مع الرومانسية، أو الدراما مع عناصر أخرى مثل الإثارة أو الجريمة.\n",
    "الأنواع المنخفضة الميزانية مثل الرعب والوثائقي تحقق أرباحًا جيدة جدًا مقابل تكلفتها.\n",
    " الأنواع الخاسرة تركزت في الأكشن  والموسيقى، والخيال العلمي، ما يدل على ضرورة التدقيق في اختيار المشاريع ضمن هذه الفئات.\n",
    " هناك علاقة واضحة بين الاستثمار الذكي في ميزانيات متوسطة وتحقيق أرباح كبيرة خاصة في:\n",
    " \n",
    "Comedy-Romance وComedy-Drama-Romanceو Romance-Comedy و Action-Drama\n",
    "\n",
    " بينما الاستثمار المرتفع جدًا قد يحقق أرباح ضخمة مثل:\n",
    "\n",
    "Action-Thriller\n"
   ]
  },
  {
   "cell_type": "code",
   "execution_count": 24,
   "id": "ea1dcef2",
   "metadata": {},
   "outputs": [
    {
     "name": "stdout",
     "output_type": "stream",
     "text": [
      "28\n",
      "                              budget       revenue        profit\n",
      "genres                                                          \n",
      "Action                  1.696167e+06  1.544733e+06 -1.514341e+05\n",
      "Action-Drama            2.550489e+06  9.821214e+06  7.270725e+06\n",
      "Action-Thriller         9.818105e+06  2.163540e+07  1.181729e+07\n",
      "Comedy                  2.559974e+06  7.089619e+06  4.529645e+06\n",
      "Comedy-Drama            3.407717e+06  7.629079e+06  4.221362e+06\n",
      "Comedy-Drama-Romance    5.357857e+06  1.710350e+07  1.174564e+07\n",
      "Comedy-Horror           8.989515e+05  2.082804e+06  1.183852e+06\n",
      "Comedy-Romance          5.447854e+06  1.732363e+07  1.187578e+07\n",
      "Crime-Drama             1.497135e+06  2.331191e+06  8.340564e+05\n",
      "Crime-Drama-Thriller    5.124653e+06  1.195486e+07  6.830205e+06\n",
      "Documentary             7.517907e+04  3.481368e+05  2.729578e+05\n",
      "Documentary-Music       1.578213e+05  5.066785e+05  3.488572e+05\n",
      "Drama                   1.538603e+06  3.773704e+06  2.235101e+06\n",
      "Drama-Comedy            2.714942e+06  6.443299e+06  3.728358e+06\n",
      "Drama-Crime             2.399565e+06  7.368298e+06  4.968733e+06\n",
      "Drama-Romance           3.483154e+06  1.069228e+07  7.209122e+06\n",
      "Drama-Thriller          3.147715e+06  5.216803e+06  2.069087e+06\n",
      "Horror                  6.189094e+05  2.017727e+06  1.398817e+06\n",
      "Horror-Comedy           1.186807e+06  1.574542e+06  3.877349e+05\n",
      "Horror-Science Fiction  1.055194e+06  2.517804e+06  1.462611e+06\n",
      "Horror-Thriller         2.004715e+06  7.485660e+06  5.480945e+06\n",
      "Music                   7.094011e+04  5.065076e+04 -2.028936e+04\n",
      "Romance-Comedy          2.799192e+06  1.125174e+07  8.452551e+06\n",
      "Romance-Drama           2.629873e+06  5.954886e+06  3.325013e+06\n",
      "Science Fiction         1.670157e+06  1.633248e+06 -3.690869e+04\n",
      "Thriller                1.122419e+06  1.765351e+06  6.429325e+05\n",
      "Thriller-Horror         9.495598e+05  3.244109e+06  2.294549e+06\n",
      "Western                 2.034097e+05  3.545361e+05  1.511264e+05\n"
     ]
    }
   ],
   "source": [
    "\n",
    "selected_genres = [\n",
    "    'Drama','Comedy','Documentary','Horror','Western','Drama-Romance','Comedy-Romance','Comedy-Drama','Horror-Thriller','Music','Thriller','Action','Crime-Drama','Drama-Thriller','Comedy-Drama-Romance',\n",
    "    'Drama-Comedy','Comedy-Horror',  'Action-Thriller',  'Documentary-Music',  'Crime-Drama-Thriller',  'Horror-Comedy',  'Drama-Crime',  'Horror-Science Fiction',  'Thriller-Horror',  'Romance-Drama','Science Fiction',\n",
    "    'Action-Drama', 'Romance-Comedy'\n",
    "]\n",
    "genre_means = english_movies[english_movies['genres'].isin(selected_genres)].groupby('genres').mean(numeric_only=True)\n",
    "print(len(genre_means))\n",
    "print(genre_means[['budget', 'revenue', 'profit']].head(28))"
   ]
  },
  {
   "cell_type": "markdown",
   "id": "7297e707",
   "metadata": {},
   "source": [
    "\n",
    "## دراسة مالية: "
   ]
  },
  {
   "cell_type": "code",
   "execution_count": 25,
   "id": "32808873",
   "metadata": {},
   "outputs": [
    {
     "name": "stdout",
     "output_type": "stream",
     "text": [
      "True\n",
      "True\n"
     ]
    }
   ],
   "source": [
    "print( (english_movies['budget'] >= 0).all())\n",
    "print( (english_movies['revenue'] >= 0).all())\n"
   ]
  },
  {
   "cell_type": "markdown",
   "id": "f5995daa",
   "metadata": {},
   "source": [
    "## مقارنة ارتباط الأرباح (profit) مع باقي العوامل:\n",
    "\n",
    "| العامل                          | كل الأفلام       | الأفلام الخاسرة فقط    | التفسير العام                                              |\n",
    "|---------------------------------|------------------|-------------------------|-------------------------------------------------------------|\n",
    "| **revenue** (الإيرادات)         | 0.978 ارتباط قوي جدًا | -0.258 ارتباط سلبي متوسط | الإيرادات عامل أساسي للربح، لكن في حالة الخسارة الإيرادات منخفضة. |\n",
    "| **vote_count** (عدد التقييمات)  | 0.753 ارتباط قوي     | -0.359 ارتباط سلبي متوسط | التفاعل الجماهيري مؤشر للربح عادةً، لكن بعض الأفلام رغم التقييمات تخسر. |\n",
    "| **budget** (الميزانية)          | 0.624 ارتباط متوسط قوي | -0.825 ارتباط سلبي قوي جدًا | الميزانية المرتفعة قد تعني نجاح أو خسارة حسب تحقيق الإيرادات. |\n",
    "| **unique_actors_count** (عدد الممثلين) | 0.303 ارتباط ضعيف إلى متوسط | -0.320 ارتباط سلبي متوسط | عدد الممثلين يؤثر إيجابيًا غالبًا، لكن في الأفلام الخاسرة يزيد التكاليف فقط. |\n",
    "| **popularity** (الشعبية)        | 0.184 ارتباط ضعيف    | -0.288 ارتباط سلبي متوسط | الشهرة الرقمية تساهم جزئيًا في الربح، لكنها ليست ضمان للنجاح المالي. |\n",
    "| **runtime** (مدة الفيلم)        | 0.150 ارتباط ضعيف    | -0.279 ارتباط سلبي متوسط | مدة الفيلم لها تأثير محدود، أحيانًا الطول الزائد يضر بالنتائج المالية. |\n",
    "| **vote_average** (متوسط التقييم) | 0.117 ارتباط ضعيف جدًا | -0.166 ارتباط سلبي ضعيف | جودة الفيلم حسب التقييم ليست مؤشر واضح على الربح، بعض الأفلام الجيدة تخسر. |\n"
   ]
  },
  {
   "cell_type": "code",
   "execution_count": 26,
   "id": "dfc7ee7c",
   "metadata": {},
   "outputs": [
    {
     "name": "stdout",
     "output_type": "stream",
     "text": [
      "profit                 1.000000\n",
      "revenue                0.978617\n",
      "vote_count             0.752836\n",
      "budget                 0.623587\n",
      "unique_actors_count    0.303205\n",
      "popularity             0.183673\n",
      "runtime                0.150210\n",
      "vote_average           0.116620\n",
      "release_year           0.076760\n",
      "release_day            0.023305\n",
      "release_month          0.022178\n",
      "id                    -0.081128\n",
      "Name: profit, dtype: float64\n"
     ]
    }
   ],
   "source": [
    "\n",
    "correlations = english_movies.corr(numeric_only=True)['profit'].sort_values(ascending=False)\n",
    "print(correlations)\n"
   ]
  },
  {
   "cell_type": "code",
   "execution_count": 27,
   "id": "7e205d54",
   "metadata": {},
   "outputs": [
    {
     "name": "stdout",
     "output_type": "stream",
     "text": [
      "عدد الأفلام التي حققت خسائر: 6498\n"
     ]
    }
   ],
   "source": [
    "negative_profit_movies = english_movies[english_movies['profit'] < 0]\n",
    "print(f\"عدد الأفلام التي حققت خسائر: {len(negative_profit_movies)}\")\n"
   ]
  },
  {
   "cell_type": "code",
   "execution_count": 28,
   "id": "7826c13a",
   "metadata": {},
   "outputs": [
    {
     "name": "stdout",
     "output_type": "stream",
     "text": [
      "profit                 1.000000\n",
      "id                     0.099576\n",
      "release_day           -0.027705\n",
      "release_month         -0.054880\n",
      "release_year          -0.072213\n",
      "vote_average          -0.165186\n",
      "revenue               -0.257839\n",
      "runtime               -0.278495\n",
      "popularity            -0.288448\n",
      "unique_actors_count   -0.320091\n",
      "vote_count            -0.358913\n",
      "budget                -0.825007\n",
      "Name: profit, dtype: float64\n"
     ]
    }
   ],
   "source": [
    "\n",
    "correlations = negative_profit_movies.corr(numeric_only=True)['profit'].sort_values(ascending=False)\n",
    "print(correlations)\n",
    "\n"
   ]
  },
  {
   "cell_type": "markdown",
   "id": "86845352",
   "metadata": {},
   "source": [
    "وهاد شي منطقي لانو دراما اكبر عدد افلام و لا تقتصر الخسارة على نوع محدد.\n"
   ]
  },
  {
   "cell_type": "code",
   "execution_count": 29,
   "id": "94fde478",
   "metadata": {},
   "outputs": [
    {
     "name": "stdout",
     "output_type": "stream",
     "text": [
      "عدد أنواع الأفلام الفريدة في افلام الخاسرة: 1478\n",
      "أكثر نوع فيلم خسر هو: Drama وعدده: 453\n"
     ]
    }
   ],
   "source": [
    "unique_genres = negative_profit_movies['genres'].unique()\n",
    "print(f\"عدد أنواع الأفلام الفريدة في افلام الخاسرة: {len(unique_genres)}\")\n",
    "most_common_losing_genre = negative_profit_movies['genres'].value_counts().idxmax()\n",
    "count = negative_profit_movies['genres'].value_counts().max()\n",
    "print(f\"أكثر نوع فيلم خسر هو: {most_common_losing_genre} وعدده: {count}\")\n",
    "\n"
   ]
  },
  {
   "cell_type": "markdown",
   "id": "2f7f4f40",
   "metadata": {},
   "source": [
    "## دراسة افلام التي حققت اكبر ربح\n",
    "\n",
    "## ملاحظات:\n",
    "\n",
    "- **الميزانيات مرتفعة جداً:** أغلب الأفلام تكلفت ما بين 150 إلى 460 مليون دولار، وهو مؤشر على ضخامة الإنتاج.\n",
    "\n",
    "- **الأرباح صافية ضخمة:** كل الأفلام حققت أرباحًا بأكثر من مليار دولار، مما يؤكد جدوى الاستثمار الكبير.\n",
    "\n",
    "- **الأنواع السائدة:**\n",
    "  - الأكشن والمغامرة والخيال العلمي متكررة جداً في أغلب هذه الأفلام، خصوصًا الأفلام ذات الإنتاج الضخم \n",
    "\n",
    "  (Avatar، Avengers، Star Wars، Jurassic World).\n",
    "  - الدراما والرومانسية تظهر بشكل رئيسي   \n",
    "  - الأفلام العائلية والدراما  لها مكانة بين الأفلام ذات الأرباح الكبيرة رغم اختلاف النوع.\n",
    "\n",
    "## نتيجة:\n",
    "\n",
    "أفلام الأكشن، المغامرة، والخيال العلمي هي الأغلب في قائمة الأعلى ربحًا، ويبدو أن ضخ الميزانية الكبيرة في هذه الأنواع غالبًا ما يعود بأرباح هائلة. لكن الأفلام الدرامية الرومانسية الكبيرة مثل  تاتنيك تثبت أن الأنواع الأخرى يمكنها أيضاً تحقيق نجاح ضخم إذا كانت إنتاجها قوي .\n"
   ]
  },
  {
   "cell_type": "code",
   "execution_count": 30,
   "id": "03e26a6f",
   "metadata": {},
   "outputs": [
    {
     "name": "stdout",
     "output_type": "stream",
     "text": [
      "أعلى 10 أفلام ربحاً صافيًا:\n",
      "                             title       budget       revenue        profit  \\\n",
      "150                         Avatar  237000000.0  2.920357e+09  2.683357e+09   \n",
      "248              Avengers: Endgame  356000000.0  2.799439e+09  2.443439e+09   \n",
      "315                        Titanic  200000000.0  2.187464e+09  1.987464e+09   \n",
      "146       Avatar: The Way of Water  460000000.0  2.320250e+09  1.860250e+09   \n",
      "1076  Star Wars: The Force Awakens  245000000.0  2.068224e+09  1.823224e+09   \n",
      "269         Avengers: Infinity War  300000000.0  2.052415e+09  1.752415e+09   \n",
      "227        Spider-Man: No Way Home  200000000.0  1.921847e+09  1.721847e+09   \n",
      "581                 Jurassic World  150000000.0  1.671537e+09  1.521537e+09   \n",
      "424                  The Lion King  260000000.0  1.663075e+09  1.403075e+09   \n",
      "612                      Furious 7  190000000.0  1.515400e+09  1.325400e+09   \n",
      "\n",
      "                                         genres  \n",
      "150    Action-Adventure-Fantasy-Science Fiction  \n",
      "248            Adventure-Science Fiction-Action  \n",
      "315                               Drama-Romance  \n",
      "146            Science Fiction-Adventure-Action  \n",
      "1076           Adventure-Action-Science Fiction  \n",
      "269            Adventure-Action-Science Fiction  \n",
      "227            Action-Adventure-Science Fiction  \n",
      "581   Action-Adventure-Science Fiction-Thriller  \n",
      "424                      Adventure-Drama-Family  \n",
      "612                       Action-Thriller-Crime  \n"
     ]
    }
   ],
   "source": [
    "\n",
    "top_profit_movies = english_movies.sort_values(by='profit', ascending=False)\n",
    "\n",
    "top_10 = top_profit_movies.head(10)\n",
    "\n",
    "print(\"أعلى 10 أفلام ربحاً صافيًا:\")\n",
    "print(top_10[['title', 'budget', 'revenue', 'profit', 'genres']])\n"
   ]
  },
  {
   "cell_type": "code",
   "execution_count": 31,
   "id": "1c9b3714",
   "metadata": {},
   "outputs": [
    {
     "name": "stdout",
     "output_type": "stream",
     "text": [
      "عدد شركات انتاج الفريدين في كامل البيانات: 31282\n"
     ]
    }
   ],
   "source": [
    "\n",
    "all_companies = '-'.join(english_movies['production_companies'].dropna().astype(str)).split('-')\n",
    "unique_actors = set(all_companies)\n",
    "print(f\"عدد شركات انتاج الفريدين في كامل البيانات: {len(unique_actors)}\")\n"
   ]
  },
  {
   "cell_type": "markdown",
   "id": "ddbb6d28",
   "metadata": {},
   "source": [
    "### الشركات الأكثر إنتاجًا (عدد الأفلام):\n",
    "أكبر الشركات من حيث عدد الأفلام هي:\n",
    "\n",
    "Columbia Pictures بـ 1650 فيلم\n",
    "\n",
    "Warner Bros. Pictures بـ 1546 فيلم\n",
    "\n",
    "Paramount بـ 1508 فيلم\n",
    "\n",
    "Universal Pictures بـ 1485 فيلم\n",
    "\n",
    "يليهم باقي الشركات مثل Metro، Goldwyn، Mayer...\n",
    "\n",
    "الملاحظ أن الشركات الكلاسيكية الكبيرة مسيطرة على الإنتاج، خاصة من الشركات الهوليوودية التقليدية."
   ]
  },
  {
   "cell_type": "markdown",
   "id": "c9594735",
   "metadata": {},
   "source": [
    "### الشركات الأكثر تنوعًا من حيث أنواع الأفلام:\n",
    "أكثر الشركات تنوعًا بأنواع الأفلام هي:\n",
    "\n",
    "Warner Bros. Pictures بـ 522 نوع مختلف\n",
    "\n",
    "Universal Pictures بـ 513 نوع\n",
    "\n",
    "Columbia Pictures بـ 479 نوع\n",
    "\n",
    "Paramount بـ 453 نوع\n",
    "\n",
    "20th Century Fox بـ 443 نوع\n",
    "\n",
    " الشركات الكبيرة بالإنتاج أيضًا تظهر ضمن الشركات الأكثر تنوعًا، .\n",
    "\n",
    " ### خلاصة العلاقة بين الحجم والتنوع:\n",
    "واضح أن الشركات ذات الإنتاج الضخم مو بس بتنتج أفلام كثيرة، كمان عندها تنوع كبير بأنواع الأفلام.\n",
    "\n",
    "بالمقابل، في شركات عندها إنتاج محدود لكن متنوعة نسبيًا (موجودة خارج توب 10 إنتاج لكن في توب التنوع).\n",
    "\n",
    "لكن مافي علاقة مباشرة وحتمية بين التنوع وحجم الإنتاج، بمعنى:\n",
    "\n",
    "بعض الشركات بتركّز على نوع محدد (مثلاً ديزني تميل للأفلام العائلية والأنيميشن).\n",
    "\n",
    "بعض الشركات كل ما تحدد نوعها واستهدفت جمهور واضح، وكان عندها إنتاج مركز وكبير بنفس نوع بتعزز  فرص ربحهاوسيرتها على السوق المتخصص.\n",
    "\n",
    "### استنتاج عام:\n",
    "الشركات الكبرى بتحاول توازن بين \"الإنتاج الضخم\" و\"تنوع الأنواع\" لاستهداف جماهير مختلفة وزيادة الأرباح.\n",
    "\n",
    "بالمقابل، الشركات المتخصصة بنوع محدد قد تفضل التركيز بدل التشتت، وهذا ممكن يساعدها على بناء هوية قوية بسوق معيّن."
   ]
  },
  {
   "cell_type": "code",
   "execution_count": 32,
   "id": "5145bedf",
   "metadata": {},
   "outputs": [
    {
     "data": {
      "application/vnd.plotly.v1+json": {
       "config": {
        "plotlyServerURL": "https://plot.ly"
       },
       "data": [
        {
         "hovertemplate": "Company=%{x}<br>Movie Count=%{marker.color}<extra></extra>",
         "legendgroup": "",
         "marker": {
          "color": {
           "bdata": "cgYKBuQFzQWeBZkFXQWtBDcC8AHuAVoBPwEeARIBDwEEAegA4QDOAA==",
           "dtype": "i2"
          },
          "coloraxis": "coloraxis",
          "pattern": {
           "shape": ""
          }
         },
         "name": "",
         "orientation": "v",
         "showlegend": false,
         "text": {
          "bdata": "AAAAAADImUAAAAAAACiYQAAAAAAAkJdAAAAAAAA0l0AAAAAAAHiWQAAAAAAAZJZAAAAAAAB0lUAAAAAAALSSQAAAAAAAuIFAAAAAAAAAf0AAAAAAAOB+QAAAAAAAoHVAAAAAAADwc0AAAAAAAOBxQAAAAAAAIHFAAAAAAADwcEAAAAAAAEBwQAAAAAAAAG1AAAAAAAAgbEAAAAAAAMBpQA==",
          "dtype": "f8"
         },
         "textposition": "auto",
         "type": "bar",
         "x": [
          "Columbia Pictures",
          "Warner Bros. Pictures",
          "Paramount",
          "Universal Pictures",
          "Metro",
          "Goldwyn",
          "Mayer",
          "20th Century Fox",
          "RKO Radio Pictures",
          "Republic Pictures",
          "United Artists",
          "Monogram Pictures",
          "New Line Cinema",
          "Lionsgate",
          "Walt Disney Pictures",
          "Fox Film Corporation",
          "Universal International Pictures",
          "BBC",
          "Miramax",
          "American International Pictures"
         ],
         "xaxis": "x",
         "y": {
          "bdata": "cgYKBuQFzQWeBZkFXQWtBDcC8AHuAVoBPwEeARIBDwEEAegA4QDOAA==",
          "dtype": "i2"
         },
         "yaxis": "y"
        }
       ],
       "layout": {
        "barmode": "relative",
        "coloraxis": {
         "colorbar": {
          "title": {
           "text": "Movie Count"
          }
         },
         "colorscale": [
          [
           0,
           "#440154"
          ],
          [
           0.1111111111111111,
           "#482878"
          ],
          [
           0.2222222222222222,
           "#3e4989"
          ],
          [
           0.3333333333333333,
           "#31688e"
          ],
          [
           0.4444444444444444,
           "#26828e"
          ],
          [
           0.5555555555555556,
           "#1f9e89"
          ],
          [
           0.6666666666666666,
           "#35b779"
          ],
          [
           0.7777777777777778,
           "#6ece58"
          ],
          [
           0.8888888888888888,
           "#b5de2b"
          ],
          [
           1,
           "#fde725"
          ]
         ]
        },
        "legend": {
         "tracegroupgap": 0
        },
        "template": {
         "data": {
          "bar": [
           {
            "error_x": {
             "color": "#2a3f5f"
            },
            "error_y": {
             "color": "#2a3f5f"
            },
            "marker": {
             "line": {
              "color": "#E5ECF6",
              "width": 0.5
             },
             "pattern": {
              "fillmode": "overlay",
              "size": 10,
              "solidity": 0.2
             }
            },
            "type": "bar"
           }
          ],
          "barpolar": [
           {
            "marker": {
             "line": {
              "color": "#E5ECF6",
              "width": 0.5
             },
             "pattern": {
              "fillmode": "overlay",
              "size": 10,
              "solidity": 0.2
             }
            },
            "type": "barpolar"
           }
          ],
          "carpet": [
           {
            "aaxis": {
             "endlinecolor": "#2a3f5f",
             "gridcolor": "white",
             "linecolor": "white",
             "minorgridcolor": "white",
             "startlinecolor": "#2a3f5f"
            },
            "baxis": {
             "endlinecolor": "#2a3f5f",
             "gridcolor": "white",
             "linecolor": "white",
             "minorgridcolor": "white",
             "startlinecolor": "#2a3f5f"
            },
            "type": "carpet"
           }
          ],
          "choropleth": [
           {
            "colorbar": {
             "outlinewidth": 0,
             "ticks": ""
            },
            "type": "choropleth"
           }
          ],
          "contour": [
           {
            "colorbar": {
             "outlinewidth": 0,
             "ticks": ""
            },
            "colorscale": [
             [
              0,
              "#0d0887"
             ],
             [
              0.1111111111111111,
              "#46039f"
             ],
             [
              0.2222222222222222,
              "#7201a8"
             ],
             [
              0.3333333333333333,
              "#9c179e"
             ],
             [
              0.4444444444444444,
              "#bd3786"
             ],
             [
              0.5555555555555556,
              "#d8576b"
             ],
             [
              0.6666666666666666,
              "#ed7953"
             ],
             [
              0.7777777777777778,
              "#fb9f3a"
             ],
             [
              0.8888888888888888,
              "#fdca26"
             ],
             [
              1,
              "#f0f921"
             ]
            ],
            "type": "contour"
           }
          ],
          "contourcarpet": [
           {
            "colorbar": {
             "outlinewidth": 0,
             "ticks": ""
            },
            "type": "contourcarpet"
           }
          ],
          "heatmap": [
           {
            "colorbar": {
             "outlinewidth": 0,
             "ticks": ""
            },
            "colorscale": [
             [
              0,
              "#0d0887"
             ],
             [
              0.1111111111111111,
              "#46039f"
             ],
             [
              0.2222222222222222,
              "#7201a8"
             ],
             [
              0.3333333333333333,
              "#9c179e"
             ],
             [
              0.4444444444444444,
              "#bd3786"
             ],
             [
              0.5555555555555556,
              "#d8576b"
             ],
             [
              0.6666666666666666,
              "#ed7953"
             ],
             [
              0.7777777777777778,
              "#fb9f3a"
             ],
             [
              0.8888888888888888,
              "#fdca26"
             ],
             [
              1,
              "#f0f921"
             ]
            ],
            "type": "heatmap"
           }
          ],
          "histogram": [
           {
            "marker": {
             "pattern": {
              "fillmode": "overlay",
              "size": 10,
              "solidity": 0.2
             }
            },
            "type": "histogram"
           }
          ],
          "histogram2d": [
           {
            "colorbar": {
             "outlinewidth": 0,
             "ticks": ""
            },
            "colorscale": [
             [
              0,
              "#0d0887"
             ],
             [
              0.1111111111111111,
              "#46039f"
             ],
             [
              0.2222222222222222,
              "#7201a8"
             ],
             [
              0.3333333333333333,
              "#9c179e"
             ],
             [
              0.4444444444444444,
              "#bd3786"
             ],
             [
              0.5555555555555556,
              "#d8576b"
             ],
             [
              0.6666666666666666,
              "#ed7953"
             ],
             [
              0.7777777777777778,
              "#fb9f3a"
             ],
             [
              0.8888888888888888,
              "#fdca26"
             ],
             [
              1,
              "#f0f921"
             ]
            ],
            "type": "histogram2d"
           }
          ],
          "histogram2dcontour": [
           {
            "colorbar": {
             "outlinewidth": 0,
             "ticks": ""
            },
            "colorscale": [
             [
              0,
              "#0d0887"
             ],
             [
              0.1111111111111111,
              "#46039f"
             ],
             [
              0.2222222222222222,
              "#7201a8"
             ],
             [
              0.3333333333333333,
              "#9c179e"
             ],
             [
              0.4444444444444444,
              "#bd3786"
             ],
             [
              0.5555555555555556,
              "#d8576b"
             ],
             [
              0.6666666666666666,
              "#ed7953"
             ],
             [
              0.7777777777777778,
              "#fb9f3a"
             ],
             [
              0.8888888888888888,
              "#fdca26"
             ],
             [
              1,
              "#f0f921"
             ]
            ],
            "type": "histogram2dcontour"
           }
          ],
          "mesh3d": [
           {
            "colorbar": {
             "outlinewidth": 0,
             "ticks": ""
            },
            "type": "mesh3d"
           }
          ],
          "parcoords": [
           {
            "line": {
             "colorbar": {
              "outlinewidth": 0,
              "ticks": ""
             }
            },
            "type": "parcoords"
           }
          ],
          "pie": [
           {
            "automargin": true,
            "type": "pie"
           }
          ],
          "scatter": [
           {
            "fillpattern": {
             "fillmode": "overlay",
             "size": 10,
             "solidity": 0.2
            },
            "type": "scatter"
           }
          ],
          "scatter3d": [
           {
            "line": {
             "colorbar": {
              "outlinewidth": 0,
              "ticks": ""
             }
            },
            "marker": {
             "colorbar": {
              "outlinewidth": 0,
              "ticks": ""
             }
            },
            "type": "scatter3d"
           }
          ],
          "scattercarpet": [
           {
            "marker": {
             "colorbar": {
              "outlinewidth": 0,
              "ticks": ""
             }
            },
            "type": "scattercarpet"
           }
          ],
          "scattergeo": [
           {
            "marker": {
             "colorbar": {
              "outlinewidth": 0,
              "ticks": ""
             }
            },
            "type": "scattergeo"
           }
          ],
          "scattergl": [
           {
            "marker": {
             "colorbar": {
              "outlinewidth": 0,
              "ticks": ""
             }
            },
            "type": "scattergl"
           }
          ],
          "scattermap": [
           {
            "marker": {
             "colorbar": {
              "outlinewidth": 0,
              "ticks": ""
             }
            },
            "type": "scattermap"
           }
          ],
          "scattermapbox": [
           {
            "marker": {
             "colorbar": {
              "outlinewidth": 0,
              "ticks": ""
             }
            },
            "type": "scattermapbox"
           }
          ],
          "scatterpolar": [
           {
            "marker": {
             "colorbar": {
              "outlinewidth": 0,
              "ticks": ""
             }
            },
            "type": "scatterpolar"
           }
          ],
          "scatterpolargl": [
           {
            "marker": {
             "colorbar": {
              "outlinewidth": 0,
              "ticks": ""
             }
            },
            "type": "scatterpolargl"
           }
          ],
          "scatterternary": [
           {
            "marker": {
             "colorbar": {
              "outlinewidth": 0,
              "ticks": ""
             }
            },
            "type": "scatterternary"
           }
          ],
          "surface": [
           {
            "colorbar": {
             "outlinewidth": 0,
             "ticks": ""
            },
            "colorscale": [
             [
              0,
              "#0d0887"
             ],
             [
              0.1111111111111111,
              "#46039f"
             ],
             [
              0.2222222222222222,
              "#7201a8"
             ],
             [
              0.3333333333333333,
              "#9c179e"
             ],
             [
              0.4444444444444444,
              "#bd3786"
             ],
             [
              0.5555555555555556,
              "#d8576b"
             ],
             [
              0.6666666666666666,
              "#ed7953"
             ],
             [
              0.7777777777777778,
              "#fb9f3a"
             ],
             [
              0.8888888888888888,
              "#fdca26"
             ],
             [
              1,
              "#f0f921"
             ]
            ],
            "type": "surface"
           }
          ],
          "table": [
           {
            "cells": {
             "fill": {
              "color": "#EBF0F8"
             },
             "line": {
              "color": "white"
             }
            },
            "header": {
             "fill": {
              "color": "#C8D4E3"
             },
             "line": {
              "color": "white"
             }
            },
            "type": "table"
           }
          ]
         },
         "layout": {
          "annotationdefaults": {
           "arrowcolor": "#2a3f5f",
           "arrowhead": 0,
           "arrowwidth": 1
          },
          "autotypenumbers": "strict",
          "coloraxis": {
           "colorbar": {
            "outlinewidth": 0,
            "ticks": ""
           }
          },
          "colorscale": {
           "diverging": [
            [
             0,
             "#8e0152"
            ],
            [
             0.1,
             "#c51b7d"
            ],
            [
             0.2,
             "#de77ae"
            ],
            [
             0.3,
             "#f1b6da"
            ],
            [
             0.4,
             "#fde0ef"
            ],
            [
             0.5,
             "#f7f7f7"
            ],
            [
             0.6,
             "#e6f5d0"
            ],
            [
             0.7,
             "#b8e186"
            ],
            [
             0.8,
             "#7fbc41"
            ],
            [
             0.9,
             "#4d9221"
            ],
            [
             1,
             "#276419"
            ]
           ],
           "sequential": [
            [
             0,
             "#0d0887"
            ],
            [
             0.1111111111111111,
             "#46039f"
            ],
            [
             0.2222222222222222,
             "#7201a8"
            ],
            [
             0.3333333333333333,
             "#9c179e"
            ],
            [
             0.4444444444444444,
             "#bd3786"
            ],
            [
             0.5555555555555556,
             "#d8576b"
            ],
            [
             0.6666666666666666,
             "#ed7953"
            ],
            [
             0.7777777777777778,
             "#fb9f3a"
            ],
            [
             0.8888888888888888,
             "#fdca26"
            ],
            [
             1,
             "#f0f921"
            ]
           ],
           "sequentialminus": [
            [
             0,
             "#0d0887"
            ],
            [
             0.1111111111111111,
             "#46039f"
            ],
            [
             0.2222222222222222,
             "#7201a8"
            ],
            [
             0.3333333333333333,
             "#9c179e"
            ],
            [
             0.4444444444444444,
             "#bd3786"
            ],
            [
             0.5555555555555556,
             "#d8576b"
            ],
            [
             0.6666666666666666,
             "#ed7953"
            ],
            [
             0.7777777777777778,
             "#fb9f3a"
            ],
            [
             0.8888888888888888,
             "#fdca26"
            ],
            [
             1,
             "#f0f921"
            ]
           ]
          },
          "colorway": [
           "#636efa",
           "#EF553B",
           "#00cc96",
           "#ab63fa",
           "#FFA15A",
           "#19d3f3",
           "#FF6692",
           "#B6E880",
           "#FF97FF",
           "#FECB52"
          ],
          "font": {
           "color": "#2a3f5f"
          },
          "geo": {
           "bgcolor": "white",
           "lakecolor": "white",
           "landcolor": "#E5ECF6",
           "showlakes": true,
           "showland": true,
           "subunitcolor": "white"
          },
          "hoverlabel": {
           "align": "left"
          },
          "hovermode": "closest",
          "mapbox": {
           "style": "light"
          },
          "paper_bgcolor": "white",
          "plot_bgcolor": "#E5ECF6",
          "polar": {
           "angularaxis": {
            "gridcolor": "white",
            "linecolor": "white",
            "ticks": ""
           },
           "bgcolor": "#E5ECF6",
           "radialaxis": {
            "gridcolor": "white",
            "linecolor": "white",
            "ticks": ""
           }
          },
          "scene": {
           "xaxis": {
            "backgroundcolor": "#E5ECF6",
            "gridcolor": "white",
            "gridwidth": 2,
            "linecolor": "white",
            "showbackground": true,
            "ticks": "",
            "zerolinecolor": "white"
           },
           "yaxis": {
            "backgroundcolor": "#E5ECF6",
            "gridcolor": "white",
            "gridwidth": 2,
            "linecolor": "white",
            "showbackground": true,
            "ticks": "",
            "zerolinecolor": "white"
           },
           "zaxis": {
            "backgroundcolor": "#E5ECF6",
            "gridcolor": "white",
            "gridwidth": 2,
            "linecolor": "white",
            "showbackground": true,
            "ticks": "",
            "zerolinecolor": "white"
           }
          },
          "shapedefaults": {
           "line": {
            "color": "#2a3f5f"
           }
          },
          "ternary": {
           "aaxis": {
            "gridcolor": "white",
            "linecolor": "white",
            "ticks": ""
           },
           "baxis": {
            "gridcolor": "white",
            "linecolor": "white",
            "ticks": ""
           },
           "bgcolor": "#E5ECF6",
           "caxis": {
            "gridcolor": "white",
            "linecolor": "white",
            "ticks": ""
           }
          },
          "title": {
           "x": 0.05
          },
          "xaxis": {
           "automargin": true,
           "gridcolor": "white",
           "linecolor": "white",
           "ticks": "",
           "title": {
            "standoff": 15
           },
           "zerolinecolor": "white",
           "zerolinewidth": 2
          },
          "yaxis": {
           "automargin": true,
           "gridcolor": "white",
           "linecolor": "white",
           "ticks": "",
           "title": {
            "standoff": 15
           },
           "zerolinecolor": "white",
           "zerolinewidth": 2
          }
         }
        },
        "title": {
         "text": "أكبر 20 شركة إنتاج من حيث عدد الأفلام"
        },
        "xaxis": {
         "anchor": "y",
         "domain": [
          0,
          1
         ],
         "tickangle": -45,
         "title": {
          "text": "شركة الإنتاج"
         }
        },
        "yaxis": {
         "anchor": "x",
         "domain": [
          0,
          1
         ],
         "title": {
          "text": "عدد الأفلام"
         }
        }
       }
      }
     },
     "metadata": {},
     "output_type": "display_data"
    }
   ],
   "source": [
    "\n",
    "company_counts = pd.Series(all_companies).value_counts()\n",
    "\n",
    "top_20_companies = company_counts.head(20).reset_index()\n",
    "top_20_companies.columns = ['Company', 'Movie Count']\n",
    "\n",
    "fig = px.bar(top_20_companies, x='Company', y='Movie Count',\n",
    "             title='أكبر 20 شركة إنتاج من حيث عدد الأفلام',\n",
    "             text='Movie Count', color='Movie Count', color_continuous_scale='Viridis')\n",
    "fig.update_layout(xaxis_title='شركة الإنتاج', yaxis_title='عدد الأفلام', xaxis_tickangle=-45)\n",
    "fig.show()\n"
   ]
  },
  {
   "cell_type": "code",
   "execution_count": 33,
   "id": "b01d6019",
   "metadata": {},
   "outputs": [
    {
     "data": {
      "application/vnd.plotly.v1+json": {
       "config": {
        "plotlyServerURL": "https://plot.ly"
       },
       "data": [
        {
         "hovertemplate": "Company=%{x}<br>Unique Genre Count=%{marker.color}<extra></extra>",
         "legendgroup": "",
         "marker": {
          "color": {
           "bdata": "CgIBAt8BxQG7AbMBsgGiAdgAwgCyAKwApACUAHoAeABtAGwAagBmAA==",
           "dtype": "i2"
          },
          "coloraxis": "coloraxis",
          "pattern": {
           "shape": ""
          }
         },
         "name": "",
         "orientation": "v",
         "showlegend": false,
         "text": {
          "bdata": "AAAAAABQgEAAAAAAAAiAQAAAAAAA8H1AAAAAAABQfEAAAAAAALB7QAAAAAAAMHtAAAAAAAAge0AAAAAAACB6QAAAAAAAAGtAAAAAAABAaEAAAAAAAEBmQAAAAAAAgGVAAAAAAACAZEAAAAAAAIBiQAAAAAAAgF5AAAAAAAAAXkAAAAAAAEBbQAAAAAAAAFtAAAAAAACAWkAAAAAAAIBZQA==",
          "dtype": "f8"
         },
         "textposition": "auto",
         "type": "bar",
         "x": [
          "Warner Bros. Pictures",
          "Universal Pictures",
          "Columbia Pictures",
          "Paramount",
          "20th Century Fox",
          "Goldwyn",
          "Metro",
          "Mayer",
          "United Artists",
          "RKO Radio Pictures",
          "Walt Disney Pictures",
          "Lionsgate",
          "New Line Cinema",
          "Republic Pictures",
          "TriStar Pictures",
          "Touchstone Pictures",
          "Miramax",
          "American International Pictures",
          "Monogram Pictures",
          "Universal International Pictures"
         ],
         "xaxis": "x",
         "y": {
          "bdata": "CgIBAt8BxQG7AbMBsgGiAdgAwgCyAKwApACUAHoAeABtAGwAagBmAA==",
          "dtype": "i2"
         },
         "yaxis": "y"
        }
       ],
       "layout": {
        "barmode": "relative",
        "coloraxis": {
         "colorbar": {
          "title": {
           "text": "Unique Genre Count"
          }
         },
         "colorscale": [
          [
           0,
           "#0d0887"
          ],
          [
           0.1111111111111111,
           "#46039f"
          ],
          [
           0.2222222222222222,
           "#7201a8"
          ],
          [
           0.3333333333333333,
           "#9c179e"
          ],
          [
           0.4444444444444444,
           "#bd3786"
          ],
          [
           0.5555555555555556,
           "#d8576b"
          ],
          [
           0.6666666666666666,
           "#ed7953"
          ],
          [
           0.7777777777777778,
           "#fb9f3a"
          ],
          [
           0.8888888888888888,
           "#fdca26"
          ],
          [
           1,
           "#f0f921"
          ]
         ]
        },
        "legend": {
         "tracegroupgap": 0
        },
        "template": {
         "data": {
          "bar": [
           {
            "error_x": {
             "color": "#2a3f5f"
            },
            "error_y": {
             "color": "#2a3f5f"
            },
            "marker": {
             "line": {
              "color": "#E5ECF6",
              "width": 0.5
             },
             "pattern": {
              "fillmode": "overlay",
              "size": 10,
              "solidity": 0.2
             }
            },
            "type": "bar"
           }
          ],
          "barpolar": [
           {
            "marker": {
             "line": {
              "color": "#E5ECF6",
              "width": 0.5
             },
             "pattern": {
              "fillmode": "overlay",
              "size": 10,
              "solidity": 0.2
             }
            },
            "type": "barpolar"
           }
          ],
          "carpet": [
           {
            "aaxis": {
             "endlinecolor": "#2a3f5f",
             "gridcolor": "white",
             "linecolor": "white",
             "minorgridcolor": "white",
             "startlinecolor": "#2a3f5f"
            },
            "baxis": {
             "endlinecolor": "#2a3f5f",
             "gridcolor": "white",
             "linecolor": "white",
             "minorgridcolor": "white",
             "startlinecolor": "#2a3f5f"
            },
            "type": "carpet"
           }
          ],
          "choropleth": [
           {
            "colorbar": {
             "outlinewidth": 0,
             "ticks": ""
            },
            "type": "choropleth"
           }
          ],
          "contour": [
           {
            "colorbar": {
             "outlinewidth": 0,
             "ticks": ""
            },
            "colorscale": [
             [
              0,
              "#0d0887"
             ],
             [
              0.1111111111111111,
              "#46039f"
             ],
             [
              0.2222222222222222,
              "#7201a8"
             ],
             [
              0.3333333333333333,
              "#9c179e"
             ],
             [
              0.4444444444444444,
              "#bd3786"
             ],
             [
              0.5555555555555556,
              "#d8576b"
             ],
             [
              0.6666666666666666,
              "#ed7953"
             ],
             [
              0.7777777777777778,
              "#fb9f3a"
             ],
             [
              0.8888888888888888,
              "#fdca26"
             ],
             [
              1,
              "#f0f921"
             ]
            ],
            "type": "contour"
           }
          ],
          "contourcarpet": [
           {
            "colorbar": {
             "outlinewidth": 0,
             "ticks": ""
            },
            "type": "contourcarpet"
           }
          ],
          "heatmap": [
           {
            "colorbar": {
             "outlinewidth": 0,
             "ticks": ""
            },
            "colorscale": [
             [
              0,
              "#0d0887"
             ],
             [
              0.1111111111111111,
              "#46039f"
             ],
             [
              0.2222222222222222,
              "#7201a8"
             ],
             [
              0.3333333333333333,
              "#9c179e"
             ],
             [
              0.4444444444444444,
              "#bd3786"
             ],
             [
              0.5555555555555556,
              "#d8576b"
             ],
             [
              0.6666666666666666,
              "#ed7953"
             ],
             [
              0.7777777777777778,
              "#fb9f3a"
             ],
             [
              0.8888888888888888,
              "#fdca26"
             ],
             [
              1,
              "#f0f921"
             ]
            ],
            "type": "heatmap"
           }
          ],
          "histogram": [
           {
            "marker": {
             "pattern": {
              "fillmode": "overlay",
              "size": 10,
              "solidity": 0.2
             }
            },
            "type": "histogram"
           }
          ],
          "histogram2d": [
           {
            "colorbar": {
             "outlinewidth": 0,
             "ticks": ""
            },
            "colorscale": [
             [
              0,
              "#0d0887"
             ],
             [
              0.1111111111111111,
              "#46039f"
             ],
             [
              0.2222222222222222,
              "#7201a8"
             ],
             [
              0.3333333333333333,
              "#9c179e"
             ],
             [
              0.4444444444444444,
              "#bd3786"
             ],
             [
              0.5555555555555556,
              "#d8576b"
             ],
             [
              0.6666666666666666,
              "#ed7953"
             ],
             [
              0.7777777777777778,
              "#fb9f3a"
             ],
             [
              0.8888888888888888,
              "#fdca26"
             ],
             [
              1,
              "#f0f921"
             ]
            ],
            "type": "histogram2d"
           }
          ],
          "histogram2dcontour": [
           {
            "colorbar": {
             "outlinewidth": 0,
             "ticks": ""
            },
            "colorscale": [
             [
              0,
              "#0d0887"
             ],
             [
              0.1111111111111111,
              "#46039f"
             ],
             [
              0.2222222222222222,
              "#7201a8"
             ],
             [
              0.3333333333333333,
              "#9c179e"
             ],
             [
              0.4444444444444444,
              "#bd3786"
             ],
             [
              0.5555555555555556,
              "#d8576b"
             ],
             [
              0.6666666666666666,
              "#ed7953"
             ],
             [
              0.7777777777777778,
              "#fb9f3a"
             ],
             [
              0.8888888888888888,
              "#fdca26"
             ],
             [
              1,
              "#f0f921"
             ]
            ],
            "type": "histogram2dcontour"
           }
          ],
          "mesh3d": [
           {
            "colorbar": {
             "outlinewidth": 0,
             "ticks": ""
            },
            "type": "mesh3d"
           }
          ],
          "parcoords": [
           {
            "line": {
             "colorbar": {
              "outlinewidth": 0,
              "ticks": ""
             }
            },
            "type": "parcoords"
           }
          ],
          "pie": [
           {
            "automargin": true,
            "type": "pie"
           }
          ],
          "scatter": [
           {
            "fillpattern": {
             "fillmode": "overlay",
             "size": 10,
             "solidity": 0.2
            },
            "type": "scatter"
           }
          ],
          "scatter3d": [
           {
            "line": {
             "colorbar": {
              "outlinewidth": 0,
              "ticks": ""
             }
            },
            "marker": {
             "colorbar": {
              "outlinewidth": 0,
              "ticks": ""
             }
            },
            "type": "scatter3d"
           }
          ],
          "scattercarpet": [
           {
            "marker": {
             "colorbar": {
              "outlinewidth": 0,
              "ticks": ""
             }
            },
            "type": "scattercarpet"
           }
          ],
          "scattergeo": [
           {
            "marker": {
             "colorbar": {
              "outlinewidth": 0,
              "ticks": ""
             }
            },
            "type": "scattergeo"
           }
          ],
          "scattergl": [
           {
            "marker": {
             "colorbar": {
              "outlinewidth": 0,
              "ticks": ""
             }
            },
            "type": "scattergl"
           }
          ],
          "scattermap": [
           {
            "marker": {
             "colorbar": {
              "outlinewidth": 0,
              "ticks": ""
             }
            },
            "type": "scattermap"
           }
          ],
          "scattermapbox": [
           {
            "marker": {
             "colorbar": {
              "outlinewidth": 0,
              "ticks": ""
             }
            },
            "type": "scattermapbox"
           }
          ],
          "scatterpolar": [
           {
            "marker": {
             "colorbar": {
              "outlinewidth": 0,
              "ticks": ""
             }
            },
            "type": "scatterpolar"
           }
          ],
          "scatterpolargl": [
           {
            "marker": {
             "colorbar": {
              "outlinewidth": 0,
              "ticks": ""
             }
            },
            "type": "scatterpolargl"
           }
          ],
          "scatterternary": [
           {
            "marker": {
             "colorbar": {
              "outlinewidth": 0,
              "ticks": ""
             }
            },
            "type": "scatterternary"
           }
          ],
          "surface": [
           {
            "colorbar": {
             "outlinewidth": 0,
             "ticks": ""
            },
            "colorscale": [
             [
              0,
              "#0d0887"
             ],
             [
              0.1111111111111111,
              "#46039f"
             ],
             [
              0.2222222222222222,
              "#7201a8"
             ],
             [
              0.3333333333333333,
              "#9c179e"
             ],
             [
              0.4444444444444444,
              "#bd3786"
             ],
             [
              0.5555555555555556,
              "#d8576b"
             ],
             [
              0.6666666666666666,
              "#ed7953"
             ],
             [
              0.7777777777777778,
              "#fb9f3a"
             ],
             [
              0.8888888888888888,
              "#fdca26"
             ],
             [
              1,
              "#f0f921"
             ]
            ],
            "type": "surface"
           }
          ],
          "table": [
           {
            "cells": {
             "fill": {
              "color": "#EBF0F8"
             },
             "line": {
              "color": "white"
             }
            },
            "header": {
             "fill": {
              "color": "#C8D4E3"
             },
             "line": {
              "color": "white"
             }
            },
            "type": "table"
           }
          ]
         },
         "layout": {
          "annotationdefaults": {
           "arrowcolor": "#2a3f5f",
           "arrowhead": 0,
           "arrowwidth": 1
          },
          "autotypenumbers": "strict",
          "coloraxis": {
           "colorbar": {
            "outlinewidth": 0,
            "ticks": ""
           }
          },
          "colorscale": {
           "diverging": [
            [
             0,
             "#8e0152"
            ],
            [
             0.1,
             "#c51b7d"
            ],
            [
             0.2,
             "#de77ae"
            ],
            [
             0.3,
             "#f1b6da"
            ],
            [
             0.4,
             "#fde0ef"
            ],
            [
             0.5,
             "#f7f7f7"
            ],
            [
             0.6,
             "#e6f5d0"
            ],
            [
             0.7,
             "#b8e186"
            ],
            [
             0.8,
             "#7fbc41"
            ],
            [
             0.9,
             "#4d9221"
            ],
            [
             1,
             "#276419"
            ]
           ],
           "sequential": [
            [
             0,
             "#0d0887"
            ],
            [
             0.1111111111111111,
             "#46039f"
            ],
            [
             0.2222222222222222,
             "#7201a8"
            ],
            [
             0.3333333333333333,
             "#9c179e"
            ],
            [
             0.4444444444444444,
             "#bd3786"
            ],
            [
             0.5555555555555556,
             "#d8576b"
            ],
            [
             0.6666666666666666,
             "#ed7953"
            ],
            [
             0.7777777777777778,
             "#fb9f3a"
            ],
            [
             0.8888888888888888,
             "#fdca26"
            ],
            [
             1,
             "#f0f921"
            ]
           ],
           "sequentialminus": [
            [
             0,
             "#0d0887"
            ],
            [
             0.1111111111111111,
             "#46039f"
            ],
            [
             0.2222222222222222,
             "#7201a8"
            ],
            [
             0.3333333333333333,
             "#9c179e"
            ],
            [
             0.4444444444444444,
             "#bd3786"
            ],
            [
             0.5555555555555556,
             "#d8576b"
            ],
            [
             0.6666666666666666,
             "#ed7953"
            ],
            [
             0.7777777777777778,
             "#fb9f3a"
            ],
            [
             0.8888888888888888,
             "#fdca26"
            ],
            [
             1,
             "#f0f921"
            ]
           ]
          },
          "colorway": [
           "#636efa",
           "#EF553B",
           "#00cc96",
           "#ab63fa",
           "#FFA15A",
           "#19d3f3",
           "#FF6692",
           "#B6E880",
           "#FF97FF",
           "#FECB52"
          ],
          "font": {
           "color": "#2a3f5f"
          },
          "geo": {
           "bgcolor": "white",
           "lakecolor": "white",
           "landcolor": "#E5ECF6",
           "showlakes": true,
           "showland": true,
           "subunitcolor": "white"
          },
          "hoverlabel": {
           "align": "left"
          },
          "hovermode": "closest",
          "mapbox": {
           "style": "light"
          },
          "paper_bgcolor": "white",
          "plot_bgcolor": "#E5ECF6",
          "polar": {
           "angularaxis": {
            "gridcolor": "white",
            "linecolor": "white",
            "ticks": ""
           },
           "bgcolor": "#E5ECF6",
           "radialaxis": {
            "gridcolor": "white",
            "linecolor": "white",
            "ticks": ""
           }
          },
          "scene": {
           "xaxis": {
            "backgroundcolor": "#E5ECF6",
            "gridcolor": "white",
            "gridwidth": 2,
            "linecolor": "white",
            "showbackground": true,
            "ticks": "",
            "zerolinecolor": "white"
           },
           "yaxis": {
            "backgroundcolor": "#E5ECF6",
            "gridcolor": "white",
            "gridwidth": 2,
            "linecolor": "white",
            "showbackground": true,
            "ticks": "",
            "zerolinecolor": "white"
           },
           "zaxis": {
            "backgroundcolor": "#E5ECF6",
            "gridcolor": "white",
            "gridwidth": 2,
            "linecolor": "white",
            "showbackground": true,
            "ticks": "",
            "zerolinecolor": "white"
           }
          },
          "shapedefaults": {
           "line": {
            "color": "#2a3f5f"
           }
          },
          "ternary": {
           "aaxis": {
            "gridcolor": "white",
            "linecolor": "white",
            "ticks": ""
           },
           "baxis": {
            "gridcolor": "white",
            "linecolor": "white",
            "ticks": ""
           },
           "bgcolor": "#E5ECF6",
           "caxis": {
            "gridcolor": "white",
            "linecolor": "white",
            "ticks": ""
           }
          },
          "title": {
           "x": 0.05
          },
          "xaxis": {
           "automargin": true,
           "gridcolor": "white",
           "linecolor": "white",
           "ticks": "",
           "title": {
            "standoff": 15
           },
           "zerolinecolor": "white",
           "zerolinewidth": 2
          },
          "yaxis": {
           "automargin": true,
           "gridcolor": "white",
           "linecolor": "white",
           "ticks": "",
           "title": {
            "standoff": 15
           },
           "zerolinecolor": "white",
           "zerolinewidth": 2
          }
         }
        },
        "title": {
         "text": "أكثر 20 شركة إنتاج تنوعًا في أنواع الأفلام"
        },
        "xaxis": {
         "anchor": "y",
         "domain": [
          0,
          1
         ],
         "tickangle": -45,
         "title": {
          "text": "شركة الإنتاج"
         }
        },
        "yaxis": {
         "anchor": "x",
         "domain": [
          0,
          1
         ],
         "title": {
          "text": "عدد الأنواع المختلفة"
         }
        }
       }
      }
     },
     "metadata": {},
     "output_type": "display_data"
    }
   ],
   "source": [
    "\n",
    "company_genre_set = defaultdict(set)\n",
    "\n",
    "for _, row in english_movies.dropna(subset=['production_companies', 'genres']).iterrows():\n",
    "    companies = str(row['production_companies']).split('-')\n",
    "    genres = str(row['genres'])\n",
    "    for company in companies:\n",
    "        company_genre_set[company].add(genres)\n",
    "\n",
    "company_genre_counts = {company: len(genres) for company, genres in company_genre_set.items()}\n",
    "company_genre_counts = pd.Series(company_genre_counts).sort_values(ascending=False).head(20).reset_index()\n",
    "company_genre_counts.columns = ['Company', 'Unique Genre Count']\n",
    "\n",
    "fig = px.bar(company_genre_counts, x='Company', y='Unique Genre Count',\n",
    "             title='أكثر 20 شركة إنتاج تنوعًا في أنواع الأفلام',\n",
    "             text='Unique Genre Count', color='Unique Genre Count', color_continuous_scale='Plasma')\n",
    "fig.update_layout(xaxis_title='شركة الإنتاج', yaxis_title='عدد الأنواع المختلفة', xaxis_tickangle=-45)\n",
    "fig.show()\n"
   ]
  },
  {
   "cell_type": "markdown",
   "id": "131756d1",
   "metadata": {},
   "source": [
    "\n",
    "### تحليل الممثلين:"
   ]
  },
  {
   "cell_type": "code",
   "execution_count": 34,
   "id": "e87474a5",
   "metadata": {},
   "outputs": [
    {
     "name": "stdout",
     "output_type": "stream",
     "text": [
      "عدد الممثلين الفريدين في كامل البيانات: 305395\n"
     ]
    }
   ],
   "source": [
    "\n",
    "all_actors = '-'.join(english_movies['credits'].dropna().astype(str)).split('-')\n",
    "unique_actors = set(all_actors)\n",
    "print(f\"عدد الممثلين الفريدين في كامل البيانات: {len(unique_actors)}\")\n"
   ]
  },
  {
   "cell_type": "markdown",
   "id": "ead64910",
   "metadata": {},
   "source": [
    "### أكثر الممثلين من حيث عدد الأفلام:\n",
    "من جدول top_20_act، نلاحظ:\n",
    "\n",
    "Bess Flowers هي الأكثر ظهورًا بـ 475 فيلم، وهي مشهورة بلقب \"ملكة الكومبارس\"، لأنها ظهرت في مئات الأفلام غالبًا بأدوار صغيرة أو ثانوية.\n",
    "\n",
    "يجي بعدها Jean بـ 407 فيلم، وByron Foulger بـ 259 فيلم، وهكذا.\n",
    "\n",
    "إذا منلاحظ، معظم الأسماء يلي عندها عدد أفلام كبير هم ممثلين كانوا يظهروا كثيرًا بأدوار صغيرة أو في خلفية المشهد، خصوصًا في الحقبة الكلاسيكية من هوليوود.\n",
    "\n",
    "### أكثر الممثلين من حيث تنوع الأنواع السينمائية (تعدد أنواع الأفلام):\n",
    "من جدول actor_genre_counts، نلاحظ:\n",
    "\n",
    "Jean هو الأكثر تنوعًا بـ 191 نوع/تصنيف مختلف، يلي بيدل إنو شارك بمجموعة كبيرة من الأنواع السينمائية (أكشن، دراما، كوميدي، رعب...).\n",
    "\n",
    "بعدها Frank Welker بـ 147 نوع، وهو معروف بالأداء الصوتي، خصوصًا بأفلام الأنيميشن، يلي تساهم بتنوع تصنيفات الأفلام يلي بيشارك فيها.\n",
    "\n",
    "Bess Flowers عندها أيضًا تنوع بـ 145 نوع،  منطقي كونها ظهرت في عدد كبير  الأفلام .\n",
    "\n",
    "## هل في علاقة بين عدد الأفلام والتنوع؟\n",
    "\n",
    "\n",
    " في بعض الحالات، الممثل يلي عنده عدد كبير من الأفلام بيكون عنده تنوع عالي أيضًا، مثل:\n",
    "\n",
    "Jean ثاني أكتر ممثل أفلام وأكتر ممثل تنوعًا.\n",
    "\n",
    "Bess Flowers أكتر وحدة أفلام وثالث وحدة من حيث التنوع.\n",
    "\n",
    " لكن مو شرط دائمًا:\n",
    "\n",
    "في ممثلين عندهم أفلام كثيرة بس تنوعهم أقل نسبيًا، مثل:\n",
    "\n",
    "Irving Bacon عنده 224 فيلم بس مش ضمن قائمة أكتر تنوعًا.\n",
    "\n",
    "Lee Phelps 182 فيلم وما ظهر بقائمة التنوع.\n",
    "\n",
    " بالمقابل، في ممثلين عندهم تنوع كبير بس مش من أكثر الناس إنتاجًا:\n",
    "\n",
    "مثل Danny Trejo عنده 102 نوع بس مش من أعلى الناس بعدد الأفلام ضمن الـ Top 20.\n"
   ]
  },
  {
   "cell_type": "code",
   "execution_count": 35,
   "id": "f989f24c",
   "metadata": {},
   "outputs": [
    {
     "data": {
      "application/vnd.plotly.v1+json": {
       "config": {
        "plotlyServerURL": "https://plot.ly"
       },
       "data": [
        {
         "hovertemplate": "actor=%{x}<br>Movie Count=%{marker.color}<extra></extra>",
         "legendgroup": "",
         "marker": {
          "color": {
           "bdata": "2wGXAQMB4gDgANUAxQC+ALkAtgC2AK8ArQCsAKwAqQCnAKEAoQCfAA==",
           "dtype": "i2"
          },
          "coloraxis": "coloraxis",
          "pattern": {
           "shape": ""
          }
         },
         "name": "",
         "orientation": "v",
         "showlegend": false,
         "text": {
          "bdata": "AAAAAACwfUAAAAAAAHB5QAAAAAAAMHBAAAAAAABAbEAAAAAAAABsQAAAAAAAoGpAAAAAAACgaEAAAAAAAMBnQAAAAAAAIGdAAAAAAADAZkAAAAAAAMBmQAAAAAAA4GVAAAAAAACgZUAAAAAAAIBlQAAAAAAAgGVAAAAAAAAgZUAAAAAAAOBkQAAAAAAAIGRAAAAAAAAgZEAAAAAAAOBjQA==",
          "dtype": "f8"
         },
         "textposition": "auto",
         "type": "bar",
         "x": [
          "Bess Flowers",
          "Jean",
          "Byron Foulger",
          "Ward Bond",
          "Irving Bacon",
          "Jones",
          "Smith",
          "Frank Welker",
          "Joseph Crehan",
          "Lee Phelps",
          "Tom London",
          "Sam Harris",
          "William H. O'Brien",
          "Harold Miller",
          "Edmund Cobb",
          "James Flavin",
          "John Carradine",
          "Wade Boteler",
          "Bud Osborne",
          "Roy Barcroft"
         ],
         "xaxis": "x",
         "y": {
          "bdata": "2wGXAQMB4gDgANUAxQC+ALkAtgC2AK8ArQCsAKwAqQCnAKEAoQCfAA==",
          "dtype": "i2"
         },
         "yaxis": "y"
        }
       ],
       "layout": {
        "barmode": "relative",
        "coloraxis": {
         "colorbar": {
          "title": {
           "text": "Movie Count"
          }
         },
         "colorscale": [
          [
           0,
           "#0d0887"
          ],
          [
           0.1111111111111111,
           "#46039f"
          ],
          [
           0.2222222222222222,
           "#7201a8"
          ],
          [
           0.3333333333333333,
           "#9c179e"
          ],
          [
           0.4444444444444444,
           "#bd3786"
          ],
          [
           0.5555555555555556,
           "#d8576b"
          ],
          [
           0.6666666666666666,
           "#ed7953"
          ],
          [
           0.7777777777777778,
           "#fb9f3a"
          ],
          [
           0.8888888888888888,
           "#fdca26"
          ],
          [
           1,
           "#f0f921"
          ]
         ]
        },
        "legend": {
         "tracegroupgap": 0
        },
        "template": {
         "data": {
          "bar": [
           {
            "error_x": {
             "color": "#2a3f5f"
            },
            "error_y": {
             "color": "#2a3f5f"
            },
            "marker": {
             "line": {
              "color": "#E5ECF6",
              "width": 0.5
             },
             "pattern": {
              "fillmode": "overlay",
              "size": 10,
              "solidity": 0.2
             }
            },
            "type": "bar"
           }
          ],
          "barpolar": [
           {
            "marker": {
             "line": {
              "color": "#E5ECF6",
              "width": 0.5
             },
             "pattern": {
              "fillmode": "overlay",
              "size": 10,
              "solidity": 0.2
             }
            },
            "type": "barpolar"
           }
          ],
          "carpet": [
           {
            "aaxis": {
             "endlinecolor": "#2a3f5f",
             "gridcolor": "white",
             "linecolor": "white",
             "minorgridcolor": "white",
             "startlinecolor": "#2a3f5f"
            },
            "baxis": {
             "endlinecolor": "#2a3f5f",
             "gridcolor": "white",
             "linecolor": "white",
             "minorgridcolor": "white",
             "startlinecolor": "#2a3f5f"
            },
            "type": "carpet"
           }
          ],
          "choropleth": [
           {
            "colorbar": {
             "outlinewidth": 0,
             "ticks": ""
            },
            "type": "choropleth"
           }
          ],
          "contour": [
           {
            "colorbar": {
             "outlinewidth": 0,
             "ticks": ""
            },
            "colorscale": [
             [
              0,
              "#0d0887"
             ],
             [
              0.1111111111111111,
              "#46039f"
             ],
             [
              0.2222222222222222,
              "#7201a8"
             ],
             [
              0.3333333333333333,
              "#9c179e"
             ],
             [
              0.4444444444444444,
              "#bd3786"
             ],
             [
              0.5555555555555556,
              "#d8576b"
             ],
             [
              0.6666666666666666,
              "#ed7953"
             ],
             [
              0.7777777777777778,
              "#fb9f3a"
             ],
             [
              0.8888888888888888,
              "#fdca26"
             ],
             [
              1,
              "#f0f921"
             ]
            ],
            "type": "contour"
           }
          ],
          "contourcarpet": [
           {
            "colorbar": {
             "outlinewidth": 0,
             "ticks": ""
            },
            "type": "contourcarpet"
           }
          ],
          "heatmap": [
           {
            "colorbar": {
             "outlinewidth": 0,
             "ticks": ""
            },
            "colorscale": [
             [
              0,
              "#0d0887"
             ],
             [
              0.1111111111111111,
              "#46039f"
             ],
             [
              0.2222222222222222,
              "#7201a8"
             ],
             [
              0.3333333333333333,
              "#9c179e"
             ],
             [
              0.4444444444444444,
              "#bd3786"
             ],
             [
              0.5555555555555556,
              "#d8576b"
             ],
             [
              0.6666666666666666,
              "#ed7953"
             ],
             [
              0.7777777777777778,
              "#fb9f3a"
             ],
             [
              0.8888888888888888,
              "#fdca26"
             ],
             [
              1,
              "#f0f921"
             ]
            ],
            "type": "heatmap"
           }
          ],
          "histogram": [
           {
            "marker": {
             "pattern": {
              "fillmode": "overlay",
              "size": 10,
              "solidity": 0.2
             }
            },
            "type": "histogram"
           }
          ],
          "histogram2d": [
           {
            "colorbar": {
             "outlinewidth": 0,
             "ticks": ""
            },
            "colorscale": [
             [
              0,
              "#0d0887"
             ],
             [
              0.1111111111111111,
              "#46039f"
             ],
             [
              0.2222222222222222,
              "#7201a8"
             ],
             [
              0.3333333333333333,
              "#9c179e"
             ],
             [
              0.4444444444444444,
              "#bd3786"
             ],
             [
              0.5555555555555556,
              "#d8576b"
             ],
             [
              0.6666666666666666,
              "#ed7953"
             ],
             [
              0.7777777777777778,
              "#fb9f3a"
             ],
             [
              0.8888888888888888,
              "#fdca26"
             ],
             [
              1,
              "#f0f921"
             ]
            ],
            "type": "histogram2d"
           }
          ],
          "histogram2dcontour": [
           {
            "colorbar": {
             "outlinewidth": 0,
             "ticks": ""
            },
            "colorscale": [
             [
              0,
              "#0d0887"
             ],
             [
              0.1111111111111111,
              "#46039f"
             ],
             [
              0.2222222222222222,
              "#7201a8"
             ],
             [
              0.3333333333333333,
              "#9c179e"
             ],
             [
              0.4444444444444444,
              "#bd3786"
             ],
             [
              0.5555555555555556,
              "#d8576b"
             ],
             [
              0.6666666666666666,
              "#ed7953"
             ],
             [
              0.7777777777777778,
              "#fb9f3a"
             ],
             [
              0.8888888888888888,
              "#fdca26"
             ],
             [
              1,
              "#f0f921"
             ]
            ],
            "type": "histogram2dcontour"
           }
          ],
          "mesh3d": [
           {
            "colorbar": {
             "outlinewidth": 0,
             "ticks": ""
            },
            "type": "mesh3d"
           }
          ],
          "parcoords": [
           {
            "line": {
             "colorbar": {
              "outlinewidth": 0,
              "ticks": ""
             }
            },
            "type": "parcoords"
           }
          ],
          "pie": [
           {
            "automargin": true,
            "type": "pie"
           }
          ],
          "scatter": [
           {
            "fillpattern": {
             "fillmode": "overlay",
             "size": 10,
             "solidity": 0.2
            },
            "type": "scatter"
           }
          ],
          "scatter3d": [
           {
            "line": {
             "colorbar": {
              "outlinewidth": 0,
              "ticks": ""
             }
            },
            "marker": {
             "colorbar": {
              "outlinewidth": 0,
              "ticks": ""
             }
            },
            "type": "scatter3d"
           }
          ],
          "scattercarpet": [
           {
            "marker": {
             "colorbar": {
              "outlinewidth": 0,
              "ticks": ""
             }
            },
            "type": "scattercarpet"
           }
          ],
          "scattergeo": [
           {
            "marker": {
             "colorbar": {
              "outlinewidth": 0,
              "ticks": ""
             }
            },
            "type": "scattergeo"
           }
          ],
          "scattergl": [
           {
            "marker": {
             "colorbar": {
              "outlinewidth": 0,
              "ticks": ""
             }
            },
            "type": "scattergl"
           }
          ],
          "scattermap": [
           {
            "marker": {
             "colorbar": {
              "outlinewidth": 0,
              "ticks": ""
             }
            },
            "type": "scattermap"
           }
          ],
          "scattermapbox": [
           {
            "marker": {
             "colorbar": {
              "outlinewidth": 0,
              "ticks": ""
             }
            },
            "type": "scattermapbox"
           }
          ],
          "scatterpolar": [
           {
            "marker": {
             "colorbar": {
              "outlinewidth": 0,
              "ticks": ""
             }
            },
            "type": "scatterpolar"
           }
          ],
          "scatterpolargl": [
           {
            "marker": {
             "colorbar": {
              "outlinewidth": 0,
              "ticks": ""
             }
            },
            "type": "scatterpolargl"
           }
          ],
          "scatterternary": [
           {
            "marker": {
             "colorbar": {
              "outlinewidth": 0,
              "ticks": ""
             }
            },
            "type": "scatterternary"
           }
          ],
          "surface": [
           {
            "colorbar": {
             "outlinewidth": 0,
             "ticks": ""
            },
            "colorscale": [
             [
              0,
              "#0d0887"
             ],
             [
              0.1111111111111111,
              "#46039f"
             ],
             [
              0.2222222222222222,
              "#7201a8"
             ],
             [
              0.3333333333333333,
              "#9c179e"
             ],
             [
              0.4444444444444444,
              "#bd3786"
             ],
             [
              0.5555555555555556,
              "#d8576b"
             ],
             [
              0.6666666666666666,
              "#ed7953"
             ],
             [
              0.7777777777777778,
              "#fb9f3a"
             ],
             [
              0.8888888888888888,
              "#fdca26"
             ],
             [
              1,
              "#f0f921"
             ]
            ],
            "type": "surface"
           }
          ],
          "table": [
           {
            "cells": {
             "fill": {
              "color": "#EBF0F8"
             },
             "line": {
              "color": "white"
             }
            },
            "header": {
             "fill": {
              "color": "#C8D4E3"
             },
             "line": {
              "color": "white"
             }
            },
            "type": "table"
           }
          ]
         },
         "layout": {
          "annotationdefaults": {
           "arrowcolor": "#2a3f5f",
           "arrowhead": 0,
           "arrowwidth": 1
          },
          "autotypenumbers": "strict",
          "coloraxis": {
           "colorbar": {
            "outlinewidth": 0,
            "ticks": ""
           }
          },
          "colorscale": {
           "diverging": [
            [
             0,
             "#8e0152"
            ],
            [
             0.1,
             "#c51b7d"
            ],
            [
             0.2,
             "#de77ae"
            ],
            [
             0.3,
             "#f1b6da"
            ],
            [
             0.4,
             "#fde0ef"
            ],
            [
             0.5,
             "#f7f7f7"
            ],
            [
             0.6,
             "#e6f5d0"
            ],
            [
             0.7,
             "#b8e186"
            ],
            [
             0.8,
             "#7fbc41"
            ],
            [
             0.9,
             "#4d9221"
            ],
            [
             1,
             "#276419"
            ]
           ],
           "sequential": [
            [
             0,
             "#0d0887"
            ],
            [
             0.1111111111111111,
             "#46039f"
            ],
            [
             0.2222222222222222,
             "#7201a8"
            ],
            [
             0.3333333333333333,
             "#9c179e"
            ],
            [
             0.4444444444444444,
             "#bd3786"
            ],
            [
             0.5555555555555556,
             "#d8576b"
            ],
            [
             0.6666666666666666,
             "#ed7953"
            ],
            [
             0.7777777777777778,
             "#fb9f3a"
            ],
            [
             0.8888888888888888,
             "#fdca26"
            ],
            [
             1,
             "#f0f921"
            ]
           ],
           "sequentialminus": [
            [
             0,
             "#0d0887"
            ],
            [
             0.1111111111111111,
             "#46039f"
            ],
            [
             0.2222222222222222,
             "#7201a8"
            ],
            [
             0.3333333333333333,
             "#9c179e"
            ],
            [
             0.4444444444444444,
             "#bd3786"
            ],
            [
             0.5555555555555556,
             "#d8576b"
            ],
            [
             0.6666666666666666,
             "#ed7953"
            ],
            [
             0.7777777777777778,
             "#fb9f3a"
            ],
            [
             0.8888888888888888,
             "#fdca26"
            ],
            [
             1,
             "#f0f921"
            ]
           ]
          },
          "colorway": [
           "#636efa",
           "#EF553B",
           "#00cc96",
           "#ab63fa",
           "#FFA15A",
           "#19d3f3",
           "#FF6692",
           "#B6E880",
           "#FF97FF",
           "#FECB52"
          ],
          "font": {
           "color": "#2a3f5f"
          },
          "geo": {
           "bgcolor": "white",
           "lakecolor": "white",
           "landcolor": "#E5ECF6",
           "showlakes": true,
           "showland": true,
           "subunitcolor": "white"
          },
          "hoverlabel": {
           "align": "left"
          },
          "hovermode": "closest",
          "mapbox": {
           "style": "light"
          },
          "paper_bgcolor": "white",
          "plot_bgcolor": "#E5ECF6",
          "polar": {
           "angularaxis": {
            "gridcolor": "white",
            "linecolor": "white",
            "ticks": ""
           },
           "bgcolor": "#E5ECF6",
           "radialaxis": {
            "gridcolor": "white",
            "linecolor": "white",
            "ticks": ""
           }
          },
          "scene": {
           "xaxis": {
            "backgroundcolor": "#E5ECF6",
            "gridcolor": "white",
            "gridwidth": 2,
            "linecolor": "white",
            "showbackground": true,
            "ticks": "",
            "zerolinecolor": "white"
           },
           "yaxis": {
            "backgroundcolor": "#E5ECF6",
            "gridcolor": "white",
            "gridwidth": 2,
            "linecolor": "white",
            "showbackground": true,
            "ticks": "",
            "zerolinecolor": "white"
           },
           "zaxis": {
            "backgroundcolor": "#E5ECF6",
            "gridcolor": "white",
            "gridwidth": 2,
            "linecolor": "white",
            "showbackground": true,
            "ticks": "",
            "zerolinecolor": "white"
           }
          },
          "shapedefaults": {
           "line": {
            "color": "#2a3f5f"
           }
          },
          "ternary": {
           "aaxis": {
            "gridcolor": "white",
            "linecolor": "white",
            "ticks": ""
           },
           "baxis": {
            "gridcolor": "white",
            "linecolor": "white",
            "ticks": ""
           },
           "bgcolor": "#E5ECF6",
           "caxis": {
            "gridcolor": "white",
            "linecolor": "white",
            "ticks": ""
           }
          },
          "title": {
           "x": 0.05
          },
          "xaxis": {
           "automargin": true,
           "gridcolor": "white",
           "linecolor": "white",
           "ticks": "",
           "title": {
            "standoff": 15
           },
           "zerolinecolor": "white",
           "zerolinewidth": 2
          },
          "yaxis": {
           "automargin": true,
           "gridcolor": "white",
           "linecolor": "white",
           "ticks": "",
           "title": {
            "standoff": 15
           },
           "zerolinecolor": "white",
           "zerolinewidth": 2
          }
         }
        },
        "title": {
         "text": "أكثر 20 ممثل ظهورًا في الأفلام"
        },
        "xaxis": {
         "anchor": "y",
         "domain": [
          0,
          1
         ],
         "tickangle": -45,
         "title": {
          "text": "اسم الممثل"
         }
        },
        "yaxis": {
         "anchor": "x",
         "domain": [
          0,
          1
         ],
         "title": {
          "text": "عدد مرات الظهور"
         }
        }
       }
      }
     },
     "metadata": {},
     "output_type": "display_data"
    }
   ],
   "source": [
    "\n",
    "act_counts = pd.Series(all_actors).value_counts()\n",
    "\n",
    "\n",
    "top_20_act = act_counts.head(20).reset_index()\n",
    "top_20_act.columns = ['actor', 'Movie Count']\n",
    "\n",
    "fig = px.bar(top_20_act, x='actor', y='Movie Count',\n",
    "             title='أكثر 20 ممثل ظهورًا في الأفلام',\n",
    "             text='Movie Count', color='Movie Count', color_continuous_scale='Plasma')\n",
    "fig.update_layout(xaxis_title='اسم الممثل', yaxis_title='عدد مرات الظهور', xaxis_tickangle=-45)\n",
    "fig.show()\n"
   ]
  },
  {
   "cell_type": "code",
   "execution_count": 36,
   "id": "2849d181",
   "metadata": {},
   "outputs": [
    {
     "data": {
      "application/vnd.plotly.v1+json": {
       "config": {
        "plotlyServerURL": "https://plot.ly"
       },
       "data": [
        {
         "hovertemplate": "Actor=%{x}<br>Unique Genre Count=%{marker.color}<extra></extra>",
         "legendgroup": "",
         "marker": {
          "color": {
           "bdata": "vwCTAJEAigB9AHIAaQBmAGAAXwBeAFsAWgBaAFUAVQBUAFQAVABTAA==",
           "dtype": "i2"
          },
          "coloraxis": "coloraxis",
          "pattern": {
           "shape": ""
          }
         },
         "name": "",
         "orientation": "v",
         "showlegend": false,
         "text": {
          "bdata": "AAAAAADgZ0AAAAAAAGBiQAAAAAAAIGJAAAAAAABAYUAAAAAAAEBfQAAAAAAAgFxAAAAAAABAWkAAAAAAAIBZQAAAAAAAAFhAAAAAAADAV0AAAAAAAIBXQAAAAAAAwFZAAAAAAACAVkAAAAAAAIBWQAAAAAAAQFVAAAAAAABAVUAAAAAAAABVQAAAAAAAAFVAAAAAAAAAVUAAAAAAAMBUQA==",
          "dtype": "f8"
         },
         "textposition": "auto",
         "type": "bar",
         "x": [
          "Jean",
          "Frank Welker",
          "Bess Flowers",
          "Jones",
          "Smith",
          "Byron Foulger",
          "John Carradine",
          "Danny Trejo",
          "Ward Bond",
          "Samuel L. Jackson",
          "Eric Roberts",
          "Christopher Lee",
          "Joseph Crehan",
          "Sam Harris",
          "James Flavin",
          "Russell Hicks",
          "Emmett Vogan",
          "Michael Caine",
          "Addison Richards",
          "William H. O'Brien"
         ],
         "xaxis": "x",
         "y": {
          "bdata": "vwCTAJEAigB9AHIAaQBmAGAAXwBeAFsAWgBaAFUAVQBUAFQAVABTAA==",
          "dtype": "i2"
         },
         "yaxis": "y"
        }
       ],
       "layout": {
        "barmode": "relative",
        "coloraxis": {
         "colorbar": {
          "title": {
           "text": "Unique Genre Count"
          }
         },
         "colorscale": [
          [
           0,
           "#440154"
          ],
          [
           0.1111111111111111,
           "#482878"
          ],
          [
           0.2222222222222222,
           "#3e4989"
          ],
          [
           0.3333333333333333,
           "#31688e"
          ],
          [
           0.4444444444444444,
           "#26828e"
          ],
          [
           0.5555555555555556,
           "#1f9e89"
          ],
          [
           0.6666666666666666,
           "#35b779"
          ],
          [
           0.7777777777777778,
           "#6ece58"
          ],
          [
           0.8888888888888888,
           "#b5de2b"
          ],
          [
           1,
           "#fde725"
          ]
         ]
        },
        "legend": {
         "tracegroupgap": 0
        },
        "template": {
         "data": {
          "bar": [
           {
            "error_x": {
             "color": "#2a3f5f"
            },
            "error_y": {
             "color": "#2a3f5f"
            },
            "marker": {
             "line": {
              "color": "#E5ECF6",
              "width": 0.5
             },
             "pattern": {
              "fillmode": "overlay",
              "size": 10,
              "solidity": 0.2
             }
            },
            "type": "bar"
           }
          ],
          "barpolar": [
           {
            "marker": {
             "line": {
              "color": "#E5ECF6",
              "width": 0.5
             },
             "pattern": {
              "fillmode": "overlay",
              "size": 10,
              "solidity": 0.2
             }
            },
            "type": "barpolar"
           }
          ],
          "carpet": [
           {
            "aaxis": {
             "endlinecolor": "#2a3f5f",
             "gridcolor": "white",
             "linecolor": "white",
             "minorgridcolor": "white",
             "startlinecolor": "#2a3f5f"
            },
            "baxis": {
             "endlinecolor": "#2a3f5f",
             "gridcolor": "white",
             "linecolor": "white",
             "minorgridcolor": "white",
             "startlinecolor": "#2a3f5f"
            },
            "type": "carpet"
           }
          ],
          "choropleth": [
           {
            "colorbar": {
             "outlinewidth": 0,
             "ticks": ""
            },
            "type": "choropleth"
           }
          ],
          "contour": [
           {
            "colorbar": {
             "outlinewidth": 0,
             "ticks": ""
            },
            "colorscale": [
             [
              0,
              "#0d0887"
             ],
             [
              0.1111111111111111,
              "#46039f"
             ],
             [
              0.2222222222222222,
              "#7201a8"
             ],
             [
              0.3333333333333333,
              "#9c179e"
             ],
             [
              0.4444444444444444,
              "#bd3786"
             ],
             [
              0.5555555555555556,
              "#d8576b"
             ],
             [
              0.6666666666666666,
              "#ed7953"
             ],
             [
              0.7777777777777778,
              "#fb9f3a"
             ],
             [
              0.8888888888888888,
              "#fdca26"
             ],
             [
              1,
              "#f0f921"
             ]
            ],
            "type": "contour"
           }
          ],
          "contourcarpet": [
           {
            "colorbar": {
             "outlinewidth": 0,
             "ticks": ""
            },
            "type": "contourcarpet"
           }
          ],
          "heatmap": [
           {
            "colorbar": {
             "outlinewidth": 0,
             "ticks": ""
            },
            "colorscale": [
             [
              0,
              "#0d0887"
             ],
             [
              0.1111111111111111,
              "#46039f"
             ],
             [
              0.2222222222222222,
              "#7201a8"
             ],
             [
              0.3333333333333333,
              "#9c179e"
             ],
             [
              0.4444444444444444,
              "#bd3786"
             ],
             [
              0.5555555555555556,
              "#d8576b"
             ],
             [
              0.6666666666666666,
              "#ed7953"
             ],
             [
              0.7777777777777778,
              "#fb9f3a"
             ],
             [
              0.8888888888888888,
              "#fdca26"
             ],
             [
              1,
              "#f0f921"
             ]
            ],
            "type": "heatmap"
           }
          ],
          "histogram": [
           {
            "marker": {
             "pattern": {
              "fillmode": "overlay",
              "size": 10,
              "solidity": 0.2
             }
            },
            "type": "histogram"
           }
          ],
          "histogram2d": [
           {
            "colorbar": {
             "outlinewidth": 0,
             "ticks": ""
            },
            "colorscale": [
             [
              0,
              "#0d0887"
             ],
             [
              0.1111111111111111,
              "#46039f"
             ],
             [
              0.2222222222222222,
              "#7201a8"
             ],
             [
              0.3333333333333333,
              "#9c179e"
             ],
             [
              0.4444444444444444,
              "#bd3786"
             ],
             [
              0.5555555555555556,
              "#d8576b"
             ],
             [
              0.6666666666666666,
              "#ed7953"
             ],
             [
              0.7777777777777778,
              "#fb9f3a"
             ],
             [
              0.8888888888888888,
              "#fdca26"
             ],
             [
              1,
              "#f0f921"
             ]
            ],
            "type": "histogram2d"
           }
          ],
          "histogram2dcontour": [
           {
            "colorbar": {
             "outlinewidth": 0,
             "ticks": ""
            },
            "colorscale": [
             [
              0,
              "#0d0887"
             ],
             [
              0.1111111111111111,
              "#46039f"
             ],
             [
              0.2222222222222222,
              "#7201a8"
             ],
             [
              0.3333333333333333,
              "#9c179e"
             ],
             [
              0.4444444444444444,
              "#bd3786"
             ],
             [
              0.5555555555555556,
              "#d8576b"
             ],
             [
              0.6666666666666666,
              "#ed7953"
             ],
             [
              0.7777777777777778,
              "#fb9f3a"
             ],
             [
              0.8888888888888888,
              "#fdca26"
             ],
             [
              1,
              "#f0f921"
             ]
            ],
            "type": "histogram2dcontour"
           }
          ],
          "mesh3d": [
           {
            "colorbar": {
             "outlinewidth": 0,
             "ticks": ""
            },
            "type": "mesh3d"
           }
          ],
          "parcoords": [
           {
            "line": {
             "colorbar": {
              "outlinewidth": 0,
              "ticks": ""
             }
            },
            "type": "parcoords"
           }
          ],
          "pie": [
           {
            "automargin": true,
            "type": "pie"
           }
          ],
          "scatter": [
           {
            "fillpattern": {
             "fillmode": "overlay",
             "size": 10,
             "solidity": 0.2
            },
            "type": "scatter"
           }
          ],
          "scatter3d": [
           {
            "line": {
             "colorbar": {
              "outlinewidth": 0,
              "ticks": ""
             }
            },
            "marker": {
             "colorbar": {
              "outlinewidth": 0,
              "ticks": ""
             }
            },
            "type": "scatter3d"
           }
          ],
          "scattercarpet": [
           {
            "marker": {
             "colorbar": {
              "outlinewidth": 0,
              "ticks": ""
             }
            },
            "type": "scattercarpet"
           }
          ],
          "scattergeo": [
           {
            "marker": {
             "colorbar": {
              "outlinewidth": 0,
              "ticks": ""
             }
            },
            "type": "scattergeo"
           }
          ],
          "scattergl": [
           {
            "marker": {
             "colorbar": {
              "outlinewidth": 0,
              "ticks": ""
             }
            },
            "type": "scattergl"
           }
          ],
          "scattermap": [
           {
            "marker": {
             "colorbar": {
              "outlinewidth": 0,
              "ticks": ""
             }
            },
            "type": "scattermap"
           }
          ],
          "scattermapbox": [
           {
            "marker": {
             "colorbar": {
              "outlinewidth": 0,
              "ticks": ""
             }
            },
            "type": "scattermapbox"
           }
          ],
          "scatterpolar": [
           {
            "marker": {
             "colorbar": {
              "outlinewidth": 0,
              "ticks": ""
             }
            },
            "type": "scatterpolar"
           }
          ],
          "scatterpolargl": [
           {
            "marker": {
             "colorbar": {
              "outlinewidth": 0,
              "ticks": ""
             }
            },
            "type": "scatterpolargl"
           }
          ],
          "scatterternary": [
           {
            "marker": {
             "colorbar": {
              "outlinewidth": 0,
              "ticks": ""
             }
            },
            "type": "scatterternary"
           }
          ],
          "surface": [
           {
            "colorbar": {
             "outlinewidth": 0,
             "ticks": ""
            },
            "colorscale": [
             [
              0,
              "#0d0887"
             ],
             [
              0.1111111111111111,
              "#46039f"
             ],
             [
              0.2222222222222222,
              "#7201a8"
             ],
             [
              0.3333333333333333,
              "#9c179e"
             ],
             [
              0.4444444444444444,
              "#bd3786"
             ],
             [
              0.5555555555555556,
              "#d8576b"
             ],
             [
              0.6666666666666666,
              "#ed7953"
             ],
             [
              0.7777777777777778,
              "#fb9f3a"
             ],
             [
              0.8888888888888888,
              "#fdca26"
             ],
             [
              1,
              "#f0f921"
             ]
            ],
            "type": "surface"
           }
          ],
          "table": [
           {
            "cells": {
             "fill": {
              "color": "#EBF0F8"
             },
             "line": {
              "color": "white"
             }
            },
            "header": {
             "fill": {
              "color": "#C8D4E3"
             },
             "line": {
              "color": "white"
             }
            },
            "type": "table"
           }
          ]
         },
         "layout": {
          "annotationdefaults": {
           "arrowcolor": "#2a3f5f",
           "arrowhead": 0,
           "arrowwidth": 1
          },
          "autotypenumbers": "strict",
          "coloraxis": {
           "colorbar": {
            "outlinewidth": 0,
            "ticks": ""
           }
          },
          "colorscale": {
           "diverging": [
            [
             0,
             "#8e0152"
            ],
            [
             0.1,
             "#c51b7d"
            ],
            [
             0.2,
             "#de77ae"
            ],
            [
             0.3,
             "#f1b6da"
            ],
            [
             0.4,
             "#fde0ef"
            ],
            [
             0.5,
             "#f7f7f7"
            ],
            [
             0.6,
             "#e6f5d0"
            ],
            [
             0.7,
             "#b8e186"
            ],
            [
             0.8,
             "#7fbc41"
            ],
            [
             0.9,
             "#4d9221"
            ],
            [
             1,
             "#276419"
            ]
           ],
           "sequential": [
            [
             0,
             "#0d0887"
            ],
            [
             0.1111111111111111,
             "#46039f"
            ],
            [
             0.2222222222222222,
             "#7201a8"
            ],
            [
             0.3333333333333333,
             "#9c179e"
            ],
            [
             0.4444444444444444,
             "#bd3786"
            ],
            [
             0.5555555555555556,
             "#d8576b"
            ],
            [
             0.6666666666666666,
             "#ed7953"
            ],
            [
             0.7777777777777778,
             "#fb9f3a"
            ],
            [
             0.8888888888888888,
             "#fdca26"
            ],
            [
             1,
             "#f0f921"
            ]
           ],
           "sequentialminus": [
            [
             0,
             "#0d0887"
            ],
            [
             0.1111111111111111,
             "#46039f"
            ],
            [
             0.2222222222222222,
             "#7201a8"
            ],
            [
             0.3333333333333333,
             "#9c179e"
            ],
            [
             0.4444444444444444,
             "#bd3786"
            ],
            [
             0.5555555555555556,
             "#d8576b"
            ],
            [
             0.6666666666666666,
             "#ed7953"
            ],
            [
             0.7777777777777778,
             "#fb9f3a"
            ],
            [
             0.8888888888888888,
             "#fdca26"
            ],
            [
             1,
             "#f0f921"
            ]
           ]
          },
          "colorway": [
           "#636efa",
           "#EF553B",
           "#00cc96",
           "#ab63fa",
           "#FFA15A",
           "#19d3f3",
           "#FF6692",
           "#B6E880",
           "#FF97FF",
           "#FECB52"
          ],
          "font": {
           "color": "#2a3f5f"
          },
          "geo": {
           "bgcolor": "white",
           "lakecolor": "white",
           "landcolor": "#E5ECF6",
           "showlakes": true,
           "showland": true,
           "subunitcolor": "white"
          },
          "hoverlabel": {
           "align": "left"
          },
          "hovermode": "closest",
          "mapbox": {
           "style": "light"
          },
          "paper_bgcolor": "white",
          "plot_bgcolor": "#E5ECF6",
          "polar": {
           "angularaxis": {
            "gridcolor": "white",
            "linecolor": "white",
            "ticks": ""
           },
           "bgcolor": "#E5ECF6",
           "radialaxis": {
            "gridcolor": "white",
            "linecolor": "white",
            "ticks": ""
           }
          },
          "scene": {
           "xaxis": {
            "backgroundcolor": "#E5ECF6",
            "gridcolor": "white",
            "gridwidth": 2,
            "linecolor": "white",
            "showbackground": true,
            "ticks": "",
            "zerolinecolor": "white"
           },
           "yaxis": {
            "backgroundcolor": "#E5ECF6",
            "gridcolor": "white",
            "gridwidth": 2,
            "linecolor": "white",
            "showbackground": true,
            "ticks": "",
            "zerolinecolor": "white"
           },
           "zaxis": {
            "backgroundcolor": "#E5ECF6",
            "gridcolor": "white",
            "gridwidth": 2,
            "linecolor": "white",
            "showbackground": true,
            "ticks": "",
            "zerolinecolor": "white"
           }
          },
          "shapedefaults": {
           "line": {
            "color": "#2a3f5f"
           }
          },
          "ternary": {
           "aaxis": {
            "gridcolor": "white",
            "linecolor": "white",
            "ticks": ""
           },
           "baxis": {
            "gridcolor": "white",
            "linecolor": "white",
            "ticks": ""
           },
           "bgcolor": "#E5ECF6",
           "caxis": {
            "gridcolor": "white",
            "linecolor": "white",
            "ticks": ""
           }
          },
          "title": {
           "x": 0.05
          },
          "xaxis": {
           "automargin": true,
           "gridcolor": "white",
           "linecolor": "white",
           "ticks": "",
           "title": {
            "standoff": 15
           },
           "zerolinecolor": "white",
           "zerolinewidth": 2
          },
          "yaxis": {
           "automargin": true,
           "gridcolor": "white",
           "linecolor": "white",
           "ticks": "",
           "title": {
            "standoff": 15
           },
           "zerolinecolor": "white",
           "zerolinewidth": 2
          }
         }
        },
        "title": {
         "text": "أكثر 20 ممثل تنوعًا في أنواع الأفلام"
        },
        "xaxis": {
         "anchor": "y",
         "domain": [
          0,
          1
         ],
         "tickangle": -45,
         "title": {
          "text": "الممثل"
         }
        },
        "yaxis": {
         "anchor": "x",
         "domain": [
          0,
          1
         ],
         "title": {
          "text": "عدد الأنواع المختلفة"
         }
        }
       }
      }
     },
     "metadata": {},
     "output_type": "display_data"
    }
   ],
   "source": [
    "\n",
    "actor_genre_set = defaultdict(set)\n",
    "\n",
    "\n",
    "for _, row in english_movies.dropna(subset=['credits', 'genres']).iterrows():\n",
    "    actors = str(row['credits']).split('-')\n",
    "    genres = str(row['genres'])\n",
    "    for actor in actors:\n",
    "        actor_genre_set[actor].add(genres)\n",
    "\n",
    "\n",
    "actor_genre_counts = {actor: len(genres) for actor, genres in actor_genre_set.items()}\n",
    "\n",
    "actor_genre_counts = pd.Series(actor_genre_counts).sort_values(ascending=False).head(20).reset_index()\n",
    "actor_genre_counts.columns = ['Actor', 'Unique Genre Count']\n",
    "\n",
    "fig = px.bar(actor_genre_counts, x='Actor', y='Unique Genre Count',\n",
    "             title='أكثر 20 ممثل تنوعًا في أنواع الأفلام',\n",
    "             text='Unique Genre Count', color='Unique Genre Count', color_continuous_scale='Viridis')\n",
    "fig.update_layout(xaxis_title='الممثل', yaxis_title='عدد الأنواع المختلفة', xaxis_tickangle=-45)\n",
    "fig.show()\n"
   ]
  },
  {
   "cell_type": "markdown",
   "id": "e5b842f2",
   "metadata": {},
   "source": [
    "###  أفلام الأكشن :\n",
    "أزواج مثل:\n",
    "\n",
    "John Cena & Paul Wight (28 مرة \"Action-Drama\")\n",
    "\n",
    "Glenn Jacobs & Paul Michael Lévesque (34 مرة \"Action-Drama\")\n",
    "\n",
    "Chris Irvine & Glenn Jacobs (31 مرة \"Action-Drama\")\n",
    "\n",
    "Booker Huffman & Steve Borden (35 مرة \"Action\")\n",
    "\n",
    "Ric Flair & Steve Borden (49 مرة \"Action\")\n",
    "\n",
    " تدل على وجود تركيز ضخم على أفلام الأكشن المرتبطة بالمصارعين والرياضيين المعروفين، وغالبًا أفلامهم تدور في نفس القالب من حيث النوع والمحتوى.\n",
    "\n",
    "### الثنائيات  في الكوميديا:\n",
    "أزواج مثل:\n",
    "\n",
    "Larry Fine & Moe Howard (58 مرة \"Comedy\")\n",
    "\n",
    "Bud Abbott & Lou Costello (12 مرة \"Comedy\")\n",
    "\n",
    "Oliver Hardy & Stan Laurel (17 مرة \"Comedy\")\n",
    "\n",
    " هذه الثنائيات جزء من تاريخ الكوميديا  وتكرار ظهورهم يعكس شعبيتهم وتأثيرهم الفني  .\n",
    "\n",
    "###   لأفلام الأنيميشن والعائلة:\n",
    "أزواج مثل:\n",
    "\n",
    "Mike Nawrocki & Phil Vischer (12 مرة \"Animation-Family\")\n",
    "\n",
    "Frank Welker & Jeff Bennett (5 مرات \"Animation-Family\")\n",
    "\n",
    "Mickie McGowan & Sherry Lynn (4 مرات \"Animation-Comedy-Family\")\n",
    "\n",
    " يعكس هذا التكرار أهمية هذه الأصوات في صناعة الرسوم المتحركة الموجهة للعائلة والأطفال.\n",
    "\n",
    "### تكرار واضح في الدراما الرومانسية:\n",
    "أزواج مثل:\n",
    "\n",
    "Jack Mower & Stuart Holmes (4 مرات \"Drama-Romance\")\n",
    "\n",
    "Frank Mayo & Jack Mower (6 مرات \"Drama-Romance\")\n",
    "\n",
    "Bess Flowers & Harold Miller (5 مرات \"Drama-Romance\")\n",
    "\n",
    "Griffiths & Roger Ashton (6 مرات \"Drama-Romance\")\n",
    "\n",
    " مما يدل على وجود عدد كبير من الممثلين المشاركين في إنتاجات الدراما الرومانسية، .\n",
    "\n",
    "### الغرب الأمريكي (Western) يظهر بشكل متكرر:\n",
    "أمثلة:\n",
    "\n",
    "Chris & Pin Martin (19 مرة \"Western\")\n",
    "\n",
    "Roy Rogers & Trigger (15 مرة \"Western\")\n",
    "\n",
    "Kenne Duncan & Tom London (22 مرة \"Western\")\n",
    "\n",
    " ما يدل على أهمية أفلام الغرب الأمريكي الكلاسيكية وانتشار الثنائيات الشهيرة فيها.\n",
    "\n"
   ]
  },
  {
   "cell_type": "code",
   "execution_count": 37,
   "id": "b9995315",
   "metadata": {},
   "outputs": [
    {
     "name": "stdout",
     "output_type": "stream",
     "text": [
      "أزواج الممثلين اللي تكرروا بأكثر من 30 فيلم:\n",
      "('Larry Fine', 'Moe Howard'): 77 فيلم\n",
      "('Bess Flowers', 'Harold Miller'): 71 فيلم\n",
      "('Davies', 'John Rhys'): 63 فيلم\n",
      "('Harold Miller', 'Sam Harris'): 55 فيلم\n",
      "('Bess Flowers', 'Sam Harris'): 52 فيلم\n",
      "('Chris', 'Pin Martin'): 52 فيلم\n",
      "('Ric Flair', 'Steve Borden'): 52 فيلم\n",
      "('Curly Howard', 'Moe Howard'): 52 فيلم\n",
      "('Curly Howard', 'Larry Fine'): 51 فيلم\n",
      "('Claude Van Damme', 'Jean'): 50 فيلم\n",
      "('White', 'Wilfrid Hyde'): 50 فيلم\n",
      "('Frank Mayo', 'Jack Mower'): 50 فيلم\n",
      "('Paul Ben', 'Victor'): 48 فيلم\n",
      "('Chris Irvine', 'Paul Wight'): 48 فيلم\n",
      "('Cary', 'Hiroyuki Tagawa'): 46 فيلم\n",
      "('Joseph Gordon', 'Levitt'): 45 فيلم\n",
      "('Keegan', 'Michael Key'): 44 فيلم\n",
      "('Bert Moorhouse', 'Bess Flowers'): 44 فيلم\n",
      "('Huntz Hall', 'Leo Gorcey'): 44 فيلم\n",
      "('Kevin Nash', 'Scott Hall'): 44 فيلم\n",
      "('Ann', 'Margret'): 43 فيلم\n",
      "('Ice', 'T'): 42 فيلم\n",
      "('Bess Flowers', 'Franklyn Farnum'): 42 فيلم\n",
      "('Cliff Saum', 'Jack Mower'): 42 فيلم\n",
      "('Rob Rechsteiner', 'Scott Rechsteiner'): 42 فيلم\n",
      "('Larry Pfohl', 'Steve Borden'): 42 فيلم\n",
      "('Jack Mower', 'Stuart Holmes'): 41 فيلم\n",
      "('Booker Huffman', 'Ric Flair'): 41 فيلم\n",
      "('Hulk Hogan', 'Randy Poffo'): 41 فيلم\n",
      "('Charles Starrett', 'Smiley Burnette'): 41 فيلم\n",
      "('Johnny Mack Brown', 'Raymond Hatton'): 41 فيلم\n",
      "('Bert Stevens', 'Bess Flowers'): 40 فيلم\n",
      "('Mark Calaway', 'Michael Hickenbottom'): 40 فيلم\n",
      "('Larry Pfohl', 'Ric Flair'): 40 فيلم\n",
      "('Jack Mower', 'Paul Panzer'): 39 فيلم\n",
      "('Marty Lunde', 'Steve Borden'): 39 فيلم\n",
      "('Larry Pfohl', 'Scott Rechsteiner'): 39 فيلم\n",
      "('Larry Pfohl', 'Page Falkinburg Jr.'): 39 فيلم\n",
      "('Mark Calaway', 'Paul Michael Lévesque'): 38 فيلم\n",
      "('Bess Flowers', 'Larry Steers'): 38 فيلم\n",
      "('Glenn Jacobs', 'Paul Michael Lévesque'): 38 فيلم\n",
      "('Frank Welker', 'Jeff Bennett'): 37 فيلم\n",
      "('Franklyn Farnum', 'Harold Miller'): 37 فيلم\n",
      "('Jack Mower', 'Tom Wilson'): 37 فيلم\n",
      "('Glenn Jacobs', 'Paul Wight'): 37 فيلم\n",
      "('Booker Huffman', 'Hulk Hogan'): 37 فيلم\n",
      "('Booker Huffman', 'Page Falkinburg Jr.'): 37 فيلم\n",
      "('Booker Huffman', 'Steve Borden'): 37 فيلم\n",
      "('Kevin Nash', 'Larry Pfohl'): 37 فيلم\n",
      "('Allan Lane', 'Roy Barcroft'): 37 فيلم\n",
      "('Ole Thorsen', 'Sven'): 36 فيلم\n",
      "('Terry', 'Thomas'): 36 فيلم\n",
      "('Bud Abbott', 'Lou Costello'): 36 فيلم\n",
      "('Bess Flowers', 'James Conaty'): 36 فيلم\n",
      "('Booker Huffman', 'Paul Wight'): 36 فيلم\n",
      "('Glen Cavender', 'Jack Mower'): 36 فيلم\n",
      "('Larry Pfohl', 'Scott Hall'): 36 فيلم\n",
      "('Larry Pfohl', 'Rob Rechsteiner'): 36 فيلم\n",
      "('Bert Stevens', 'Harold Miller'): 35 فيلم\n",
      "('Griffiths', 'Roger Ashton'): 35 فيلم\n",
      "('Mike Nawrocki', 'Phil Vischer'): 35 فيلم\n",
      "('Chris Irvine', 'Glenn Jacobs'): 35 فيلم\n",
      "('Cliff Saum', 'Stuart Holmes'): 35 فيلم\n",
      "('Gabriel Dell', 'Huntz Hall'): 35 فيلم\n",
      "('Paul Wight', 'Óscar Gutiérrez'): 35 فيلم\n",
      "('Jack Mower', 'Sol Gorss'): 35 فيلم\n",
      "('Page Falkinburg Jr.', 'Steve Borden'): 35 فيلم\n",
      "('Booker Huffman', 'Lash Huffman'): 35 فيلم\n",
      "('Allan Lane', 'Black Jack'): 35 فيلم\n",
      "('Brian Doyle', 'Murray'): 34 فيلم\n",
      "('John Cena', 'Paul Wight'): 34 فيلم\n",
      "('Harold Miller', 'Jeffrey Sayre'): 34 فيلم\n",
      "('Roy Rogers', 'Trigger'): 34 فيلم\n",
      "('Michael Hickenbottom', 'Paul Michael Lévesque'): 34 فيلم\n",
      "('Jack Mower', 'John Ridgely'): 34 فيلم\n",
      "('Hulk Hogan', 'Ric Flair'): 34 فيلم\n",
      "('Hulk Hogan', 'Jimmy Hart'): 34 فيلم\n",
      "('Bert Stevens', 'Sam Harris'): 33 فيلم\n",
      "('Bess Flowers', \"William H. O'Brien\"): 33 فيلم\n",
      "('Stuart Holmes', 'Tom Wilson'): 33 فيلم\n",
      "('Anne Down', 'Lesley'): 33 فيلم\n",
      "('Oliver Hardy', 'Stan Laurel'): 33 فيلم\n",
      "('Glenn Jacobs', 'Mark Calaway'): 33 فيلم\n",
      "('Jack Mower', 'John Harron'): 33 فيلم\n",
      "('Booker Huffman', 'Chris Benoit'): 33 فيلم\n",
      "('Hulk Hogan', 'Steve Borden'): 33 فيلم\n",
      "('Kenne Duncan', 'Tom London'): 33 فيلم\n",
      "('Page Falkinburg Jr.', 'Ric Flair'): 33 فيلم\n",
      "('Kevin Nash', 'Page Falkinburg Jr.'): 33 فيلم\n",
      "('Frank Welker', 'Jim Cummings'): 32 فيلم\n",
      "('Mickie McGowan', 'Sherry Lynn'): 32 فيلم\n",
      "('Franklyn Farnum', 'Sam Harris'): 32 فيلم\n",
      "('John Cena', 'Randy Orton'): 32 فيلم\n",
      "('Hulk Hogan', 'Paul Wight'): 32 فيلم\n",
      "('Randy Poffo', 'Ric Flair'): 32 فيلم\n",
      "('Page Falkinburg Jr.', 'Randy Poffo'): 32 فيلم\n",
      "('Marty Lunde', 'Ric Flair'): 32 فيلم\n",
      "('Rob Rechsteiner', 'Steve Borden'): 32 فيلم\n",
      "('David Gorcey', 'Huntz Hall'): 32 فيلم\n",
      "('Bess Flowers', 'Irving Bacon'): 31 فيلم\n",
      "('Harold Miller', 'Larry Steers'): 31 فيلم\n",
      "('Bess Flowers', 'Byron Foulger'): 31 فيلم\n",
      "('Glenn Jacobs', 'John Cena'): 31 فيلم\n",
      "('James Conaty', 'Larry Steers'): 31 فيلم\n",
      "('Jack Mower', 'Leo White'): 31 فيلم\n",
      "('Booker Huffman', 'Óscar Gutiérrez'): 31 فيلم\n",
      "('Chris Benoit', 'Chris Irvine'): 31 فيلم\n",
      "('Chris Benoit', 'Paul Wight'): 31 فيلم\n",
      "('Randy Poffo', 'Steve Borden'): 31 فيلم\n",
      "('Chris Benoit', 'Dean Simon'): 31 فيلم\n",
      "('Hulk Hogan', 'Page Falkinburg Jr.'): 31 فيلم\n",
      "('Ric Flair', 'Rob Rechsteiner'): 31 فيلم\n",
      "('Roy Barcroft', 'Tom London'): 31 فيلم\n",
      "('Booker Huffman', 'Larry Pfohl'): 31 فيلم\n",
      "('Scott Rechsteiner', 'Steve Borden'): 31 فيلم\n",
      "('Hulk Hogan', 'Larry Pfohl'): 31 فيلم\n"
     ]
    }
   ],
   "source": [
    "\n",
    "actors_per_movie = english_movies['credits'].dropna().apply(lambda x: sorted(set(str(x).split('-'))))\n",
    "\n",
    "all_pairs = []\n",
    "for actors in actors_per_movie:\n",
    "    pairs = combinations(actors, 2)\n",
    "    all_pairs.extend(pairs)\n",
    "\n",
    "pair_counts = Counter(all_pairs)\n",
    "\n",
    "popular_pairs = [(pair, count) for pair, count in pair_counts.items() if count > 30]\n",
    "\n",
    "popular_pairs = sorted(popular_pairs, key=lambda x: x[1], reverse=True)\n",
    "\n",
    "print(\"أزواج الممثلين اللي تكرروا بأكثر من 30 فيلم:\")\n",
    "for pair, count in popular_pairs:\n",
    "    print(f\"{pair}: {count} فيلم\")\n"
   ]
  },
  {
   "cell_type": "code",
   "execution_count": 38,
   "id": "0e37c39b",
   "metadata": {},
   "outputs": [
    {
     "name": "stdout",
     "output_type": "stream",
     "text": [
      "\n",
      " الزوج: Davies و John Rhys\n",
      " أكثر الأنواع اللي شاركوا فيها:\n",
      " - Adventure-Action: 4 مرة\n",
      " - Adventure-Fantasy-Action: 3 مرة\n",
      " - Documentary: 3 مرة\n",
      "\n",
      " الزوج: Keegan و Michael Key\n",
      " أكثر الأنواع اللي شاركوا فيها:\n",
      " - Comedy: 7 مرة\n",
      " - Comedy-Drama: 5 مرة\n",
      " - Animation-Comedy-Family-Fantasy: 2 مرة\n",
      "\n",
      " الزوج: Joseph Gordon و Levitt\n",
      " أكثر الأنواع اللي شاركوا فيها:\n",
      " - Comedy-Drama: 3 مرة\n",
      " - Comedy-Crime-Mystery: 2 مرة\n",
      " - Action-Crime-Drama-Thriller: 2 مرة\n",
      "\n",
      " الزوج: Frank Welker و Jim Cummings\n",
      " أكثر الأنواع اللي شاركوا فيها:\n",
      " - Animation-Family: 3 مرة\n",
      " - Family-Adventure-Animation-Romance: 2 مرة\n",
      " - Animation-Family-Fantasy: 2 مرة\n",
      "\n",
      " الزوج: Paul Ben و Victor\n",
      " أكثر الأنواع اللي شاركوا فيها:\n",
      " - Drama: 4 مرة\n",
      " - Action: 3 مرة\n",
      " - Comedy: 3 مرة\n",
      "\n",
      " الزوج: Bert Stevens و Bess Flowers\n",
      " أكثر الأنواع اللي شاركوا فيها:\n",
      " - Comedy-Drama-Romance: 5 مرة\n",
      " - Comedy-Romance: 5 مرة\n",
      " - Drama: 3 مرة\n",
      "\n",
      " الزوج: Mickie McGowan و Sherry Lynn\n",
      " أكثر الأنواع اللي شاركوا فيها:\n",
      " - Animation-Comedy-Family: 4 مرة\n",
      " - Animation-Family: 3 مرة\n",
      " - Adventure-Animation-Comedy-Family-Fantasy: 2 مرة\n",
      "\n",
      " الزوج: Claude Van Damme و Jean\n",
      " أكثر الأنواع اللي شاركوا فيها:\n",
      " - Action: 9 مرة\n",
      " - Action-Drama: 3 مرة\n",
      " - Action-Thriller: 3 مرة\n",
      "\n",
      " الزوج: Frank Welker و Jeff Bennett\n",
      " أكثر الأنواع اللي شاركوا فيها:\n",
      " - Animation-Family: 5 مرة\n",
      " - Animation-Comedy-Family: 3 مرة\n",
      " - Animation-Family-Comedy: 3 مرة\n",
      "\n",
      " الزوج: Ole Thorsen و Sven\n",
      " أكثر الأنواع اللي شاركوا فيها:\n",
      " - Adventure-Fantasy-Action: 4 مرة\n",
      " - Action-Thriller: 3 مرة\n",
      " - Action: 2 مرة\n",
      "\n",
      " الزوج: Bess Flowers و Irving Bacon\n",
      " أكثر الأنواع اللي شاركوا فيها:\n",
      " - Comedy-Romance: 8 مرة\n",
      " - Comedy: 5 مرة\n",
      " - Comedy-Drama-Romance: 3 مرة\n",
      "\n",
      " الزوج: Bert Stevens و Sam Harris\n",
      " أكثر الأنواع اللي شاركوا فيها:\n",
      " - Comedy-Romance: 5 مرة\n",
      " - Drama: 4 مرة\n",
      " - Drama-Romance: 2 مرة\n",
      "\n",
      " الزوج: Bert Stevens و Harold Miller\n",
      " أكثر الأنواع اللي شاركوا فيها:\n",
      " - Drama: 5 مرة\n",
      " - Comedy-Drama-Romance: 4 مرة\n",
      " - Drama-Romance: 2 مرة\n",
      "\n",
      " الزوج: Bess Flowers و Harold Miller\n",
      " أكثر الأنواع اللي شاركوا فيها:\n",
      " - Comedy-Romance: 9 مرة\n",
      " - Drama: 5 مرة\n",
      " - Drama-Romance: 5 مرة\n",
      "\n",
      " الزوج: Bess Flowers و Sam Harris\n",
      " أكثر الأنواع اللي شاركوا فيها:\n",
      " - Comedy-Romance: 6 مرة\n",
      " - Drama: 4 مرة\n",
      " - Comedy-Drama-Romance: 4 مرة\n",
      "\n",
      " الزوج: Harold Miller و Sam Harris\n",
      " أكثر الأنواع اللي شاركوا فيها:\n",
      " - Drama: 6 مرة\n",
      " - Comedy-Romance: 5 مرة\n",
      " - Drama-Romance: 4 مرة\n",
      "\n",
      " الزوج: Brian Doyle و Murray\n",
      " أكثر الأنواع اللي شاركوا فيها:\n",
      " - Comedy: 6 مرة\n",
      " - Comedy-Adventure: 2 مرة\n",
      " - Comedy-Music: 2 مرة\n",
      "\n",
      " الزوج: Cary و Hiroyuki Tagawa\n",
      " أكثر الأنواع اللي شاركوا فيها:\n",
      " - Action: 4 مرة\n",
      " - Action-Fantasy-Science Fiction: 2 مرة\n",
      " - Thriller-Action-Drama: 2 مرة\n",
      "\n",
      " الزوج: Terry و Thomas\n",
      " أكثر الأنواع اللي شاركوا فيها:\n",
      " - Comedy: 18 مرة\n",
      " - Animation-Family: 1 مرة\n",
      " - Action-Adventure-Comedy: 1 مرة\n",
      "\n",
      " الزوج: Ice و T\n",
      " أكثر الأنواع اللي شاركوا فيها:\n",
      " - Documentary: 4 مرة\n",
      " - Action-Thriller: 3 مرة\n",
      " - Music-Documentary: 2 مرة\n",
      "\n",
      " الزوج: Griffiths و Roger Ashton\n",
      " أكثر الأنواع اللي شاركوا فيها:\n",
      " - Drama-Romance: 6 مرة\n",
      " - Comedy: 3 مرة\n",
      " - Comedy-Drama-History: 2 مرة\n",
      "\n",
      " الزوج: Bud Abbott و Lou Costello\n",
      " أكثر الأنواع اللي شاركوا فيها:\n",
      " - Comedy: 12 مرة\n",
      " - Comedy-Horror: 3 مرة\n",
      " - Comedy-Adventure: 3 مرة\n",
      "\n",
      " الزوج: Ann و Margret\n",
      " أكثر الأنواع اللي شاركوا فيها:\n",
      " - Drama: 4 مرة\n",
      " - Romance-Comedy: 4 مرة\n",
      " - Comedy: 3 مرة\n",
      "\n",
      " الزوج: Bess Flowers و James Conaty\n",
      " أكثر الأنواع اللي شاركوا فيها:\n",
      " - Comedy-Drama-Romance: 3 مرة\n",
      " - Drama: 2 مرة\n",
      " - Drama-Romance: 2 مرة\n",
      "\n",
      " الزوج: Bess Flowers و William H. O'Brien\n",
      " أكثر الأنواع اللي شاركوا فيها:\n",
      " - Comedy-Romance: 7 مرة\n",
      " - Mystery-Crime-Thriller: 2 مرة\n",
      " - Drama: 2 مرة\n",
      "\n",
      " الزوج: Franklyn Farnum و Sam Harris\n",
      " أكثر الأنواع اللي شاركوا فيها:\n",
      " - Drama-Romance: 5 مرة\n",
      " - Comedy-Romance: 4 مرة\n",
      " - Comedy: 4 مرة\n",
      "\n",
      " الزوج: White و Wilfrid Hyde\n",
      " أكثر الأنواع اللي شاركوا فيها:\n",
      " - Comedy: 9 مرة\n",
      " - Drama: 6 مرة\n",
      " - Comedy-Romance: 2 مرة\n",
      "\n",
      " الزوج: Mark Calaway و Paul Michael Lévesque\n",
      " أكثر الأنواع اللي شاركوا فيها:\n",
      " - Action-Drama: 30 مرة\n",
      " - Documentary: 5 مرة\n",
      " - Animation-Family-Comedy: 1 مرة\n",
      "\n",
      " الزوج: Franklyn Farnum و Harold Miller\n",
      " أكثر الأنواع اللي شاركوا فيها:\n",
      " - Drama: 5 مرة\n",
      " - Comedy: 4 مرة\n",
      " - Drama-Romance: 3 مرة\n",
      "\n",
      " الزوج: Bess Flowers و Franklyn Farnum\n",
      " أكثر الأنواع اللي شاركوا فيها:\n",
      " - Comedy-Romance: 5 مرة\n",
      " - Comedy: 4 مرة\n",
      " - Drama: 3 مرة\n",
      "\n",
      " الزوج: Bess Flowers و Larry Steers\n",
      " أكثر الأنواع اللي شاركوا فيها:\n",
      " - Comedy-Romance: 5 مرة\n",
      " - Drama: 3 مرة\n",
      " - Comedy-Drama-Romance: 3 مرة\n",
      "\n",
      " الزوج: Harold Miller و Larry Steers\n",
      " أكثر الأنواع اللي شاركوا فيها:\n",
      " - Drama: 6 مرة\n",
      " - Comedy-Romance: 4 مرة\n",
      " - Drama-Romance: 3 مرة\n",
      "\n",
      " الزوج: John Cena و Paul Wight\n",
      " أكثر الأنواع اللي شاركوا فيها:\n",
      " - Action-Drama: 28 مرة\n",
      " - Action: 3 مرة\n",
      " - Comedy: 1 مرة\n",
      "\n",
      " الزوج: Chris و Pin Martin\n",
      " أكثر الأنواع اللي شاركوا فيها:\n",
      " - Western: 19 مرة\n",
      " - Drama-Romance: 5 مرة\n",
      " - Action-Adventure-Drama-Romance: 2 مرة\n",
      "\n",
      " الزوج: Harold Miller و Jeffrey Sayre\n",
      " أكثر الأنواع اللي شاركوا فيها:\n",
      " - Drama: 5 مرة\n",
      " - Drama-Romance: 4 مرة\n",
      " - Comedy: 3 مرة\n",
      "\n",
      " الزوج: Jack Mower و Stuart Holmes\n",
      " أكثر الأنواع اللي شاركوا فيها:\n",
      " - Drama-Romance: 4 مرة\n",
      " - Crime-Drama: 4 مرة\n",
      " - Drama: 4 مرة\n",
      "\n",
      " الزوج: Jack Mower و Tom Wilson\n",
      " أكثر الأنواع اللي شاركوا فيها:\n",
      " - Drama: 4 مرة\n",
      " - Drama-Romance: 3 مرة\n",
      " - Crime-Drama: 3 مرة\n",
      "\n",
      " الزوج: Stuart Holmes و Tom Wilson\n",
      " أكثر الأنواع اللي شاركوا فيها:\n",
      " - Crime-Drama: 5 مرة\n",
      " - Drama-Romance: 4 مرة\n",
      " - Western: 3 مرة\n",
      "\n",
      " الزوج: Larry Fine و Moe Howard\n",
      " أكثر الأنواع اللي شاركوا فيها:\n",
      " - Comedy: 58 مرة\n",
      " - Comedy-Western: 3 مرة\n",
      " - Comedy-Science Fiction: 2 مرة\n",
      "\n",
      " الزوج: Jack Mower و Paul Panzer\n",
      " أكثر الأنواع اللي شاركوا فيها:\n",
      " - Crime-Drama: 4 مرة\n",
      " - Drama-Romance: 3 مرة\n",
      " - Romance-Crime-Drama: 2 مرة\n",
      "\n",
      " الزوج: Roy Rogers و Trigger\n",
      " أكثر الأنواع اللي شاركوا فيها:\n",
      " - Western: 15 مرة\n",
      " - Action-Western: 6 مرة\n",
      " - Animation-Music-Family: 1 مرة\n",
      "\n",
      " الزوج: Anne Down و Lesley\n",
      " أكثر الأنواع اللي شاركوا فيها:\n",
      " - Comedy-Crime: 2 مرة\n",
      " - Horror-Thriller: 2 مرة\n",
      " - Romance-Comedy-TV Movie: 1 مرة\n",
      "\n",
      " الزوج: Bert Moorhouse و Bess Flowers\n",
      " أكثر الأنواع اللي شاركوا فيها:\n",
      " - Comedy-Romance: 8 مرة\n",
      " - Comedy-Drama-Romance: 3 مرة\n",
      " - Comedy: 3 مرة\n",
      "\n",
      " الزوج: Mike Nawrocki و Phil Vischer\n",
      " أكثر الأنواع اللي شاركوا فيها:\n",
      " - Animation-Family: 12 مرة\n",
      " - Family-Animation: 8 مرة\n",
      " - Adventure-Family-Animation: 2 مرة\n",
      "\n",
      " الزوج: Bess Flowers و Byron Foulger\n",
      " أكثر الأنواع اللي شاركوا فيها:\n",
      " - Comedy-Romance: 5 مرة\n",
      " - Comedy: 3 مرة\n",
      " - Comedy-Drama-Romance: 2 مرة\n",
      "\n",
      " الزوج: Oliver Hardy و Stan Laurel\n",
      " أكثر الأنواع اللي شاركوا فيها:\n",
      " - Comedy: 17 مرة\n",
      " - Comedy-Music: 6 مرة\n",
      " - Comedy-War: 3 مرة\n",
      "\n",
      " الزوج: Booker Huffman و Paul Wight\n",
      " أكثر الأنواع اللي شاركوا فيها:\n",
      " - Action: 20 مرة\n",
      " - Action-Drama: 16 مرة\n",
      "\n",
      " الزوج: Chris Irvine و Glenn Jacobs\n",
      " أكثر الأنواع اللي شاركوا فيها:\n",
      " - Action-Drama: 31 مرة\n",
      " - Drama-Action: 2 مرة\n",
      " - Action: 1 مرة\n",
      "\n",
      " الزوج: Chris Irvine و Paul Wight\n",
      " أكثر الأنواع اللي شاركوا فيها:\n",
      " - Action-Drama: 28 مرة\n",
      " - Action: 18 مرة\n",
      " - Drama-Action: 1 مرة\n",
      "\n",
      " الزوج: Glenn Jacobs و John Cena\n",
      " أكثر الأنواع اللي شاركوا فيها:\n",
      " - Action-Drama: 26 مرة\n",
      " - Drama-Action: 2 مرة\n",
      " - Action: 2 مرة\n",
      "\n",
      " الزوج: Glenn Jacobs و Mark Calaway\n",
      " أكثر الأنواع اللي شاركوا فيها:\n",
      " - Action-Drama: 29 مرة\n",
      " - Documentary: 2 مرة\n",
      " - Drama-Action: 1 مرة\n",
      "\n",
      " الزوج: Glenn Jacobs و Paul Michael Lévesque\n",
      " أكثر الأنواع اللي شاركوا فيها:\n",
      " - Action-Drama: 34 مرة\n",
      " - Drama-Action: 1 مرة\n",
      " - Action: 1 مرة\n",
      "\n",
      " الزوج: Glenn Jacobs و Paul Wight\n",
      " أكثر الأنواع اللي شاركوا فيها:\n",
      " - Action-Drama: 33 مرة\n",
      " - Action: 2 مرة\n",
      " - Action-Comedy: 1 مرة\n",
      "\n",
      " الزوج: John Cena و Randy Orton\n",
      " أكثر الأنواع اللي شاركوا فيها:\n",
      " - Action-Drama: 25 مرة\n",
      " - Action: 3 مرة\n",
      " - Drama-Action: 2 مرة\n",
      "\n",
      " الزوج: Mark Calaway و Michael Hickenbottom\n",
      " أكثر الأنواع اللي شاركوا فيها:\n",
      " - Action-Drama: 33 مرة\n",
      " - Documentary: 4 مرة\n",
      " - Drama-Action: 1 مرة\n",
      "\n",
      " الزوج: Michael Hickenbottom و Paul Michael Lévesque\n",
      " أكثر الأنواع اللي شاركوا فيها:\n",
      " - Action-Drama: 28 مرة\n",
      " - Documentary: 4 مرة\n",
      " - Drama-Action: 1 مرة\n",
      "\n",
      " الزوج: James Conaty و Larry Steers\n",
      " أكثر الأنواع اللي شاركوا فيها:\n",
      " - Comedy: 4 مرة\n",
      " - Drama: 3 مرة\n",
      " - Crime-Drama: 3 مرة\n",
      "\n",
      " الزوج: Cliff Saum و Jack Mower\n",
      " أكثر الأنواع اللي شاركوا فيها:\n",
      " - Crime-Drama: 6 مرة\n",
      " - Drama: 4 مرة\n",
      " - Comedy-Romance: 3 مرة\n",
      "\n",
      " الزوج: Cliff Saum و Stuart Holmes\n",
      " أكثر الأنواع اللي شاركوا فيها:\n",
      " - Crime-Drama: 5 مرة\n",
      " - Drama: 5 مرة\n",
      " - Western: 4 مرة\n",
      "\n",
      " الزوج: Frank Mayo و Jack Mower\n",
      " أكثر الأنواع اللي شاركوا فيها:\n",
      " - Drama-Romance: 6 مرة\n",
      " - Crime-Drama: 6 مرة\n",
      " - Comedy-Romance: 3 مرة\n",
      "\n",
      " الزوج: Glen Cavender و Jack Mower\n",
      " أكثر الأنواع اللي شاركوا فيها:\n",
      " - Drama-Romance: 3 مرة\n",
      " - Crime-Drama: 3 مرة\n",
      " - Comedy-Music: 2 مرة\n",
      "\n",
      " الزوج: Jack Mower و John Harron\n",
      " أكثر الأنواع اللي شاركوا فيها:\n",
      " - Comedy-Music: 3 مرة\n",
      " - Crime-Drama-Thriller: 2 مرة\n",
      " - Drama-Romance: 2 مرة\n",
      "\n",
      " الزوج: Jack Mower و John Ridgely\n",
      " أكثر الأنواع اللي شاركوا فيها:\n",
      " - Drama-Romance: 4 مرة\n",
      " - Crime-Drama: 4 مرة\n",
      " - Crime-Drama-Thriller: 2 مرة\n",
      "\n",
      " الزوج: Jack Mower و Leo White\n",
      " أكثر الأنواع اللي شاركوا فيها:\n",
      " - Comedy-Music: 3 مرة\n",
      " - Crime-Drama-Thriller: 2 مرة\n",
      " - Drama-Romance: 2 مرة\n",
      "\n",
      " الزوج: Gabriel Dell و Huntz Hall\n",
      " أكثر الأنواع اللي شاركوا فيها:\n",
      " - Comedy: 11 مرة\n",
      " - Crime-Drama: 5 مرة\n",
      " - Crime-Comedy: 3 مرة\n",
      "\n",
      " الزوج: Huntz Hall و Leo Gorcey\n",
      " أكثر الأنواع اللي شاركوا فيها:\n",
      " - Comedy: 25 مرة\n",
      " - Crime-Drama: 3 مرة\n",
      " - Crime-Comedy: 2 مرة\n",
      "\n",
      " الزوج: Booker Huffman و Chris Benoit\n",
      " أكثر الأنواع اللي شاركوا فيها:\n",
      " - Action: 26 مرة\n",
      " - Action-Drama: 7 مرة\n",
      "\n",
      " الزوج: Booker Huffman و Ric Flair\n",
      " أكثر الأنواع اللي شاركوا فيها:\n",
      " - Action: 31 مرة\n",
      " - Action-Drama: 9 مرة\n",
      " - Documentary: 1 مرة\n",
      "\n",
      " الزوج: Booker Huffman و Óscar Gutiérrez\n",
      " أكثر الأنواع اللي شاركوا فيها:\n",
      " - Action: 20 مرة\n",
      " - Action-Drama: 10 مرة\n",
      " - Action-Comedy: 1 مرة\n",
      "\n",
      " الزوج: Chris Benoit و Chris Irvine\n",
      " أكثر الأنواع اللي شاركوا فيها:\n",
      " - Action: 16 مرة\n",
      " - Action-Drama: 14 مرة\n",
      " - Drama-Action: 1 مرة\n",
      "\n",
      " الزوج: Chris Benoit و Paul Wight\n",
      " أكثر الأنواع اللي شاركوا فيها:\n",
      " - Action: 22 مرة\n",
      " - Action-Drama: 8 مرة\n",
      " - Drama-Action: 1 مرة\n",
      "\n",
      " الزوج: Paul Wight و Óscar Gutiérrez\n",
      " أكثر الأنواع اللي شاركوا فيها:\n",
      " - Action: 19 مرة\n",
      " - Action-Drama: 15 مرة\n",
      " - Drama-Action: 1 مرة\n",
      "\n",
      " الزوج: Jack Mower و Sol Gorss\n",
      " أكثر الأنواع اللي شاركوا فيها:\n",
      " - Crime-Drama: 4 مرة\n",
      " - Drama: 3 مرة\n",
      " - Drama-Romance: 2 مرة\n",
      "\n",
      " الزوج: Hulk Hogan و Paul Wight\n",
      " أكثر الأنواع اللي شاركوا فيها:\n",
      " - Action: 23 مرة\n",
      " - Action-Drama: 6 مرة\n",
      " - Drama-Action: 1 مرة\n",
      "\n",
      " الزوج: Hulk Hogan و Steve Borden\n",
      " أكثر الأنواع اللي شاركوا فيها:\n",
      " - Action: 30 مرة\n",
      " - Documentary: 2 مرة\n",
      " - Action-Drama: 1 مرة\n",
      "\n",
      " الزوج: Kevin Nash و Scott Hall\n",
      " أكثر الأنواع اللي شاركوا فيها:\n",
      " - Action: 25 مرة\n",
      " - Action-Drama: 13 مرة\n",
      " - Documentary: 6 مرة\n",
      "\n",
      " الزوج: Booker Huffman و Hulk Hogan\n",
      " أكثر الأنواع اللي شاركوا فيها:\n",
      " - Action: 31 مرة\n",
      " - Action-Drama: 5 مرة\n",
      " - Documentary: 1 مرة\n",
      "\n",
      " الزوج: Hulk Hogan و Ric Flair\n",
      " أكثر الأنواع اللي شاركوا فيها:\n",
      " - Action: 25 مرة\n",
      " - Action-Drama: 6 مرة\n",
      " - Documentary: 2 مرة\n",
      "\n",
      " الزوج: Hulk Hogan و Randy Poffo\n",
      " أكثر الأنواع اللي شاركوا فيها:\n",
      " - Action: 28 مرة\n",
      " - Action-Drama: 9 مرة\n",
      " - Documentary: 3 مرة\n",
      "\n",
      " الزوج: Randy Poffo و Ric Flair\n",
      " أكثر الأنواع اللي شاركوا فيها:\n",
      " - Action: 25 مرة\n",
      " - Action-Drama: 4 مرة\n",
      " - Documentary: 2 مرة\n",
      "\n",
      " الزوج: Booker Huffman و Page Falkinburg Jr.\n",
      " أكثر الأنواع اللي شاركوا فيها:\n",
      " - Action: 32 مرة\n",
      " - Action-Drama: 3 مرة\n",
      " - Action-Comedy: 1 مرة\n",
      "\n",
      " الزوج: Booker Huffman و Steve Borden\n",
      " أكثر الأنواع اللي شاركوا فيها:\n",
      " - Action: 35 مرة\n",
      " - Action-Comedy: 1 مرة\n",
      " - Documentary: 1 مرة\n",
      "\n",
      " الزوج: Page Falkinburg Jr. و Randy Poffo\n",
      " أكثر الأنواع اللي شاركوا فيها:\n",
      " - Action: 29 مرة\n",
      " - Documentary: 2 مرة\n",
      " - Action-Comedy: 1 مرة\n",
      "\n",
      " الزوج: Page Falkinburg Jr. و Steve Borden\n",
      " أكثر الأنواع اللي شاركوا فيها:\n",
      " - Action: 33 مرة\n",
      " - Action-Comedy: 1 مرة\n",
      " - Documentary: 1 مرة\n",
      "\n",
      " الزوج: Randy Poffo و Steve Borden\n",
      " أكثر الأنواع اللي شاركوا فيها:\n",
      " - Action: 28 مرة\n",
      " - Documentary: 2 مرة\n",
      " - Action-Comedy: 1 مرة\n",
      "\n",
      " الزوج: Kenne Duncan و Tom London\n",
      " أكثر الأنواع اللي شاركوا فيها:\n",
      " - Western: 22 مرة\n",
      " - Action-Adventure-Crime-Science Fiction-Thriller-War: 1 مرة\n",
      " - Drama-Action-War: 1 مرة\n",
      "\n",
      " الزوج: Chris Benoit و Dean Simon\n",
      " أكثر الأنواع اللي شاركوا فيها:\n",
      " - Action: 27 مرة\n",
      " - Action-Drama: 4 مرة\n",
      "\n",
      " الزوج: Marty Lunde و Steve Borden\n",
      " أكثر الأنواع اللي شاركوا فيها:\n",
      " - Action: 37 مرة\n",
      " - TV Movie: 1 مرة\n",
      " - Documentary: 1 مرة\n",
      "\n",
      " الزوج: Ric Flair و Steve Borden\n",
      " أكثر الأنواع اللي شاركوا فيها:\n",
      " - Action: 49 مرة\n",
      " - Documentary: 3 مرة\n",
      "\n",
      " الزوج: Hulk Hogan و Page Falkinburg Jr.\n",
      " أكثر الأنواع اللي شاركوا فيها:\n",
      " - Action: 29 مرة\n",
      " - Documentary: 2 مرة\n",
      "\n",
      " الزوج: Marty Lunde و Ric Flair\n",
      " أكثر الأنواع اللي شاركوا فيها:\n",
      " - Action: 30 مرة\n",
      " - Documentary: 1 مرة\n",
      " - Action-Drama: 1 مرة\n",
      "\n",
      " الزوج: Page Falkinburg Jr. و Ric Flair\n",
      " أكثر الأنواع اللي شاركوا فيها:\n",
      " - Action: 30 مرة\n",
      " - Documentary: 2 مرة\n",
      " - Action-Drama: 1 مرة\n",
      "\n",
      " الزوج: Kevin Nash و Larry Pfohl\n",
      " أكثر الأنواع اللي شاركوا فيها:\n",
      " - Action: 30 مرة\n",
      " - Action-Drama: 6 مرة\n",
      " - Documentary: 1 مرة\n",
      "\n",
      " الزوج: Larry Pfohl و Scott Hall\n",
      " أكثر الأنواع اللي شاركوا فيها:\n",
      " - Action: 28 مرة\n",
      " - Action-Drama: 7 مرة\n",
      " - Documentary: 1 مرة\n",
      "\n",
      " الزوج: Larry Pfohl و Rob Rechsteiner\n",
      " أكثر الأنواع اللي شاركوا فيها:\n",
      " - Action: 33 مرة\n",
      " - Action-Drama: 3 مرة\n",
      "\n",
      " الزوج: Larry Pfohl و Scott Rechsteiner\n",
      " أكثر الأنواع اللي شاركوا فيها:\n",
      " - Action: 36 مرة\n",
      " - Action-Drama: 3 مرة\n",
      "\n",
      " الزوج: Rob Rechsteiner و Scott Rechsteiner\n",
      " أكثر الأنواع اللي شاركوا فيها:\n",
      " - Action: 37 مرة\n",
      " - Action-Drama: 5 مرة\n",
      "\n",
      " الزوج: Larry Pfohl و Ric Flair\n",
      " أكثر الأنواع اللي شاركوا فيها:\n",
      " - Action: 39 مرة\n",
      " - Action-Drama: 1 مرة\n",
      "\n",
      " الزوج: Ric Flair و Rob Rechsteiner\n",
      " أكثر الأنواع اللي شاركوا فيها:\n",
      " - Action: 30 مرة\n",
      " - Action-Drama: 1 مرة\n",
      "\n",
      " الزوج: Roy Barcroft و Tom London\n",
      " أكثر الأنواع اللي شاركوا فيها:\n",
      " - Western: 21 مرة\n",
      " - Action-Western: 3 مرة\n",
      " - Action-Western-Crime: 2 مرة\n",
      "\n",
      " الزوج: Hulk Hogan و Jimmy Hart\n",
      " أكثر الأنواع اللي شاركوا فيها:\n",
      " - Action: 23 مرة\n",
      " - Action-Drama: 9 مرة\n",
      " - Action-Adventure-Family: 1 مرة\n",
      "\n",
      " الزوج: Curly Howard و Larry Fine\n",
      " أكثر الأنواع اللي شاركوا فيها:\n",
      " - Comedy: 41 مرة\n",
      " - Comedy-War: 2 مرة\n",
      " - Comedy-Romance-Music: 1 مرة\n",
      "\n",
      " الزوج: Curly Howard و Moe Howard\n",
      " أكثر الأنواع اللي شاركوا فيها:\n",
      " - Comedy: 42 مرة\n",
      " - Comedy-War: 2 مرة\n",
      " - Comedy-Romance-Music: 1 مرة\n",
      "\n",
      " الزوج: Booker Huffman و Larry Pfohl\n",
      " أكثر الأنواع اللي شاركوا فيها:\n",
      " - Action: 31 مرة\n",
      "\n",
      " الزوج: Booker Huffman و Lash Huffman\n",
      " أكثر الأنواع اللي شاركوا فيها:\n",
      " - Action: 35 مرة\n",
      "\n",
      " الزوج: Kevin Nash و Page Falkinburg Jr.\n",
      " أكثر الأنواع اللي شاركوا فيها:\n",
      " - Action: 32 مرة\n",
      " - Documentary: 1 مرة\n",
      "\n",
      " الزوج: Larry Pfohl و Page Falkinburg Jr.\n",
      " أكثر الأنواع اللي شاركوا فيها:\n",
      " - Action: 39 مرة\n",
      "\n",
      " الزوج: Larry Pfohl و Steve Borden\n",
      " أكثر الأنواع اللي شاركوا فيها:\n",
      " - Action: 42 مرة\n",
      "\n",
      " الزوج: Rob Rechsteiner و Steve Borden\n",
      " أكثر الأنواع اللي شاركوا فيها:\n",
      " - Action: 32 مرة\n",
      "\n",
      " الزوج: Scott Rechsteiner و Steve Borden\n",
      " أكثر الأنواع اللي شاركوا فيها:\n",
      " - Action: 31 مرة\n",
      "\n",
      " الزوج: Hulk Hogan و Larry Pfohl\n",
      " أكثر الأنواع اللي شاركوا فيها:\n",
      " - Action: 30 مرة\n",
      " - Action-Drama: 1 مرة\n",
      "\n",
      " الزوج: Allan Lane و Roy Barcroft\n",
      " أكثر الأنواع اللي شاركوا فيها:\n",
      " - Western: 25 مرة\n",
      " - Action-Western: 5 مرة\n",
      " - Action-Drama-Mystery-Western: 1 مرة\n",
      "\n",
      " الزوج: David Gorcey و Huntz Hall\n",
      " أكثر الأنواع اللي شاركوا فيها:\n",
      " - Comedy: 19 مرة\n",
      " - Crime-Comedy: 2 مرة\n",
      " - Comedy-Crime: 2 مرة\n",
      "\n",
      " الزوج: Allan Lane و Black Jack\n",
      " أكثر الأنواع اللي شاركوا فيها:\n",
      " - Western: 26 مرة\n",
      " - Action-Western: 5 مرة\n",
      " - Documentary: 1 مرة\n",
      "\n",
      " الزوج: Charles Starrett و Smiley Burnette\n",
      " أكثر الأنواع اللي شاركوا فيها:\n",
      " - Western: 40 مرة\n",
      " - Comedy-Western-Action-Adventure: 1 مرة\n",
      "\n",
      " الزوج: Johnny Mack Brown و Raymond Hatton\n",
      " أكثر الأنواع اللي شاركوا فيها:\n",
      " - Western: 39 مرة\n",
      " - Drama-Western-Action: 1 مرة\n",
      " - Western-Action: 1 مرة\n"
     ]
    }
   ],
   "source": [
    "\n",
    "pair_genres = defaultdict(list)\n",
    "\n",
    "for idx, row in english_movies.iterrows():\n",
    "    if pd.isna(row['credits']) or pd.isna(row['genres']):\n",
    "        continue  \n",
    "\n",
    "    actors = sorted(set(str(row['credits']).split('-')))\n",
    "    \n",
    "\n",
    "    if isinstance(row['genres'], list):\n",
    "        genres = row['genres']\n",
    "    else:\n",
    "        genres = [g.strip() for g in str(row['genres']).split(',')]\n",
    "\n",
    "\n",
    "    for pair in combinations(actors, 2):\n",
    "        if pair in dict(popular_pairs):  \n",
    "            pair_genres[pair].extend(genres)\n",
    "\n",
    "\n",
    "for pair, genres_list in pair_genres.items():\n",
    "    genre_counts = Counter(genres_list)\n",
    "    top_genres = genre_counts.most_common(3)  \n",
    "\n",
    "    print(f\"\\n الزوج: {pair[0]} و {pair[1]}\")\n",
    "    print(\" أكثر الأنواع اللي شاركوا فيها:\")\n",
    "    for genre, count in top_genres:\n",
    "        print(f\" - {genre}: {count} مرة\")\n"
   ]
  },
  {
   "cell_type": "markdown",
   "id": "8273acdf",
   "metadata": {},
   "source": [
    "### تحليل افلام التي تملك اكثر من جزء"
   ]
  },
  {
   "cell_type": "code",
   "execution_count": 39,
   "id": "4e31d029",
   "metadata": {},
   "outputs": [
    {
     "name": "stdout",
     "output_type": "stream",
     "text": [
      "                              title  release_year\n",
      "240    20,000 Leagues Under the Sea  [1954, 1997]\n",
      "274                         21 Days  [1940, 2014]\n",
      "314                            2:22  [2008, 2017]\n",
      "374                        36 Hours  [1953, 1964]\n",
      "385                    3:10 to Yuma  [1957, 2007]\n",
      "...                             ...           ...\n",
      "42001             Young as You Feel  [1931, 1940]\n",
      "42003                    Youngblood  [1978, 1986]\n",
      "42099                        Zodiac  [2007, 2014]\n",
      "42126              Zombie Nightmare  [1987, 1993]\n",
      "42153                           Zoo  [2018, 2019]\n",
      "\n",
      "[2365 rows x 2 columns]\n"
     ]
    }
   ],
   "source": [
    "\n",
    "df = english_movies.copy()\n",
    "df_sorted = df.sort_values(by=['title', 'release_year'])\n",
    "parts = df_sorted.groupby('title').agg({\n",
    "    'release_year': lambda years: list(years.unique()),   \n",
    "    'id': 'count' \n",
    "}).reset_index()\n",
    "\n",
    "parts_with_multiple_years = parts[parts['id'] > 1]\n",
    "print(parts_with_multiple_years[['title', 'release_year']])\n",
    "\n"
   ]
  },
  {
   "cell_type": "markdown",
   "id": "f40263db",
   "metadata": {},
   "source": [
    "## نتيجة:\n",
    "\n",
    "\"من خلال تحليل بيانات الأفلام التي تحتوي على عدة أجزاء، نلاحظ أن مجموع الأرباح الصافية للأجزاء التي تلي الجزء الأول (الأجزاء الثانية وما بعدها) يفوق مجموع أرباح الأجزاء الأولى. هذا يشير إلى أن الأجزاء التالية للسلاسل غالبًا ما تحقق أداءً ماليًا أفضل، ربما بسبب نجاح الجزء الأول الذي يشجع الجمهور على مشاهدة الأجزاء اللاحقة، أو بسبب تحسن في الإنتاج أو تسويق السلسلة.\""
   ]
  },
  {
   "cell_type": "code",
   "execution_count": 40,
   "id": "87f1ffde",
   "metadata": {},
   "outputs": [
    {
     "data": {
      "image/png": "[encoded data removed]",
      "text/plain": [
       "<Figure size 640x480 with 1 Axes>"
      ]
     },
     "metadata": {},
     "output_type": "display_data"
    }
   ],
   "source": [
    "\n",
    "first_release = df_sorted.groupby('title')['release_year'].min().reset_index()\n",
    "first_release = first_release.rename(columns={'release_year': 'first_year'})\n",
    "\n",
    "df_merged = pd.merge(df_sorted, first_release, on='title')\n",
    "\n",
    "df_merged['part_type'] = df_merged.apply(lambda row: 'first_part' if row['release_year'] == row['first_year'] else 'later_parts', axis=1)\n",
    "\n",
    "\n",
    "multi_parts_titles = parts_with_multiple_years['title'].tolist()\n",
    "df_multi = df_merged[df_merged['title'].isin(multi_parts_titles)]\n",
    "\n",
    "profit_summary = df_multi.groupby('part_type')['profit'].sum().reset_index()\n",
    "\n",
    "plt.bar(profit_summary['part_type'], profit_summary['profit'], color=['blue', 'orange'])\n",
    "plt.title('Comparison of Total Net Profit\\nBetween First Parts and Later Parts')\n",
    "plt.xlabel('Part Type')\n",
    "plt.ylabel('Total Net Profit')\n",
    "plt.show()\n"
   ]
  },
  {
   "cell_type": "markdown",
   "id": "39edd986",
   "metadata": {},
   "source": [
    "## im ML : بدي جرب ل 2"
   ]
  },
  {
   "cell_type": "code",
   "execution_count": 41,
   "id": "4ae643ee",
   "metadata": {},
   "outputs": [
    {
     "data": {
      "text/plain": [
       "45212"
      ]
     },
     "execution_count": 41,
     "metadata": {},
     "output_type": "execute_result"
    }
   ],
   "source": [
    "# هي داتا نهائية بس مع كل انواع الافلام\n",
    "len(english_movies)"
   ]
  },
  {
   "cell_type": "code",
   "execution_count": 42,
   "id": "aa45a349",
   "metadata": {},
   "outputs": [
    {
     "data": {
      "text/plain": [
       "41399"
      ]
     },
     "execution_count": 42,
     "metadata": {},
     "output_type": "execute_result"
    }
   ],
   "source": [
    "#هي داتا مافيا انواع  يلي اقل من 2 فيلم لكل نوع \n",
    "len(english_movies2)"
   ]
  },
  {
   "cell_type": "code",
   "execution_count": 53,
   "id": "a01b1d69",
   "metadata": {},
   "outputs": [
    {
     "data": {
      "text/plain": [
       "Index(['id', 'title', 'genres', 'original_language', 'overview', 'popularity',\n",
       "       'production_companies', 'release_date', 'budget', 'revenue', 'runtime',\n",
       "       'status', 'tagline', 'vote_average', 'vote_count', 'credits', 'profit',\n",
       "       'release_year', 'release_month', 'release_day', 'unique_actors_count',\n",
       "       'tagline_sentiment'],\n",
       "      dtype='object')"
      ]
     },
     "execution_count": 53,
     "metadata": {},
     "output_type": "execute_result"
    }
   ],
   "source": [
    "english_movies.columns"
   ]
  }
 ],
 "metadata": {
  "kernelspec": {
   "display_name": "Python 3",
   "language": "python",
   "name": "python3"
  },
  "language_info": {
   "codemirror_mode": {
    "name": "ipython",
    "version": 3
   },
   "file_extension": ".py",
   "mimetype": "text/x-python",
   "name": "python",
   "nbconvert_exporter": "python",
   "pygments_lexer": "ipython3",
   "version": "3.11.2"
  }
 },
 "nbformat": 4,
 "nbformat_minor": 5
}
