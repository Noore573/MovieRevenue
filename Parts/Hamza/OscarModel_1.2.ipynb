{
  "cells": [
    {
      "cell_type": "code",
      "execution_count": 1,
      "id": "rE_AxeTx2iPm",
      "metadata": {
        "colab": {
          "base_uri": "https://localhost:8080/"
        },
        "id": "rE_AxeTx2iPm",
        "outputId": "9e5e6d25-41a8-4f5f-b92c-1837f3af5987"
      },
      "outputs": [
        {
          "name": "stdout",
          "output_type": "stream",
          "text": [
            "Drive already mounted at /content/drive; to attempt to forcibly remount, call drive.mount(\"/content/drive\", force_remount=True).\n"
          ]
        }
      ],
      "source": [
        "from google.colab import drive\n",
        "drive.mount('/content/drive')"
      ]
    },
    {
      "cell_type": "markdown",
      "id": "a9644a95",
      "metadata": {
        "id": "a9644a95"
      },
      "source": [
        "# تصنيف أفلام الأوسكار\n",
        "نهدف لبناء نموذج تصنيف ثنائي للتنبؤ بما إذا كان الفيلم سيُرشح لجائزة الأوسكار أو سيفوز بها، وذلك بالاعتماد على ميزات غير مالية. يتضمن المشروع مراحل معالجة البيانات الأولية، وهندسة الميزات، وتدريب النموذج (باستخدام SMOTE)، بالإضافة إلى التقييم والمقارنة."
      ]
    },
    {
      "cell_type": "markdown",
      "id": "a03dc801",
      "metadata": {
        "id": "a03dc801"
      },
      "source": [
        "# التنبؤ بترشيحات الأوسكار باستخدام التعلم الآلي\n",
        "بناء نموذج تنبؤي لحالة ترشح الفيلم لجائزة الأوسكار أو فوزه بها، وذلك بالاعتماد على البيانات الوصفية المهيكلة للأفلام.\n",
        "\n",
        "سوف نستكشف ثلاثة نماذج: CatBoost، وXGBoost، وLightGBM. ستتم مقارنة جميع النماذج بناءً على الدقة (Precision) والاستدعاء (Recall) ومقياس F1 ومنحنى ROC-AUC عبر عتبات مختلفة."
      ]
    },
    {
      "cell_type": "markdown",
      "id": "c3fca920",
      "metadata": {},
      "source": [
        "مكاتب"
      ]
    },
    {
      "cell_type": "code",
      "execution_count": null,
      "id": "f15134a9",
      "metadata": {},
      "outputs": [],
      "source": [
        "!pip install catboost\n",
        "!pip install xgboost\n",
        "!pip install lightgbm\n",
        "\n",
        "import lightgbm as lgb\n",
        "import xgboost as xgb\n",
        "from google.colab import files\n",
        "import pandas as pd\n",
        "from sklearn.preprocessing import MultiLabelBinarizer\n",
        "from sklearn.metrics import precision_score, recall_score, f1_score, classification_report, roc_auc_score\n",
        "from catboost import CatBoostClassifier\n",
        "from sklearn.linear_model import LogisticRegression\n",
        "from sklearn.ensemble import RandomForestClassifier\n",
        "from imblearn.over_sampling import SMOTE\n",
        "from xgboost import XGBClassifier\n",
        "from lightgbm.sklearn import LGBMClassifier\n",
        "\n",
        "\n",
        "\n",
        "\n"
      ]
    },
    {
      "cell_type": "markdown",
      "id": "4b69ccc2",
      "metadata": {
        "id": "4b69ccc2"
      },
      "source": [
        "# تحميل البيانات"
      ]
    },
    {
      "cell_type": "code",
      "execution_count": null,
      "id": "65f57ea1",
      "metadata": {
        "colab": {
          "base_uri": "https://localhost:8080/"
        },
        "id": "65f57ea1",
        "outputId": "0b1501ee-12e9-41a9-c06a-1ed3839254d3"
      },
      "outputs": [
        {
          "name": "stdout",
          "output_type": "stream",
          "text": [
            "✅ Data loaded: (37093, 44)\n"
          ]
        }
      ],
      "source": [
        "# uploaded = files.upload()\n",
        "# for filename in uploaded.keys():\n",
        "filename= \"/content/drive/MyDrive/lNH_data.csv\"\n",
        "df = pd.read_csv(filename)\n",
        "print(\"✅ Data loaded:\", df.shape)\n"
      ]
    },
    {
      "cell_type": "markdown",
      "id": "074371ee",
      "metadata": {
        "id": "074371ee"
      },
      "source": [
        "# معالجة مسبقة للبيانات"
      ]
    },
    {
      "cell_type": "code",
      "execution_count": null,
      "id": "d3b1f47c",
      "metadata": {
        "colab": {
          "base_uri": "https://localhost:8080/"
        },
        "id": "d3b1f47c",
        "outputId": "3b27d8dc-24be-41d5-c8ca-ae3909cf01e6"
      },
      "outputs": [
        {
          "name": "stderr",
          "output_type": "stream",
          "text": [
            "/tmp/ipython-input-3-1408284171.py:5: FutureWarning: A value is trying to be set on a copy of a DataFrame or Series through chained assignment using an inplace method.\n",
            "The behavior will change in pandas 3.0. This inplace method will never work because the intermediate object on which we are setting values always behaves as a copy.\n",
            "\n",
            "For example, when doing 'df[col].method(value, inplace=True)', try using 'df.method({col: value}, inplace=True)' or df[col] = df[col].method(value) instead, to perform the operation inplace on the original object.\n",
            "\n",
            "\n",
            "  df['actors_avg_rating'].fillna(df['actors_avg_rating'].mean(), inplace=True)\n",
            "/tmp/ipython-input-3-1408284171.py:6: FutureWarning: A value is trying to be set on a copy of a DataFrame or Series through chained assignment using an inplace method.\n",
            "The behavior will change in pandas 3.0. This inplace method will never work because the intermediate object on which we are setting values always behaves as a copy.\n",
            "\n",
            "For example, when doing 'df[col].method(value, inplace=True)', try using 'df.method({col: value}, inplace=True)' or df[col] = df[col].method(value) instead, to perform the operation inplace on the original object.\n",
            "\n",
            "\n",
            "  df['actors_bayesian_rating'].fillna(df['actors_bayesian_rating'].mean(), inplace=True)\n"
          ]
        }
      ],
      "source": [
        "# التحويل لقيم ثنائية \n",
        "df['movie_oscar'] = df['movie_oscar'].apply(lambda x: 1 if x > 0 else 0)\n",
        "\n",
        "# ملئ القيم الفارغة بالمتوسط\n",
        "df['actors_avg_rating'].fillna(df['actors_avg_rating'].mean(), inplace=True)\n",
        "df['actors_bayesian_rating'].fillna(df['actors_bayesian_rating'].mean(), inplace=True)\n",
        "\n",
        "# الترميز Encode\n",
        "df = pd.get_dummies(df, columns=['original_language'], drop_first=True)\n",
        "\n",
        "# الترميز عبر MultiLabelBinarizer\n",
        "\n",
        "\n",
        "genres_split = df['genres_x'].str.split(', ')\n",
        "mlb = MultiLabelBinarizer()\n",
        "genres_encoded = mlb.fit_transform(genres_split)\n",
        "genres_df = pd.DataFrame(genres_encoded, columns=mlb.classes_)\n",
        "df = pd.concat([df, genres_df], axis=1)\n",
        "\n",
        "# اختيار السمات\n",
        "feature_cols = [\n",
        "    'popularity', 'vote_average', 'vote_count', 'release_year', 'release_month',\n",
        "    'runtime', 'company_oscars', 'has_superstar_actor',\n",
        "    'actors_avg_rating', 'actors_bayesian_rating', 'movie_credits_oscar'\n",
        "] + list(genres_df.columns) + [col for col in df.columns if col.startswith(\"original_language_\")]\n",
        "\n",
        "X = df[feature_cols]\n",
        "y = df['movie_oscar']\n"
      ]
    },
    {
      "cell_type": "markdown",
      "id": "26aed538",
      "metadata": {
        "id": "26aed538"
      },
      "source": [
        "# Train-Test Split\n"
      ]
    },
    {
      "cell_type": "code",
      "execution_count": null,
      "id": "f5d72fe7",
      "metadata": {
        "id": "f5d72fe7"
      },
      "outputs": [],
      "source": [
        "X_train, X_test, y_train, y_test = train_test_split(X, y, stratify=y, test_size=0.2, random_state=42)\n"
      ]
    },
    {
      "cell_type": "markdown",
      "id": "d26ae470",
      "metadata": {
        "id": "d26ae470"
      },
      "source": [
        "# تعريف توابع التقييم"
      ]
    },
    {
      "cell_type": "markdown",
      "id": "5e7b3659",
      "metadata": {
        "id": "5e7b3659"
      },
      "source": [
        "## هندسة السمات\n",
        "\n",
        "- **release_season**: Categorical feature based on the release month (e.g., Summer, Fall)\n",
        "- **actor_oscar_ratio**: Ratio of Oscar-winning cast/crew to total credits (proxy for quality)\n"
      ]
    },
    {
      "cell_type": "code",
      "execution_count": null,
      "id": "ff028520",
      "metadata": {
        "id": "ff028520"
      },
      "outputs": [],
      "source": [
        "# تابع اسناد الموسم حسب الشهر\n",
        "def get_season(month):\n",
        "    if month in [12, 1, 2]:\n",
        "        return 'Winter'\n",
        "    elif month in [3, 4, 5]:\n",
        "        return 'Spring'\n",
        "    elif month in [6, 7, 8]:\n",
        "        return 'Summer'\n",
        "    else:\n",
        "        return 'Fall'\n",
        "\n",
        "df['release_season'] = df['release_month'].apply(get_season)\n",
        "\n",
        "# نسبة الممثلين الفائزين بالاوسكار\n",
        "df['actor_oscar_ratio'] = df['movie_credits_oscar'] / df['unique_actors_count'].replace(0, 1)\n",
        "\n",
        "# one-hot encoding \n",
        "df = pd.get_dummies(df, columns=['release_season'], drop_first=True)\n"
      ]
    },
    {
      "cell_type": "code",
      "execution_count": null,
      "id": "674371c3",
      "metadata": {
        "id": "674371c3"
      },
      "outputs": [],
      "source": [
        "\n",
        "def evaluate_model(name, y_true, y_prob, thresholds=[0.5, 0.6, 0.7]):\n",
        "    print(f\"\\n📈 {name} Performance Summary:\")\n",
        "    results = {}\n",
        "    results['ROC-AUC'] = roc_auc_score(y_true, y_prob)\n",
        "    print(\"ROC-AUC:\", results['ROC-AUC'])\n",
        "\n",
        "    for t in thresholds:\n",
        "        y_pred_t = (y_prob > t).astype(int)\n",
        "        p = precision_score(y_true, y_pred_t)\n",
        "        r = recall_score(y_true, y_pred_t)\n",
        "        f = f1_score(y_true, y_pred_t)\n",
        "        print(f\"Threshold {t:.1f} -> Precision: {p:.3f}, Recall: {r:.3f}, F1: {f:.3f}\")\n",
        "        results[f'Precision@{t:.1f}'] = p\n",
        "        results[f'Recall@{t:.1f}'] = r\n",
        "        results[f'F1@{t:.1f}'] = f\n",
        "    return results"
      ]
    },
    {
      "cell_type": "markdown",
      "id": "54e66d64",
      "metadata": {
        "id": "54e66d64"
      },
      "source": [
        "##  CatBoost Model\n"
      ]
    },
    {
      "cell_type": "code",
      "execution_count": null,
      "id": "55567675",
      "metadata": {
        "colab": {
          "base_uri": "https://localhost:8080/"
        },
        "id": "55567675",
        "outputId": "4b9fd8e9-e585-4b1f-ff39-be13721db7e9"
      },
      "outputs": [
        {
          "name": "stdout",
          "output_type": "stream",
          "text": [
            "Requirement already satisfied: catboost in /usr/local/lib/python3.11/dist-packages (1.2.8)\n",
            "Requirement already satisfied: graphviz in /usr/local/lib/python3.11/dist-packages (from catboost) (0.21)\n",
            "Requirement already satisfied: matplotlib in /usr/local/lib/python3.11/dist-packages (from catboost) (3.10.0)\n",
            "Requirement already satisfied: numpy<3.0,>=1.16.0 in /usr/local/lib/python3.11/dist-packages (from catboost) (2.0.2)\n",
            "Requirement already satisfied: pandas>=0.24 in /usr/local/lib/python3.11/dist-packages (from catboost) (2.2.2)\n",
            "Requirement already satisfied: scipy in /usr/local/lib/python3.11/dist-packages (from catboost) (1.15.3)\n",
            "Requirement already satisfied: plotly in /usr/local/lib/python3.11/dist-packages (from catboost) (5.24.1)\n",
            "Requirement already satisfied: six in /usr/local/lib/python3.11/dist-packages (from catboost) (1.17.0)\n",
            "Requirement already satisfied: python-dateutil>=2.8.2 in /usr/local/lib/python3.11/dist-packages (from pandas>=0.24->catboost) (2.9.0.post0)\n",
            "Requirement already satisfied: pytz>=2020.1 in /usr/local/lib/python3.11/dist-packages (from pandas>=0.24->catboost) (2025.2)\n",
            "Requirement already satisfied: tzdata>=2022.7 in /usr/local/lib/python3.11/dist-packages (from pandas>=0.24->catboost) (2025.2)\n",
            "Requirement already satisfied: contourpy>=1.0.1 in /usr/local/lib/python3.11/dist-packages (from matplotlib->catboost) (1.3.2)\n",
            "Requirement already satisfied: cycler>=0.10 in /usr/local/lib/python3.11/dist-packages (from matplotlib->catboost) (0.12.1)\n",
            "Requirement already satisfied: fonttools>=4.22.0 in /usr/local/lib/python3.11/dist-packages (from matplotlib->catboost) (4.58.5)\n",
            "Requirement already satisfied: kiwisolver>=1.3.1 in /usr/local/lib/python3.11/dist-packages (from matplotlib->catboost) (1.4.8)\n",
            "Requirement already satisfied: packaging>=20.0 in /usr/local/lib/python3.11/dist-packages (from matplotlib->catboost) (24.2)\n",
            "Requirement already satisfied: pillow>=8 in /usr/local/lib/python3.11/dist-packages (from matplotlib->catboost) (11.2.1)\n",
            "Requirement already satisfied: pyparsing>=2.3.1 in /usr/local/lib/python3.11/dist-packages (from matplotlib->catboost) (3.2.3)\n",
            "Requirement already satisfied: tenacity>=6.2.0 in /usr/local/lib/python3.11/dist-packages (from plotly->catboost) (8.5.0)\n",
            "\n",
            "📈 CatBoost Performance Summary:\n",
            "ROC-AUC: 0.9776660143421245\n",
            "Threshold 0.5 -> Precision: 0.529, Recall: 0.908, F1: 0.669\n",
            "Threshold 0.6 -> Precision: 0.573, Recall: 0.875, F1: 0.693\n",
            "Threshold 0.7 -> Precision: 0.617, Recall: 0.836, F1: 0.710\n"
          ]
        }
      ],
      "source": [
        "\n",
        "\n",
        "cat_model = CatBoostClassifier(verbose=0, class_weights=[1, 10])\n",
        "cat_model.fit(X_train, y_train)\n",
        "\n",
        "cat_prob = cat_model.predict_proba(X_test)[:, 1]\n",
        "model_results = {}\n",
        "model_results[\"CatBoost\"] = evaluate_model(\"CatBoost\", y_test, cat_prob)"
      ]
    },
    {
      "cell_type": "markdown",
      "id": "99252494",
      "metadata": {
        "id": "99252494"
      },
      "source": [
        "##  XGBoost Model"
      ]
    },
    {
      "cell_type": "code",
      "execution_count": null,
      "id": "1813d57c",
      "metadata": {
        "colab": {
          "base_uri": "https://localhost:8080/"
        },
        "id": "1813d57c",
        "outputId": "693d41e4-ec1e-4e48-d66b-514e1c623b90"
      },
      "outputs": [
        {
          "name": "stdout",
          "output_type": "stream",
          "text": [
            "Requirement already satisfied: xgboost in /usr/local/lib/python3.11/dist-packages (2.1.4)\n",
            "Requirement already satisfied: numpy in /usr/local/lib/python3.11/dist-packages (from xgboost) (2.0.2)\n",
            "Requirement already satisfied: nvidia-nccl-cu12 in /usr/local/lib/python3.11/dist-packages (from xgboost) (2.21.5)\n",
            "Requirement already satisfied: scipy in /usr/local/lib/python3.11/dist-packages (from xgboost) (1.15.3)\n",
            "\n",
            "📈 XGBoost Performance Summary:\n",
            "ROC-AUC: 0.9771091558546933\n",
            "Threshold 0.5 -> Precision: 0.558, Recall: 0.882, F1: 0.683\n",
            "Threshold 0.6 -> Precision: 0.604, Recall: 0.847, F1: 0.705\n",
            "Threshold 0.7 -> Precision: 0.647, Recall: 0.816, F1: 0.721\n"
          ]
        }
      ],
      "source": [
        "scale_weight = (y_train == 0).sum() / (y_train == 1).sum()\n",
        "xgb_model = xgb.XGBClassifier(scale_pos_weight=scale_weight, use_label_encoder=False, eval_metric='logloss', random_state=42)\n",
        "xgb_model.fit(X_train, y_train)\n",
        "\n",
        "xgb_prob = xgb_model.predict_proba(X_test)[:, 1]\n",
        "model_results[\"XGBoost\"] = evaluate_model(\"XGBoost\", y_test, xgb_prob)"
      ]
    },
    {
      "cell_type": "markdown",
      "id": "64ad46f6",
      "metadata": {
        "id": "64ad46f6"
      },
      "source": [
        "## LightGBM Model"
      ]
    },
    {
      "cell_type": "code",
      "execution_count": null,
      "id": "5e073537",
      "metadata": {
        "colab": {
          "base_uri": "https://localhost:8080/"
        },
        "id": "5e073537",
        "outputId": "31d5ef7d-dc42-4aa6-fb3a-991aec292f8a"
      },
      "outputs": [
        {
          "name": "stdout",
          "output_type": "stream",
          "text": [
            "Requirement already satisfied: lightgbm in /usr/local/lib/python3.11/dist-packages (4.5.0)\n",
            "Requirement already satisfied: numpy>=1.17.0 in /usr/local/lib/python3.11/dist-packages (from lightgbm) (2.0.2)\n",
            "Requirement already satisfied: scipy in /usr/local/lib/python3.11/dist-packages (from lightgbm) (1.15.3)\n",
            "\n",
            "📈 LightGBM Performance Summary:\n",
            "ROC-AUC: 0.9773124840621596\n",
            "Threshold 0.5 -> Precision: 0.552, Recall: 0.893, F1: 0.682\n",
            "Threshold 0.6 -> Precision: 0.586, Recall: 0.860, F1: 0.697\n",
            "Threshold 0.7 -> Precision: 0.627, Recall: 0.822, F1: 0.711\n"
          ]
        }
      ],
      "source": [
        "\n",
        "\n",
        "train_set = lgb.Dataset(X_train, label=y_train)\n",
        "valid_set = lgb.Dataset(X_test, label=y_test, reference=train_set)\n",
        "\n",
        "params = {\n",
        "    'objective': 'binary',\n",
        "    'metric': 'binary_logloss',\n",
        "    'boosting_type': 'gbdt',\n",
        "    # 'is_unbalance': True, # Removed this parameter\n",
        "    'scale_pos_weight': scale_weight,\n",
        "    'verbosity': -1,\n",
        "    'seed': 42\n",
        "}\n",
        "\n",
        "lgb_model = lgb.train(params, train_set, valid_sets=[valid_set], num_boost_round=100)\n",
        "\n",
        "lgb_prob = lgb_model.predict(X_test)\n",
        "model_results[\"LightGBM\"] = evaluate_model(\"LightGBM\", y_test, lgb_prob)"
      ]
    },
    {
      "cell_type": "markdown",
      "id": "46c51c9a",
      "metadata": {
        "id": "46c51c9a"
      },
      "source": [
        "## التجميع الطبقي (Stacking Ensemble)\n",
        "سنقوم الآن بدمج نماذج CatBoost و XGBoost و LightGBM باستخدام نموذج ميتا (الانحدار اللوجستي) لإنشاء تجميع طبقي. قد يؤدي ذلك إلى تحسين دقة التنبؤ الإجمالية من خلال الاستفادة من نقاط قوة كل نموذج أساسي.\n"
      ]
    },
    {
      "cell_type": "code",
      "execution_count": null,
      "id": "52868693",
      "metadata": {
        "colab": {
          "base_uri": "https://localhost:8080/"
        },
        "id": "52868693",
        "outputId": "b20e699c-9f3e-48d5-987a-513dc4c9052c"
      },
      "outputs": [
        {
          "name": "stdout",
          "output_type": "stream",
          "text": [
            "\n",
            "📈 Stacking Ensemble Performance Summary:\n",
            "ROC-AUC: 0.9714575010238856\n",
            "Threshold 0.5 -> Precision: 0.630, Recall: 0.826, F1: 0.715\n",
            "Threshold 0.6 -> Precision: 0.643, Recall: 0.816, F1: 0.719\n",
            "Threshold 0.7 -> Precision: 0.652, Recall: 0.796, F1: 0.717\n"
          ]
        }
      ],
      "source": [
        "\n",
        "# توليد توقعات النموذج الأساسي على بيانات التدريب\n",
        "cat_train_prob = cat_model.predict_proba(X_train)[:, 1]\n",
        "xgb_train_prob = xgb_model.predict_proba(X_train)[:, 1]\n",
        "lgb_train_prob = lgb_model.predict(X_train)\n",
        "\n",
        "# دمج التوقعات الى سمات-ميتا \n",
        "stacked_train = pd.DataFrame({\n",
        "    \"catboost\": cat_train_prob,\n",
        "    \"xgboost\": xgb_train_prob,\n",
        "    \"lightgbm\": lgb_train_prob\n",
        "})\n",
        "\n",
        "# Logistic regression\n",
        "meta_model = LogisticRegression(max_iter=1000, class_weight='balanced')\n",
        "meta_model.fit(stacked_train, y_train)\n",
        "\n",
        "# Generate base model predictions on test data\n",
        "cat_test_prob = cat_model.predict_proba(X_test)[:, 1]\n",
        "xgb_test_prob = xgb_model.predict_proba(X_test)[:, 1]\n",
        "lgb_test_prob = lgb_model.predict(X_test)\n",
        "\n",
        "stacked_test = pd.DataFrame({\n",
        "    \"catboost\": cat_test_prob,\n",
        "    \"xgboost\": xgb_test_prob,\n",
        "    \"lightgbm\": lgb_test_prob\n",
        "})\n",
        "\n",
        "# النتائج و التقييم\n",
        "stacked_prob = meta_model.predict_proba(stacked_test)[:, 1]\n",
        "\n",
        "model_results[\"Stacking Ensemble\"] = evaluate_model(\"Stacking Ensemble\", y_test, stacked_prob)"
      ]
    },
    {
      "cell_type": "markdown",
      "id": "d922871f",
      "metadata": {
        "id": "d922871f"
      },
      "source": [
        "## Random Forest Classifier\n",
        "\n"
      ]
    },
    {
      "cell_type": "code",
      "execution_count": null,
      "id": "62a440dd",
      "metadata": {
        "colab": {
          "base_uri": "https://localhost:8080/"
        },
        "id": "62a440dd",
        "outputId": "bda0c17a-7644-4cab-8be2-2a324f293d7d"
      },
      "outputs": [
        {
          "name": "stdout",
          "output_type": "stream",
          "text": [
            "\n",
            "📈 Random Forest Performance Summary:\n",
            "ROC-AUC: 0.9711492486998585\n",
            "Threshold 0.5 -> Precision: 0.867, Recall: 0.495, F1: 0.630\n",
            "Threshold 0.6 -> Precision: 0.922, Recall: 0.408, F1: 0.566\n",
            "Threshold 0.7 -> Precision: 0.970, Recall: 0.314, F1: 0.475\n"
          ]
        }
      ],
      "source": [
        "\n",
        "rf_model = RandomForestClassifier(class_weight='balanced', random_state=42)\n",
        "rf_model.fit(X_train, y_train)\n",
        "\n",
        "rf_prob = rf_model.predict_proba(X_test)[:, 1]\n",
        "model_results[\"Random Forest\"] = evaluate_model(\"Random Forest\", y_test, rf_prob)"
      ]
    },
    {
      "cell_type": "markdown",
      "id": "75800460",
      "metadata": {
        "id": "75800460"
      },
      "source": [
        "## Logistic Regression\n",
        "\n"
      ]
    },
    {
      "cell_type": "code",
      "execution_count": null,
      "id": "b0fb1615",
      "metadata": {
        "colab": {
          "base_uri": "https://localhost:8080/"
        },
        "id": "b0fb1615",
        "outputId": "c16a0b8d-77ca-4175-9b17-c7b1ff1ba082"
      },
      "outputs": [
        {
          "name": "stdout",
          "output_type": "stream",
          "text": [
            "\n",
            "📈 Logistic Regression Performance Summary:\n",
            "ROC-AUC: 0.838349003933266\n",
            "Threshold 0.5 -> Precision: 0.232, Recall: 0.783, F1: 0.358\n",
            "Threshold 0.6 -> Precision: 0.284, Recall: 0.706, F1: 0.405\n",
            "Threshold 0.7 -> Precision: 0.360, Recall: 0.569, F1: 0.441\n"
          ]
        }
      ],
      "source": [
        "\n",
        "lr_model = LogisticRegression(class_weight='balanced', max_iter=1000)\n",
        "lr_model.fit(X_train, y_train)\n",
        "\n",
        "lr_prob = lr_model.predict_proba(X_test)[:, 1]\n",
        "model_results[\"Logistic Regression\"] = evaluate_model(\"Logistic Regression\", y_test, lr_prob)"
      ]
    },
    {
      "cell_type": "markdown",
      "id": "acb1b7fc",
      "metadata": {
        "id": "acb1b7fc"
      },
      "source": [
        "## تطبيق SMOTE لجميع النماذج\n",
        "لتحسين الأداء على الفئة الأقلية، نطبق تقنية SMOTE (تقنية زيادة العينات الاصطناعية للأقلية) لموازنة مجموعة البيانات قبل تدريب جميع النماذج.\n"
      ]
    },
    {
      "cell_type": "code",
      "execution_count": null,
      "id": "adcec5e0",
      "metadata": {
        "colab": {
          "base_uri": "https://localhost:8080/"
        },
        "id": "adcec5e0",
        "outputId": "896689ab-0835-4b1b-fb84-92d07a73d4cf"
      },
      "outputs": [
        {
          "name": "stdout",
          "output_type": "stream",
          "text": [
            "Original training samples: 29674\n",
            "Balanced training samples: 54486\n"
          ]
        }
      ],
      "source": [
        "\n",
        "# تطبيق عللا بيانات التدريب\n",
        "smote = SMOTE(random_state=42)\n",
        "X_train_bal, y_train_bal = smote.fit_resample(X_train, y_train)\n",
        "\n",
        "print(f\"Original training samples: {len(X_train)}\")\n",
        "print(f\"Balanced training samples: {len(X_train_bal)}\")\n"
      ]
    },
    {
      "cell_type": "markdown",
      "id": "6e0cef26",
      "metadata": {},
      "source": [
        "## اعادة التدريب على بيانات متوازنة"
      ]
    },
    {
      "cell_type": "markdown",
      "id": "d577ccb4",
      "metadata": {
        "id": "d577ccb4"
      },
      "source": [
        "## **CatBoost**"
      ]
    },
    {
      "cell_type": "code",
      "execution_count": 32,
      "id": "9e8955ea",
      "metadata": {
        "colab": {
          "base_uri": "https://localhost:8080/"
        },
        "id": "9e8955ea",
        "outputId": "95594637-89a2-4261-f0a0-e8ac091e0793"
      },
      "outputs": [
        {
          "name": "stdout",
          "output_type": "stream",
          "text": [
            "\n",
            "📈 CatBoost (SMOTE) Performance Summary:\n",
            "ROC-AUC: 0.9724041121560324\n",
            "Threshold 0.5 -> Precision: 0.418, Recall: 0.962, F1: 0.583\n",
            "Threshold 0.6 -> Precision: 0.444, Recall: 0.959, F1: 0.607\n",
            "Threshold 0.7 -> Precision: 0.464, Recall: 0.919, F1: 0.617\n"
          ]
        }
      ],
      "source": [
        "cat_model = CatBoostClassifier(verbose=0, class_weights=[1, 10])\n",
        "cat_model.fit(X_train_bal, y_train_bal)\n",
        "cat_prob = cat_model.predict_proba(X_test)[:, 1]\n",
        "model_results[\"CatBoost (SMOTE)\"] = evaluate_model(\"CatBoost (SMOTE)\", y_test, cat_prob)"
      ]
    },
    {
      "cell_type": "markdown",
      "id": "34e16092",
      "metadata": {
        "id": "34e16092"
      },
      "source": [
        "### **XGBoost** "
      ]
    },
    {
      "cell_type": "code",
      "execution_count": null,
      "id": "e859d4a5",
      "metadata": {
        "colab": {
          "base_uri": "https://localhost:8080/"
        },
        "id": "e859d4a5",
        "outputId": "8d9edb7b-1f15-4a0e-c51d-dc4fee62a37a"
      },
      "outputs": [
        {
          "name": "stdout",
          "output_type": "stream",
          "text": [
            "\n",
            "📈 XGBoost (SMOTE) Performance Summary:\n",
            "ROC-AUC: 0.9704106746825956\n",
            "Threshold 0.5 -> Precision: 0.574, Recall: 0.793, F1: 0.666\n",
            "Threshold 0.6 -> Precision: 0.628, Recall: 0.743, F1: 0.681\n",
            "Threshold 0.7 -> Precision: 0.659, Recall: 0.689, F1: 0.674\n"
          ]
        }
      ],
      "source": [
        "\n",
        "xgb_model = XGBClassifier(use_label_encoder=False, eval_metric='logloss', random_state=42)\n",
        "xgb_model.fit(X_train_bal, y_train_bal)\n",
        "xgb_prob = xgb_model.predict_proba(X_test)[:, 1]\n",
        "model_results[\"XGBoost (SMOTE)\"] = evaluate_model(\"XGBoost (SMOTE)\", y_test, xgb_prob)"
      ]
    },
    {
      "cell_type": "markdown",
      "id": "518ae092",
      "metadata": {
        "id": "518ae092"
      },
      "source": [
        "### **LightGBM** "
      ]
    },
    {
      "cell_type": "code",
      "execution_count": null,
      "id": "2b4900a3",
      "metadata": {
        "colab": {
          "base_uri": "https://localhost:8080/"
        },
        "id": "2b4900a3",
        "outputId": "51a5676d-b2db-415a-c7dd-7f1ada2c1bff"
      },
      "outputs": [
        {
          "name": "stdout",
          "output_type": "stream",
          "text": [
            "\n",
            "📈 LightGBM (SMOTE) Performance Summary:\n",
            "ROC-AUC: 0.9726250685810105\n",
            "Threshold 0.5 -> Precision: 0.596, Recall: 0.785, F1: 0.677\n",
            "Threshold 0.6 -> Precision: 0.631, Recall: 0.727, F1: 0.676\n",
            "Threshold 0.7 -> Precision: 0.692, Recall: 0.671, F1: 0.681\n"
          ]
        }
      ],
      "source": [
        "\n",
        "lgb_model = LGBMClassifier(objective='binary', metric='binary_logloss', boosting_type='gbdt', verbosity=-1, seed=42)\n",
        "lgb_model.fit(X_train_bal, y_train_bal)\n",
        "lgb_prob = lgb_model.predict_proba(X_test)[:, 1]\n",
        "model_results[\"LightGBM (SMOTE)\"] = evaluate_model(\"LightGBM (SMOTE)\", y_test, lgb_prob)"
      ]
    },
    {
      "cell_type": "markdown",
      "id": "15932900",
      "metadata": {
        "id": "15932900"
      },
      "source": [
        "###  **Random Forest**"
      ]
    },
    {
      "cell_type": "code",
      "execution_count": 35,
      "id": "b430d5a5",
      "metadata": {
        "colab": {
          "base_uri": "https://localhost:8080/"
        },
        "id": "b430d5a5",
        "outputId": "1bf8db23-fe32-469d-cf6f-c598627226a6"
      },
      "outputs": [
        {
          "name": "stdout",
          "output_type": "stream",
          "text": [
            "\n",
            "📈 Random Forest (SMOTE) Performance Summary:\n",
            "ROC-AUC: 0.9657922024356884\n",
            "Threshold 0.5 -> Precision: 0.594, Recall: 0.730, F1: 0.655\n",
            "Threshold 0.6 -> Precision: 0.665, Recall: 0.633, F1: 0.649\n",
            "Threshold 0.7 -> Precision: 0.753, Recall: 0.512, F1: 0.609\n"
          ]
        }
      ],
      "source": [
        "rf_model = RandomForestClassifier(class_weight='balanced', random_state=42)\n",
        "rf_model.fit(X_train_bal, y_train_bal)\n",
        "rf_prob = rf_model.predict_proba(X_test)[:, 1]\n",
        "model_results[\"Random Forest (SMOTE)\"] = evaluate_model(\"Random Forest (SMOTE)\", y_test, rf_prob)"
      ]
    },
    {
      "cell_type": "markdown",
      "id": "a94c868f",
      "metadata": {
        "id": "a94c868f"
      },
      "source": [
        "### **Logistic Regression**"
      ]
    },
    {
      "cell_type": "code",
      "execution_count": 36,
      "id": "3cac737c",
      "metadata": {
        "colab": {
          "base_uri": "https://localhost:8080/"
        },
        "id": "3cac737c",
        "outputId": "fa5f3b00-0792-4962-b7b9-db364a750847"
      },
      "outputs": [
        {
          "name": "stdout",
          "output_type": "stream",
          "text": [
            "\n",
            "📈 Logistic Regression (SMOTE) Performance Summary:\n",
            "ROC-AUC: 0.7828614122665347\n",
            "Threshold 0.5 -> Precision: 0.219, Recall: 0.664, F1: 0.329\n",
            "Threshold 0.6 -> Precision: 0.257, Recall: 0.566, F1: 0.354\n",
            "Threshold 0.7 -> Precision: 0.293, Recall: 0.438, F1: 0.351\n"
          ]
        }
      ],
      "source": [
        "lr_model = LogisticRegression(class_weight='balanced', max_iter=1000)\n",
        "lr_model.fit(X_train_bal, y_train_bal)\n",
        "lr_prob = lr_model.predict_proba(X_test)[:, 1]\n",
        "model_results[\"Logistic Regression (SMOTE)\"] = evaluate_model(\"Logistic Regression (SMOTE)\", y_test, lr_prob)"
      ]
    },
    {
      "cell_type": "markdown",
      "id": "7dc30317",
      "metadata": {
        "id": "7dc30317"
      },
      "source": [
        "### **Stacking Ensemble**"
      ]
    },
    {
      "cell_type": "code",
      "execution_count": null,
      "id": "c1a5fc6a",
      "metadata": {
        "colab": {
          "base_uri": "https://localhost:8080/"
        },
        "id": "c1a5fc6a",
        "outputId": "d9bce1c9-0d48-4a3a-8b5e-7e9cb012cd03"
      },
      "outputs": [
        {
          "name": "stdout",
          "output_type": "stream",
          "text": [
            "\n",
            "📈 Stacking Ensemble (SMOTE) Performance Summary:\n",
            "ROC-AUC: 0.9727619891197676\n",
            "Threshold 0.5 -> Precision: 0.619, Recall: 0.755, F1: 0.681\n",
            "Threshold 0.6 -> Precision: 0.636, Recall: 0.730, F1: 0.680\n",
            "Threshold 0.7 -> Precision: 0.657, Recall: 0.711, F1: 0.682\n"
          ]
        }
      ],
      "source": [
        "cat_train_prob = cat_model.predict_proba(X_train_bal)[:, 1]\n",
        "xgb_train_prob = xgb_model.predict_proba(X_train_bal)[:, 1]\n",
        "lgb_train_prob = lgb_model.predict_proba(X_train_bal)[:, 1]\n",
        "\n",
        "stacked_train = pd.DataFrame({\n",
        "    \"catboost\": cat_train_prob,\n",
        "    \"xgboost\": xgb_train_prob,\n",
        "    \"lightgbm\": lgb_train_prob\n",
        "})\n",
        "\n",
        "meta_model = LogisticRegression(max_iter=1000, class_weight='balanced')\n",
        "meta_model.fit(stacked_train, y_train_bal)\n",
        "\n",
        "cat_test_prob = cat_model.predict_proba(X_test)[:, 1]\n",
        "xgb_test_prob = xgb_model.predict_proba(X_test)[:, 1]\n",
        "lgb_test_prob = lgb_model.predict_proba(X_test)[:, 1]\n",
        "\n",
        "stacked_test = pd.DataFrame({\n",
        "    \"catboost\": cat_test_prob,\n",
        "    \"xgboost\": xgb_test_prob,\n",
        "    \"lightgbm\": lgb_test_prob\n",
        "})\n",
        "\n",
        "stacked_prob = meta_model.predict_proba(stacked_test)[:, 1]\n",
        "model_results[\"Stacking Ensemble (SMOTE)\"] = evaluate_model(\"Stacking Ensemble (SMOTE)\", y_test, stacked_prob)"
      ]
    },
    {
      "cell_type": "markdown",
      "id": "a34dd0fd",
      "metadata": {
        "id": "a34dd0fd"
      },
      "source": [
        "## تصور مقاييس أداء النموذج\n"
      ]
    },
    {
      "cell_type": "code",
      "execution_count": null,
      "id": "27589d1f",
      "metadata": {
        "colab": {
          "base_uri": "https://localhost:8080/",
          "height": 505
        },
        "id": "27589d1f",
        "outputId": "ea9c8316-d74c-4ba7-da54-90db4e504c47"
      },
      "outputs": [
        {
          "data": {
            "text/plain": [
              "<Figure size 1200x600 with 0 Axes>"
            ]
          },
          "metadata": {},
          "output_type": "display_data"
        },
        {
          "data": {
            "image/png": "[encoded data removed]",
            "text/plain": [
              "<Figure size 640x480 with 1 Axes>"
            ]
          },
          "metadata": {},
          "output_type": "display_data"
        }
      ],
      "source": [
        "\n",
        "\n",
        "results_df = pd.DataFrame(model_results).T.sort_values(\"F1@0.7\", ascending=False)\n",
        "\n",
        "plt.figure(figsize=(12, 6))\n",
        "results_df[['Precision@0.7', 'Recall@0.7', 'F1@0.7']].plot(kind='bar', title=\"Model Performance Comparison\")\n",
        "plt.ylabel(\"Score\")\n",
        "plt.xticks(rotation=45)\n",
        "plt.grid(True)\n",
        "plt.tight_layout()\n",
        "plt.show()"
      ]
    },
    {
      "cell_type": "markdown",
      "id": "f7813930",
      "metadata": {
        "id": "f7813930"
      },
      "source": [
        "## Feature Importance from Random Forest"
      ]
    },
    {
      "cell_type": "code",
      "execution_count": 39,
      "id": "18f545ae",
      "metadata": {
        "colab": {
          "base_uri": "https://localhost:8080/",
          "height": 607
        },
        "id": "18f545ae",
        "outputId": "b3f6f7e0-b1cc-41ff-8399-149f924b12cb"
      },
      "outputs": [
        {
          "data": {
            "image/png": "[encoded data removed]",
            "text/plain": [
              "<Figure size 1000x600 with 1 Axes>"
            ]
          },
          "metadata": {},
          "output_type": "display_data"
        }
      ],
      "source": [
        "importances = rf_model.feature_importances_\n",
        "feature_names = X_train.columns\n",
        "feat_df = pd.DataFrame({'Feature': feature_names, 'Importance': importances})\n",
        "feat_df = feat_df.sort_values('Importance', ascending=False)\n",
        "\n",
        "plt.figure(figsize=(10, 6))\n",
        "sns.barplot(x='Importance', y='Feature', data=feat_df.head(15))\n",
        "plt.title(\"Top 15 Important Features\")\n",
        "plt.tight_layout()\n",
        "plt.show()\n"
      ]
    },
    {
      "cell_type": "markdown",
      "id": "40f89734",
      "metadata": {
        "id": "40f89734"
      },
      "source": [
        "## اضافة سمات متعلقة اكثر بالمجال"
      ]
    },
    {
      "cell_type": "code",
      "execution_count": 40,
      "id": "fc44556b",
      "metadata": {
        "id": "fc44556b"
      },
      "outputs": [],
      "source": [
        "df['tagline_length'] = df['tagline'].apply(lambda x: len(str(x)))\n",
        "df['strong_sentiment'] = df['tagline_sentiment'].apply(lambda x: 1 if x >= 2 else 0)\n"
      ]
    }
  ],
  "metadata": {
    "colab": {
      "provenance": []
    },
    "kernelspec": {
      "display_name": "Python 3",
      "name": "python3"
    },
    "language_info": {
      "name": "python"
    }
  },
  "nbformat": 4,
  "nbformat_minor": 5
}
